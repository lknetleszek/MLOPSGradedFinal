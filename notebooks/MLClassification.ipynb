{
 "cells": [
  {
   "cell_type": "code",
   "execution_count": 1,
   "id": "57923e19",
   "metadata": {
    "_cell_guid": "b1076dfc-b9ad-4769-8c92-a6c4dae69d19",
    "_uuid": "8f2839f25d086af736a60e9eeb907d3b93b6e0e5",
    "execution": {
     "iopub.execute_input": "2025-03-30T13:39:56.865495Z",
     "iopub.status.busy": "2025-03-30T13:39:56.864990Z",
     "iopub.status.idle": "2025-03-30T13:39:59.697748Z",
     "shell.execute_reply": "2025-03-30T13:39:59.696508Z"
    },
    "papermill": {
     "duration": 2.839723,
     "end_time": "2025-03-30T13:39:59.699545",
     "exception": false,
     "start_time": "2025-03-30T13:39:56.859822",
     "status": "completed"
    },
    "tags": []
   },
   "outputs": [],
   "source": [
    "import warnings\n",
    "import pandas as pd\n",
    "import numpy as np\n",
    "import xgboost as xgb\n",
    "from sklearn.model_selection import train_test_split\n",
    "import matplotlib.pyplot as plt\n",
    "from sklearn.metrics import accuracy_score\n",
    "from sklearn.metrics import roc_curve, roc_auc_score\n",
    "\n",
    "df=pd.read_csv('/kaggle/input/users-vs-bots-classification/bots_vs_users.csv')\n",
    "#Disable warnings\n",
    "warnings.simplefilter(\"ignore\", RuntimeWarning)"
   ]
  },
  {
   "cell_type": "code",
   "execution_count": 2,
   "id": "559277b0",
   "metadata": {
    "execution": {
     "iopub.execute_input": "2025-03-30T13:39:59.707830Z",
     "iopub.status.busy": "2025-03-30T13:39:59.707485Z",
     "iopub.status.idle": "2025-03-30T13:39:59.758562Z",
     "shell.execute_reply": "2025-03-30T13:39:59.757388Z"
    },
    "papermill": {
     "duration": 0.057075,
     "end_time": "2025-03-30T13:39:59.760420",
     "exception": false,
     "start_time": "2025-03-30T13:39:59.703345",
     "status": "completed"
    },
    "tags": []
   },
   "outputs": [
    {
     "data": {
      "text/html": [
       "<div>\n",
       "<style scoped>\n",
       "    .dataframe tbody tr th:only-of-type {\n",
       "        vertical-align: middle;\n",
       "    }\n",
       "\n",
       "    .dataframe tbody tr th {\n",
       "        vertical-align: top;\n",
       "    }\n",
       "\n",
       "    .dataframe thead th {\n",
       "        text-align: right;\n",
       "    }\n",
       "</style>\n",
       "<table border=\"1\" class=\"dataframe\">\n",
       "  <thead>\n",
       "    <tr style=\"text-align: right;\">\n",
       "      <th></th>\n",
       "      <th>has_domain</th>\n",
       "      <th>has_birth_date</th>\n",
       "      <th>has_photo</th>\n",
       "      <th>can_post_on_wall</th>\n",
       "      <th>can_send_message</th>\n",
       "      <th>has_website</th>\n",
       "      <th>gender</th>\n",
       "      <th>has_short_name</th>\n",
       "      <th>has_first_name</th>\n",
       "      <th>has_last_name</th>\n",
       "      <th>...</th>\n",
       "      <th>ads_ratio</th>\n",
       "      <th>avg_views</th>\n",
       "      <th>posting_frequency_days</th>\n",
       "      <th>phone_numbers_ratio</th>\n",
       "      <th>avg_text_uniqueness</th>\n",
       "      <th>city</th>\n",
       "      <th>has_occupation</th>\n",
       "      <th>occupation_type_university</th>\n",
       "      <th>occupation_type_work</th>\n",
       "      <th>has_personal_data</th>\n",
       "    </tr>\n",
       "  </thead>\n",
       "  <tbody>\n",
       "    <tr>\n",
       "      <th>0</th>\n",
       "      <td>1.0</td>\n",
       "      <td>1.0</td>\n",
       "      <td>0.0</td>\n",
       "      <td>0.0</td>\n",
       "      <td>0.0</td>\n",
       "      <td>0.0</td>\n",
       "      <td>1.0</td>\n",
       "      <td>1.0</td>\n",
       "      <td>1.0</td>\n",
       "      <td>1.0</td>\n",
       "      <td>...</td>\n",
       "      <td>NaN</td>\n",
       "      <td>NaN</td>\n",
       "      <td>NaN</td>\n",
       "      <td>NaN</td>\n",
       "      <td>NaN</td>\n",
       "      <td>Unknown</td>\n",
       "      <td>Unknown</td>\n",
       "      <td>Unknown</td>\n",
       "      <td>Unknown</td>\n",
       "      <td>Unknown</td>\n",
       "    </tr>\n",
       "    <tr>\n",
       "      <th>1</th>\n",
       "      <td>1.0</td>\n",
       "      <td>1.0</td>\n",
       "      <td>0.0</td>\n",
       "      <td>0.0</td>\n",
       "      <td>0.0</td>\n",
       "      <td>0.0</td>\n",
       "      <td>1.0</td>\n",
       "      <td>1.0</td>\n",
       "      <td>1.0</td>\n",
       "      <td>1.0</td>\n",
       "      <td>...</td>\n",
       "      <td>NaN</td>\n",
       "      <td>NaN</td>\n",
       "      <td>NaN</td>\n",
       "      <td>NaN</td>\n",
       "      <td>NaN</td>\n",
       "      <td>Unknown</td>\n",
       "      <td>Unknown</td>\n",
       "      <td>Unknown</td>\n",
       "      <td>Unknown</td>\n",
       "      <td>Unknown</td>\n",
       "    </tr>\n",
       "    <tr>\n",
       "      <th>2</th>\n",
       "      <td>1.0</td>\n",
       "      <td>1.0</td>\n",
       "      <td>0.0</td>\n",
       "      <td>0.0</td>\n",
       "      <td>0.0</td>\n",
       "      <td>0.0</td>\n",
       "      <td>1.0</td>\n",
       "      <td>1.0</td>\n",
       "      <td>1.0</td>\n",
       "      <td>1.0</td>\n",
       "      <td>...</td>\n",
       "      <td>NaN</td>\n",
       "      <td>NaN</td>\n",
       "      <td>NaN</td>\n",
       "      <td>NaN</td>\n",
       "      <td>NaN</td>\n",
       "      <td>Unknown</td>\n",
       "      <td>Unknown</td>\n",
       "      <td>Unknown</td>\n",
       "      <td>Unknown</td>\n",
       "      <td>Unknown</td>\n",
       "    </tr>\n",
       "    <tr>\n",
       "      <th>3</th>\n",
       "      <td>1.0</td>\n",
       "      <td>1.0</td>\n",
       "      <td>0.0</td>\n",
       "      <td>0.0</td>\n",
       "      <td>0.0</td>\n",
       "      <td>0.0</td>\n",
       "      <td>1.0</td>\n",
       "      <td>1.0</td>\n",
       "      <td>1.0</td>\n",
       "      <td>1.0</td>\n",
       "      <td>...</td>\n",
       "      <td>NaN</td>\n",
       "      <td>NaN</td>\n",
       "      <td>NaN</td>\n",
       "      <td>NaN</td>\n",
       "      <td>NaN</td>\n",
       "      <td>Unknown</td>\n",
       "      <td>Unknown</td>\n",
       "      <td>Unknown</td>\n",
       "      <td>Unknown</td>\n",
       "      <td>Unknown</td>\n",
       "    </tr>\n",
       "    <tr>\n",
       "      <th>4</th>\n",
       "      <td>1.0</td>\n",
       "      <td>1.0</td>\n",
       "      <td>0.0</td>\n",
       "      <td>0.0</td>\n",
       "      <td>0.0</td>\n",
       "      <td>0.0</td>\n",
       "      <td>1.0</td>\n",
       "      <td>1.0</td>\n",
       "      <td>1.0</td>\n",
       "      <td>1.0</td>\n",
       "      <td>...</td>\n",
       "      <td>NaN</td>\n",
       "      <td>NaN</td>\n",
       "      <td>NaN</td>\n",
       "      <td>NaN</td>\n",
       "      <td>NaN</td>\n",
       "      <td>Unknown</td>\n",
       "      <td>Unknown</td>\n",
       "      <td>Unknown</td>\n",
       "      <td>Unknown</td>\n",
       "      <td>Unknown</td>\n",
       "    </tr>\n",
       "    <tr>\n",
       "      <th>...</th>\n",
       "      <td>...</td>\n",
       "      <td>...</td>\n",
       "      <td>...</td>\n",
       "      <td>...</td>\n",
       "      <td>...</td>\n",
       "      <td>...</td>\n",
       "      <td>...</td>\n",
       "      <td>...</td>\n",
       "      <td>...</td>\n",
       "      <td>...</td>\n",
       "      <td>...</td>\n",
       "      <td>...</td>\n",
       "      <td>...</td>\n",
       "      <td>...</td>\n",
       "      <td>...</td>\n",
       "      <td>...</td>\n",
       "      <td>...</td>\n",
       "      <td>...</td>\n",
       "      <td>...</td>\n",
       "      <td>...</td>\n",
       "      <td>...</td>\n",
       "    </tr>\n",
       "    <tr>\n",
       "      <th>5869</th>\n",
       "      <td>1.0</td>\n",
       "      <td>1.0</td>\n",
       "      <td>1.0</td>\n",
       "      <td>0.0</td>\n",
       "      <td>0.0</td>\n",
       "      <td>Unknown</td>\n",
       "      <td>2.0</td>\n",
       "      <td>1.0</td>\n",
       "      <td>1.0</td>\n",
       "      <td>1.0</td>\n",
       "      <td>...</td>\n",
       "      <td>NaN</td>\n",
       "      <td>NaN</td>\n",
       "      <td>NaN</td>\n",
       "      <td>NaN</td>\n",
       "      <td>NaN</td>\n",
       "      <td>Saint Petersburg</td>\n",
       "      <td>1.0</td>\n",
       "      <td>0.0</td>\n",
       "      <td>1.0</td>\n",
       "      <td>Unknown</td>\n",
       "    </tr>\n",
       "    <tr>\n",
       "      <th>5870</th>\n",
       "      <td>1.0</td>\n",
       "      <td>Unknown</td>\n",
       "      <td>1.0</td>\n",
       "      <td>0.0</td>\n",
       "      <td>0.0</td>\n",
       "      <td>Unknown</td>\n",
       "      <td>1.0</td>\n",
       "      <td>1.0</td>\n",
       "      <td>1.0</td>\n",
       "      <td>1.0</td>\n",
       "      <td>...</td>\n",
       "      <td>NaN</td>\n",
       "      <td>NaN</td>\n",
       "      <td>NaN</td>\n",
       "      <td>NaN</td>\n",
       "      <td>NaN</td>\n",
       "      <td>Saint Petersburg</td>\n",
       "      <td>1.0</td>\n",
       "      <td>1.0</td>\n",
       "      <td>0.0</td>\n",
       "      <td>Unknown</td>\n",
       "    </tr>\n",
       "    <tr>\n",
       "      <th>5871</th>\n",
       "      <td>1.0</td>\n",
       "      <td>1.0</td>\n",
       "      <td>0.0</td>\n",
       "      <td>0.0</td>\n",
       "      <td>0.0</td>\n",
       "      <td>1.0</td>\n",
       "      <td>2.0</td>\n",
       "      <td>1.0</td>\n",
       "      <td>1.0</td>\n",
       "      <td>1.0</td>\n",
       "      <td>...</td>\n",
       "      <td>NaN</td>\n",
       "      <td>NaN</td>\n",
       "      <td>NaN</td>\n",
       "      <td>NaN</td>\n",
       "      <td>NaN</td>\n",
       "      <td>Saint Petersburg</td>\n",
       "      <td>1.0</td>\n",
       "      <td>1.0</td>\n",
       "      <td>0.0</td>\n",
       "      <td>Unknown</td>\n",
       "    </tr>\n",
       "    <tr>\n",
       "      <th>5872</th>\n",
       "      <td>1.0</td>\n",
       "      <td>1.0</td>\n",
       "      <td>1.0</td>\n",
       "      <td>0.0</td>\n",
       "      <td>0.0</td>\n",
       "      <td>1.0</td>\n",
       "      <td>1.0</td>\n",
       "      <td>1.0</td>\n",
       "      <td>1.0</td>\n",
       "      <td>1.0</td>\n",
       "      <td>...</td>\n",
       "      <td>NaN</td>\n",
       "      <td>NaN</td>\n",
       "      <td>NaN</td>\n",
       "      <td>NaN</td>\n",
       "      <td>NaN</td>\n",
       "      <td>Moscow</td>\n",
       "      <td>1.0</td>\n",
       "      <td>0.0</td>\n",
       "      <td>1.0</td>\n",
       "      <td>Unknown</td>\n",
       "    </tr>\n",
       "    <tr>\n",
       "      <th>5873</th>\n",
       "      <td>1.0</td>\n",
       "      <td>1.0</td>\n",
       "      <td>1.0</td>\n",
       "      <td>0.0</td>\n",
       "      <td>1.0</td>\n",
       "      <td>1.0</td>\n",
       "      <td>1.0</td>\n",
       "      <td>1.0</td>\n",
       "      <td>1.0</td>\n",
       "      <td>1.0</td>\n",
       "      <td>...</td>\n",
       "      <td>0.0</td>\n",
       "      <td>431.3</td>\n",
       "      <td>17.79</td>\n",
       "      <td>0.0</td>\n",
       "      <td>0.61</td>\n",
       "      <td>Saint Petersburg</td>\n",
       "      <td>1.0</td>\n",
       "      <td>0.0</td>\n",
       "      <td>1.0</td>\n",
       "      <td>1.0</td>\n",
       "    </tr>\n",
       "  </tbody>\n",
       "</table>\n",
       "<p>5874 rows × 60 columns</p>\n",
       "</div>"
      ],
      "text/plain": [
       "     has_domain has_birth_date has_photo can_post_on_wall can_send_message  \\\n",
       "0           1.0            1.0       0.0              0.0              0.0   \n",
       "1           1.0            1.0       0.0              0.0              0.0   \n",
       "2           1.0            1.0       0.0              0.0              0.0   \n",
       "3           1.0            1.0       0.0              0.0              0.0   \n",
       "4           1.0            1.0       0.0              0.0              0.0   \n",
       "...         ...            ...       ...              ...              ...   \n",
       "5869        1.0            1.0       1.0              0.0              0.0   \n",
       "5870        1.0        Unknown       1.0              0.0              0.0   \n",
       "5871        1.0            1.0       0.0              0.0              0.0   \n",
       "5872        1.0            1.0       1.0              0.0              0.0   \n",
       "5873        1.0            1.0       1.0              0.0              1.0   \n",
       "\n",
       "     has_website gender has_short_name has_first_name has_last_name  ...  \\\n",
       "0            0.0    1.0            1.0            1.0           1.0  ...   \n",
       "1            0.0    1.0            1.0            1.0           1.0  ...   \n",
       "2            0.0    1.0            1.0            1.0           1.0  ...   \n",
       "3            0.0    1.0            1.0            1.0           1.0  ...   \n",
       "4            0.0    1.0            1.0            1.0           1.0  ...   \n",
       "...          ...    ...            ...            ...           ...  ...   \n",
       "5869     Unknown    2.0            1.0            1.0           1.0  ...   \n",
       "5870     Unknown    1.0            1.0            1.0           1.0  ...   \n",
       "5871         1.0    2.0            1.0            1.0           1.0  ...   \n",
       "5872         1.0    1.0            1.0            1.0           1.0  ...   \n",
       "5873         1.0    1.0            1.0            1.0           1.0  ...   \n",
       "\n",
       "     ads_ratio avg_views  posting_frequency_days phone_numbers_ratio  \\\n",
       "0          NaN       NaN                     NaN                 NaN   \n",
       "1          NaN       NaN                     NaN                 NaN   \n",
       "2          NaN       NaN                     NaN                 NaN   \n",
       "3          NaN       NaN                     NaN                 NaN   \n",
       "4          NaN       NaN                     NaN                 NaN   \n",
       "...        ...       ...                     ...                 ...   \n",
       "5869       NaN       NaN                     NaN                 NaN   \n",
       "5870       NaN       NaN                     NaN                 NaN   \n",
       "5871       NaN       NaN                     NaN                 NaN   \n",
       "5872       NaN       NaN                     NaN                 NaN   \n",
       "5873       0.0     431.3                   17.79                 0.0   \n",
       "\n",
       "     avg_text_uniqueness              city has_occupation  \\\n",
       "0                    NaN           Unknown        Unknown   \n",
       "1                    NaN           Unknown        Unknown   \n",
       "2                    NaN           Unknown        Unknown   \n",
       "3                    NaN           Unknown        Unknown   \n",
       "4                    NaN           Unknown        Unknown   \n",
       "...                  ...               ...            ...   \n",
       "5869                 NaN  Saint Petersburg            1.0   \n",
       "5870                 NaN  Saint Petersburg            1.0   \n",
       "5871                 NaN  Saint Petersburg            1.0   \n",
       "5872                 NaN            Moscow            1.0   \n",
       "5873                0.61  Saint Petersburg            1.0   \n",
       "\n",
       "     occupation_type_university occupation_type_work has_personal_data  \n",
       "0                       Unknown              Unknown           Unknown  \n",
       "1                       Unknown              Unknown           Unknown  \n",
       "2                       Unknown              Unknown           Unknown  \n",
       "3                       Unknown              Unknown           Unknown  \n",
       "4                       Unknown              Unknown           Unknown  \n",
       "...                         ...                  ...               ...  \n",
       "5869                        0.0                  1.0           Unknown  \n",
       "5870                        1.0                  0.0           Unknown  \n",
       "5871                        1.0                  0.0           Unknown  \n",
       "5872                        0.0                  1.0           Unknown  \n",
       "5873                        0.0                  1.0               1.0  \n",
       "\n",
       "[5874 rows x 60 columns]"
      ]
     },
     "execution_count": 2,
     "metadata": {},
     "output_type": "execute_result"
    }
   ],
   "source": [
    "df"
   ]
  },
  {
   "cell_type": "code",
   "execution_count": 3,
   "id": "a6de97a7",
   "metadata": {
    "execution": {
     "iopub.execute_input": "2025-03-30T13:39:59.769314Z",
     "iopub.status.busy": "2025-03-30T13:39:59.768897Z",
     "iopub.status.idle": "2025-03-30T13:39:59.833835Z",
     "shell.execute_reply": "2025-03-30T13:39:59.832784Z"
    },
    "papermill": {
     "duration": 0.071455,
     "end_time": "2025-03-30T13:39:59.835741",
     "exception": false,
     "start_time": "2025-03-30T13:39:59.764286",
     "status": "completed"
    },
    "tags": []
   },
   "outputs": [],
   "source": [
    "X = df.drop(columns=['target'])\n",
    "y = df['target']\n",
    "\n",
    "#Selecting categorical features\n",
    "for col in X.select_dtypes(include=['object']).columns:\n",
    "    X[col] = X[col].astype('category')"
   ]
  },
  {
   "cell_type": "code",
   "execution_count": 4,
   "id": "1b39bec8",
   "metadata": {
    "execution": {
     "iopub.execute_input": "2025-03-30T13:39:59.844759Z",
     "iopub.status.busy": "2025-03-30T13:39:59.844377Z",
     "iopub.status.idle": "2025-03-30T13:39:59.924159Z",
     "shell.execute_reply": "2025-03-30T13:39:59.922158Z"
    },
    "papermill": {
     "duration": 0.087039,
     "end_time": "2025-03-30T13:39:59.926829",
     "exception": false,
     "start_time": "2025-03-30T13:39:59.839790",
     "status": "completed"
    },
    "tags": []
   },
   "outputs": [],
   "source": [
    "#Splitting data and transforming into Dmatrix\n",
    "X_train, X_test, y_train, y_test = train_test_split(X, y, test_size=0.2,stratify=y)\n",
    "dtrain = xgb.DMatrix(X_train, label=y_train, enable_categorical=True)\n",
    "dtest = xgb.DMatrix(X_test, label=y_test, enable_categorical=True)"
   ]
  },
  {
   "cell_type": "code",
   "execution_count": 5,
   "id": "6636d926",
   "metadata": {
    "execution": {
     "iopub.execute_input": "2025-03-30T13:39:59.935733Z",
     "iopub.status.busy": "2025-03-30T13:39:59.935352Z",
     "iopub.status.idle": "2025-03-30T13:39:59.939876Z",
     "shell.execute_reply": "2025-03-30T13:39:59.938835Z"
    },
    "papermill": {
     "duration": 0.010869,
     "end_time": "2025-03-30T13:39:59.941595",
     "exception": false,
     "start_time": "2025-03-30T13:39:59.930726",
     "status": "completed"
    },
    "tags": []
   },
   "outputs": [],
   "source": [
    "#Define custom accuracy metric\n",
    "def accuracy(preds, dtrain):\n",
    "    labels = dtrain.get_label()\n",
    "    return 'accuracy', float(sum(labels == (preds > 0.5))) / len(labels)"
   ]
  },
  {
   "cell_type": "code",
   "execution_count": 6,
   "id": "cccbe5fe",
   "metadata": {
    "execution": {
     "iopub.execute_input": "2025-03-30T13:39:59.950175Z",
     "iopub.status.busy": "2025-03-30T13:39:59.949830Z",
     "iopub.status.idle": "2025-03-30T13:39:59.953947Z",
     "shell.execute_reply": "2025-03-30T13:39:59.953096Z"
    },
    "papermill": {
     "duration": 0.010079,
     "end_time": "2025-03-30T13:39:59.955544",
     "exception": false,
     "start_time": "2025-03-30T13:39:59.945465",
     "status": "completed"
    },
    "tags": []
   },
   "outputs": [],
   "source": [
    "evals = [(dtrain, 'train'), (dtest, 'test')]\n",
    "evals_result = {}"
   ]
  },
  {
   "cell_type": "code",
   "execution_count": 7,
   "id": "c30ad7f8",
   "metadata": {
    "execution": {
     "iopub.execute_input": "2025-03-30T13:39:59.964531Z",
     "iopub.status.busy": "2025-03-30T13:39:59.964124Z",
     "iopub.status.idle": "2025-03-30T13:40:00.714687Z",
     "shell.execute_reply": "2025-03-30T13:40:00.713775Z"
    },
    "papermill": {
     "duration": 0.758291,
     "end_time": "2025-03-30T13:40:00.717647",
     "exception": false,
     "start_time": "2025-03-30T13:39:59.959356",
     "status": "completed"
    },
    "tags": []
   },
   "outputs": [],
   "source": [
    "#Define model parametrs\n",
    "params = {\n",
    "    'objective': 'binary:logistic',\n",
    "    'eval_metric': 'error'\n",
    "}\n",
    "\n",
    "#Define model and start training\n",
    "model = xgb.train(\n",
    "    params=params,\n",
    "    dtrain=dtrain,\n",
    "    num_boost_round=100,\n",
    "    evals=[(dtrain, 'train'), (dtest, 'test')],\n",
    "    custom_metric=accuracy,\n",
    "    evals_result=evals_result,\n",
    "    verbose_eval=0\n",
    ")"
   ]
  },
  {
   "cell_type": "code",
   "execution_count": 8,
   "id": "6464d1cc",
   "metadata": {
    "execution": {
     "iopub.execute_input": "2025-03-30T13:40:00.727006Z",
     "iopub.status.busy": "2025-03-30T13:40:00.726639Z",
     "iopub.status.idle": "2025-03-30T13:40:00.731463Z",
     "shell.execute_reply": "2025-03-30T13:40:00.730100Z"
    },
    "papermill": {
     "duration": 0.01268,
     "end_time": "2025-03-30T13:40:00.734376",
     "exception": false,
     "start_time": "2025-03-30T13:40:00.721696",
     "status": "completed"
    },
    "tags": []
   },
   "outputs": [],
   "source": [
    "train_acc = evals_result['train']['accuracy']\n",
    "test_acc = evals_result['test']['accuracy']"
   ]
  },
  {
   "cell_type": "code",
   "execution_count": 9,
   "id": "fab74483",
   "metadata": {
    "execution": {
     "iopub.execute_input": "2025-03-30T13:40:00.745792Z",
     "iopub.status.busy": "2025-03-30T13:40:00.745392Z",
     "iopub.status.idle": "2025-03-30T13:40:01.093405Z",
     "shell.execute_reply": "2025-03-30T13:40:01.092347Z"
    },
    "papermill": {
     "duration": 0.355525,
     "end_time": "2025-03-30T13:40:01.094987",
     "exception": false,
     "start_time": "2025-03-30T13:40:00.739462",
     "status": "completed"
    },
    "tags": []
   },
   "outputs": [
    {
     "data": {
      "image/png": "[encoded data removed]",
      "text/plain": [
       "<Figure size 640x480 with 1 Axes>"
      ]
     },
     "metadata": {},
     "output_type": "display_data"
    }
   ],
   "source": [
    "plt.plot(test_acc,label='Test',linestyle='--',color='r')\n",
    "plt.plot(train_acc,label='Train',linestyle='--',color='b')\n",
    "plt.grid()\n",
    "plt.xlabel('Epoch')\n",
    "plt.ylabel('Accuracy')\n",
    "plt.xticks([i*10 for i in range(11)])\n",
    "plt.legend()\n",
    "plt.show()"
   ]
  },
  {
   "cell_type": "code",
   "execution_count": 10,
   "id": "f05e445d",
   "metadata": {
    "execution": {
     "iopub.execute_input": "2025-03-30T13:40:01.105557Z",
     "iopub.status.busy": "2025-03-30T13:40:01.105151Z",
     "iopub.status.idle": "2025-03-30T13:40:01.121504Z",
     "shell.execute_reply": "2025-03-30T13:40:01.120442Z"
    },
    "papermill": {
     "duration": 0.023775,
     "end_time": "2025-03-30T13:40:01.123415",
     "exception": false,
     "start_time": "2025-03-30T13:40:01.099640",
     "status": "completed"
    },
    "tags": []
   },
   "outputs": [],
   "source": [
    "#Calculating fpr and tpr to plot ROC\n",
    "y_pred_proba = model.predict(dtest)\n",
    "fpr, tpr, thresholds = roc_curve(y_test, y_pred_proba)\n",
    "roc_auc = roc_auc_score(y_test, y_pred_proba)"
   ]
  },
  {
   "cell_type": "code",
   "execution_count": 11,
   "id": "7cdbe38d",
   "metadata": {
    "execution": {
     "iopub.execute_input": "2025-03-30T13:40:01.134011Z",
     "iopub.status.busy": "2025-03-30T13:40:01.133684Z",
     "iopub.status.idle": "2025-03-30T13:40:01.372929Z",
     "shell.execute_reply": "2025-03-30T13:40:01.371633Z"
    },
    "papermill": {
     "duration": 0.246812,
     "end_time": "2025-03-30T13:40:01.374904",
     "exception": false,
     "start_time": "2025-03-30T13:40:01.128092",
     "status": "completed"
    },
    "tags": []
   },
   "outputs": [
    {
     "data": {
      "image/png": "[encoded data removed]",
      "text/plain": [
       "<Figure size 800x600 with 1 Axes>"
      ]
     },
     "metadata": {},
     "output_type": "display_data"
    }
   ],
   "source": [
    "plt.figure(figsize=(8, 6))\n",
    "plt.plot(fpr, tpr, color='darkorange', lw=2, \n",
    "         label=f'ROC Curve (AUC = {roc_auc:.2f})')\n",
    "plt.plot([0, 1], [0, 1], color='navy', lw=2, linestyle='--')\n",
    "plt.xlim([0.0, 1.0])\n",
    "plt.ylim([0.0, 1.05])\n",
    "plt.xlabel('False Positive Rate')\n",
    "plt.ylabel('True Positive Rate')\n",
    "plt.title('ROC-curve')\n",
    "plt.legend(loc=\"lower right\")\n",
    "plt.grid()\n",
    "plt.show()"
   ]
  },
  {
   "cell_type": "code",
   "execution_count": 12,
   "id": "dc273873",
   "metadata": {
    "execution": {
     "iopub.execute_input": "2025-03-30T13:40:01.388164Z",
     "iopub.status.busy": "2025-03-30T13:40:01.387798Z",
     "iopub.status.idle": "2025-03-30T13:40:01.395972Z",
     "shell.execute_reply": "2025-03-30T13:40:01.394350Z"
    },
    "papermill": {
     "duration": 0.016474,
     "end_time": "2025-03-30T13:40:01.397882",
     "exception": false,
     "start_time": "2025-03-30T13:40:01.381408",
     "status": "completed"
    },
    "tags": []
   },
   "outputs": [
    {
     "name": "stdout",
     "output_type": "stream",
     "text": [
      "Test Accuracy: 0.9787\n"
     ]
    }
   ],
   "source": [
    "#Final test accuracy\n",
    "y_pred = (y_pred_proba > 0.5).astype(int)\n",
    "accuracy = accuracy_score(y_test, y_pred)\n",
    "print(f\"Test Accuracy: {accuracy:.4f}\")"
   ]
  }
 ],
 "metadata": {
  "kaggle": {
   "accelerator": "none",
   "dataSources": [
    {
     "datasetId": 6999922,
     "sourceId": 11210377,
     "sourceType": "datasetVersion"
    }
   ],
   "dockerImageVersionId": 30918,
   "isGpuEnabled": false,
   "isInternetEnabled": true,
   "language": "python",
   "sourceType": "notebook"
  },
  "kernelspec": {
   "display_name": "Python 3",
   "language": "python",
   "name": "python3"
  },
  "language_info": {
   "codemirror_mode": {
    "name": "ipython",
    "version": 3
   },
   "file_extension": ".py",
   "mimetype": "text/x-python",
   "name": "python",
   "nbconvert_exporter": "python",
   "pygments_lexer": "ipython3",
   "version": "3.10.12"
  },
  "papermill": {
   "default_parameters": {},
   "duration": 8.224939,
   "end_time": "2025-03-30T13:40:02.124809",
   "environment_variables": {},
   "exception": null,
   "input_path": "__notebook__.ipynb",
   "output_path": "__notebook__.ipynb",
   "parameters": {},
   "start_time": "2025-03-30T13:39:53.899870",
   "version": "2.6.0"
  }
 },
 "nbformat": 4,
 "nbformat_minor": 5
}
