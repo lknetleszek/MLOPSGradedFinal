{
 "cells": [
  {
   "cell_type": "markdown",
   "id": "b0e9291a-2cb2-4c21-ba31-f362de7f300c",
   "metadata": {
    "editable": false,
    "slideshow": {
     "slide_type": "slide"
    },
    "tags": []
   },
   "source": [
    "## Version 4\n",
    "Getting started with MLflow."
   ]
  },
  {
   "cell_type": "markdown",
   "id": "f05f223c",
   "metadata": {},
   "source": [
    "Add autoreload since we are now modifying scripts in other folders."
   ]
  },
  {
   "cell_type": "code",
   "execution_count": 22,
   "id": "dde9a1d4",
   "metadata": {},
   "outputs": [
    {
     "name": "stdout",
     "output_type": "stream",
     "text": [
      "The autoreload extension is already loaded. To reload it, use:\n",
      "  %reload_ext autoreload\n"
     ]
    }
   ],
   "source": [
    "%load_ext autoreload\n",
    "%autoreload 2"
   ]
  },
  {
   "cell_type": "markdown",
   "id": "9e74b72a-4dd5-4a2d-8b23-58443dd4c862",
   "metadata": {
    "editable": false,
    "slideshow": {
     "slide_type": "slide"
    },
    "tags": []
   },
   "source": [
    "Getting the data."
   ]
  },
  {
   "cell_type": "code",
   "execution_count": 23,
   "id": "3a6c9068",
   "metadata": {},
   "outputs": [],
   "source": [
    "\n",
    "import os\n",
    "from pathlib import Path\n",
    "container_check = os.getenv(\"iscontainer\")\n",
    "if container_check==\"y\":\n",
    "    config_dir = Path(\"/home/vscode/.config/kaggle\")\n",
    "    config_dir.mkdir(parents=True, exist_ok=True)\n",
    "\n",
    "    with open(config_dir / \"kaggle.json\", \"w\") as dst:\n",
    "        with open(\"../kaggle.json\", \"r\") as src:\n",
    "            dst.write(src.read())"
   ]
  },
  {
   "cell_type": "code",
   "execution_count": 24,
   "id": "33798031-5b84-404d-8934-ff0e9d243db4",
   "metadata": {
    "editable": true,
    "slideshow": {
     "slide_type": "subslide"
    },
    "tags": []
   },
   "outputs": [],
   "source": [
    "\n",
    "import os\n",
    "import sys\n",
    "\n",
    "sys.path.append(os.path.abspath(\"..\"))\n",
    "\n",
    "from ARISA_DSML.config import RAW_DATA_DIR, categorical, target\n",
    "from ARISA_DSML.preproc import get_raw_data\n"
   ]
  },
  {
   "cell_type": "code",
   "execution_count": 25,
   "id": "5300cae0",
   "metadata": {},
   "outputs": [
    {
     "data": {
      "text/plain": [
       "'44a24bc4e8297e73797563b8cb6141234df9027b'"
      ]
     },
     "execution_count": 25,
     "metadata": {},
     "output_type": "execute_result"
    }
   ],
   "source": [
    "from ARISA_DSML.helpers import get_active_branch_name, get_git_commit_hash\n",
    "\n",
    "get_active_branch_name(\"..\")  # need \"..\" because we are not in root\n",
    "get_git_commit_hash()\n"
   ]
  },
  {
   "cell_type": "code",
   "execution_count": 27,
   "id": "0a42389d-e7af-4a9c-bf0d-58017bf9688b",
   "metadata": {
    "editable": true,
    "slideshow": {
     "slide_type": "subslide"
    },
    "tags": []
   },
   "outputs": [
    {
     "name": "stderr",
     "output_type": "stream",
     "text": [
      "\u001b[32m2025-06-19 22:32:37.101\u001b[0m | \u001b[1mINFO    \u001b[0m | \u001b[36mARISA_DSML.preproc\u001b[0m:\u001b[36mget_raw_data\u001b[0m:\u001b[36m19\u001b[0m - \u001b[1mRAW_DATA_DIR is: /home/lkwasniewski/repos/00001_Studia/MLOPSGradedFinal/data/raw\u001b[0m\n"
     ]
    },
    {
     "name": "stdout",
     "output_type": "stream",
     "text": [
      "Dataset URL: https://www.kaggle.com/datasets/uciml/pima-indians-diabetes-database\n",
      "bots_vs_users.csv  diabetes_new_test.csv  test.csv\n",
      "diabetes.csv\t   diabetes_test.csv\n"
     ]
    }
   ],
   "source": [
    "get_raw_data()\n",
    "!dir \"{RAW_DATA_DIR}\""
   ]
  },
  {
   "cell_type": "markdown",
   "id": "890bca88-b545-4226-ae7f-64b1388190fd",
   "metadata": {
    "editable": false,
    "slideshow": {
     "slide_type": "slide"
    },
    "tags": []
   },
   "source": [
    "Load preproc from preproc.py and run on train data:"
   ]
  },
  {
   "cell_type": "code",
   "execution_count": 37,
   "id": "9b6f248e",
   "metadata": {},
   "outputs": [
    {
     "name": "stderr",
     "output_type": "stream",
     "text": [
      "/home/lkwasniewski/repos/00001_Studia/MLOPSGradedFinal/ARISA_DSML/preproc.py:33: FutureWarning: Downcasting object dtype arrays on .fillna, .ffill, .bfill is deprecated and will change in a future version. Call result.infer_objects(copy=False) instead. To opt-in to the future behavior, set `pd.set_option('future.no_silent_downcasting', True)`\n",
      "  df_data[col] = df_data[col].fillna(df_data[col].median())\n",
      "/home/lkwasniewski/repos/00001_Studia/MLOPSGradedFinal/ARISA_DSML/preproc.py:33: FutureWarning: Downcasting object dtype arrays on .fillna, .ffill, .bfill is deprecated and will change in a future version. Call result.infer_objects(copy=False) instead. To opt-in to the future behavior, set `pd.set_option('future.no_silent_downcasting', True)`\n",
      "  df_data[col] = df_data[col].fillna(df_data[col].median())\n",
      "/home/lkwasniewski/repos/00001_Studia/MLOPSGradedFinal/ARISA_DSML/preproc.py:33: FutureWarning: Downcasting object dtype arrays on .fillna, .ffill, .bfill is deprecated and will change in a future version. Call result.infer_objects(copy=False) instead. To opt-in to the future behavior, set `pd.set_option('future.no_silent_downcasting', True)`\n",
      "  df_data[col] = df_data[col].fillna(df_data[col].median())\n",
      "/home/lkwasniewski/repos/00001_Studia/MLOPSGradedFinal/ARISA_DSML/preproc.py:33: FutureWarning: Downcasting object dtype arrays on .fillna, .ffill, .bfill is deprecated and will change in a future version. Call result.infer_objects(copy=False) instead. To opt-in to the future behavior, set `pd.set_option('future.no_silent_downcasting', True)`\n",
      "  df_data[col] = df_data[col].fillna(df_data[col].median())\n",
      "/home/lkwasniewski/repos/00001_Studia/MLOPSGradedFinal/ARISA_DSML/preproc.py:33: FutureWarning: Downcasting object dtype arrays on .fillna, .ffill, .bfill is deprecated and will change in a future version. Call result.infer_objects(copy=False) instead. To opt-in to the future behavior, set `pd.set_option('future.no_silent_downcasting', True)`\n",
      "  df_data[col] = df_data[col].fillna(df_data[col].median())\n"
     ]
    }
   ],
   "source": [
    "from ARISA_DSML.preproc import preprocess_df\n",
    "\n",
    "train_path = preprocess_df(RAW_DATA_DIR / \"diabetes.csv\")"
   ]
  },
  {
   "cell_type": "code",
   "execution_count": 38,
   "id": "dc30e56d",
   "metadata": {},
   "outputs": [
    {
     "data": {
      "text/plain": [
       "PosixPath('/home/lkwasniewski/repos/00001_Studia/MLOPSGradedFinal/data/processed/diabetes.csv')"
      ]
     },
     "execution_count": 38,
     "metadata": {},
     "output_type": "execute_result"
    }
   ],
   "source": [
    "train_path"
   ]
  },
  {
   "cell_type": "code",
   "execution_count": 39,
   "id": "9fdfb560-31d7-42e8-8f6a-8a1f206bad56",
   "metadata": {
    "editable": true,
    "slideshow": {
     "slide_type": "subslide"
    },
    "tags": []
   },
   "outputs": [
    {
     "data": {
      "text/html": [
       "<div>\n",
       "<style scoped>\n",
       "    .dataframe tbody tr th:only-of-type {\n",
       "        vertical-align: middle;\n",
       "    }\n",
       "\n",
       "    .dataframe tbody tr th {\n",
       "        vertical-align: top;\n",
       "    }\n",
       "\n",
       "    .dataframe thead th {\n",
       "        text-align: right;\n",
       "    }\n",
       "</style>\n",
       "<table border=\"1\" class=\"dataframe\">\n",
       "  <thead>\n",
       "    <tr style=\"text-align: right;\">\n",
       "      <th></th>\n",
       "      <th>Pregnancies</th>\n",
       "      <th>Glucose</th>\n",
       "      <th>BloodPressure</th>\n",
       "      <th>SkinThickness</th>\n",
       "      <th>Insulin</th>\n",
       "      <th>BMI</th>\n",
       "      <th>DiabetesPedigreeFunction</th>\n",
       "      <th>Age</th>\n",
       "      <th>Outcome</th>\n",
       "    </tr>\n",
       "  </thead>\n",
       "  <tbody>\n",
       "    <tr>\n",
       "      <th>0</th>\n",
       "      <td>6</td>\n",
       "      <td>148.0</td>\n",
       "      <td>72.0</td>\n",
       "      <td>35.0</td>\n",
       "      <td>125.0</td>\n",
       "      <td>33.6</td>\n",
       "      <td>0.627</td>\n",
       "      <td>50</td>\n",
       "      <td>1</td>\n",
       "    </tr>\n",
       "    <tr>\n",
       "      <th>1</th>\n",
       "      <td>1</td>\n",
       "      <td>85.0</td>\n",
       "      <td>66.0</td>\n",
       "      <td>29.0</td>\n",
       "      <td>125.0</td>\n",
       "      <td>26.6</td>\n",
       "      <td>0.351</td>\n",
       "      <td>31</td>\n",
       "      <td>0</td>\n",
       "    </tr>\n",
       "    <tr>\n",
       "      <th>2</th>\n",
       "      <td>8</td>\n",
       "      <td>183.0</td>\n",
       "      <td>64.0</td>\n",
       "      <td>29.0</td>\n",
       "      <td>125.0</td>\n",
       "      <td>23.3</td>\n",
       "      <td>0.672</td>\n",
       "      <td>32</td>\n",
       "      <td>1</td>\n",
       "    </tr>\n",
       "    <tr>\n",
       "      <th>3</th>\n",
       "      <td>1</td>\n",
       "      <td>89.0</td>\n",
       "      <td>66.0</td>\n",
       "      <td>23.0</td>\n",
       "      <td>94.0</td>\n",
       "      <td>28.1</td>\n",
       "      <td>0.167</td>\n",
       "      <td>21</td>\n",
       "      <td>0</td>\n",
       "    </tr>\n",
       "    <tr>\n",
       "      <th>4</th>\n",
       "      <td>0</td>\n",
       "      <td>137.0</td>\n",
       "      <td>40.0</td>\n",
       "      <td>35.0</td>\n",
       "      <td>168.0</td>\n",
       "      <td>43.1</td>\n",
       "      <td>2.288</td>\n",
       "      <td>33</td>\n",
       "      <td>1</td>\n",
       "    </tr>\n",
       "  </tbody>\n",
       "</table>\n",
       "</div>"
      ],
      "text/plain": [
       "   Pregnancies  Glucose  BloodPressure  SkinThickness  Insulin   BMI  \\\n",
       "0            6    148.0           72.0           35.0    125.0  33.6   \n",
       "1            1     85.0           66.0           29.0    125.0  26.6   \n",
       "2            8    183.0           64.0           29.0    125.0  23.3   \n",
       "3            1     89.0           66.0           23.0     94.0  28.1   \n",
       "4            0    137.0           40.0           35.0    168.0  43.1   \n",
       "\n",
       "   DiabetesPedigreeFunction  Age  Outcome  \n",
       "0                     0.627   50        1  \n",
       "1                     0.351   31        0  \n",
       "2                     0.672   32        1  \n",
       "3                     0.167   21        0  \n",
       "4                     2.288   33        1  "
      ]
     },
     "execution_count": 39,
     "metadata": {},
     "output_type": "execute_result"
    }
   ],
   "source": [
    "import pandas as pd\n",
    "\n",
    "df_train = pd.read_csv(train_path)\n",
    "df_train.head()"
   ]
  },
  {
   "cell_type": "code",
   "execution_count": 40,
   "id": "ff0bf760-97b2-4e78-8eb3-d4e8c118f1fd",
   "metadata": {
    "editable": true,
    "slideshow": {
     "slide_type": "subslide"
    },
    "tags": []
   },
   "outputs": [
    {
     "name": "stdout",
     "output_type": "stream",
     "text": [
      "<class 'pandas.core.frame.DataFrame'>\n",
      "RangeIndex: 768 entries, 0 to 767\n",
      "Data columns (total 9 columns):\n",
      " #   Column                    Non-Null Count  Dtype  \n",
      "---  ------                    --------------  -----  \n",
      " 0   Pregnancies               768 non-null    int64  \n",
      " 1   Glucose                   768 non-null    float64\n",
      " 2   BloodPressure             768 non-null    float64\n",
      " 3   SkinThickness             768 non-null    float64\n",
      " 4   Insulin                   768 non-null    float64\n",
      " 5   BMI                       768 non-null    float64\n",
      " 6   DiabetesPedigreeFunction  768 non-null    float64\n",
      " 7   Age                       768 non-null    int64  \n",
      " 8   Outcome                   768 non-null    int64  \n",
      "dtypes: float64(6), int64(3)\n",
      "memory usage: 54.1 KB\n"
     ]
    }
   ],
   "source": [
    "df_train.info()"
   ]
  },
  {
   "cell_type": "markdown",
   "id": "b2145d99",
   "metadata": {},
   "source": [
    "Split into X and y, get categorical indices:"
   ]
  },
  {
   "cell_type": "code",
   "execution_count": 41,
   "id": "81802920",
   "metadata": {},
   "outputs": [
    {
     "name": "stdout",
     "output_type": "stream",
     "text": [
      "['Pregnancies', 'Glucose', 'BloodPressure', 'SkinThickness', 'Insulin', 'BMI', 'DiabetesPedigreeFunction', 'Age', 'Outcome']\n"
     ]
    }
   ],
   "source": [
    "print(df_train.columns.tolist())"
   ]
  },
  {
   "cell_type": "code",
   "execution_count": 42,
   "id": "25939d38-d8f1-409d-99a5-5422918d46b6",
   "metadata": {
    "editable": true,
    "slideshow": {
     "slide_type": "subslide"
    },
    "tags": []
   },
   "outputs": [],
   "source": [
    "y_train = df_train.pop(target)\n",
    "X_train = df_train\n",
    "\n",
    "#categorical_indices = [X_train.columns.get_loc(col) for col in categorical if col in X_train.columns]\n",
    "cacategorical = []\n",
    "categorical_indices = []"
   ]
  },
  {
   "cell_type": "markdown",
   "id": "37229885-44d0-479e-81d0-0dcae5bfd507",
   "metadata": {
    "editable": false,
    "slideshow": {
     "slide_type": "slide"
    },
    "tags": []
   },
   "source": [
    "And run the hyperparameter optimization (if ):"
   ]
  },
  {
   "cell_type": "code",
   "execution_count": 44,
   "id": "4891bf8c-64b0-4735-8d2f-03425d886925",
   "metadata": {
    "editable": true,
    "slideshow": {
     "slide_type": "subslide"
    },
    "tags": []
   },
   "outputs": [
    {
     "name": "stderr",
     "output_type": "stream",
     "text": [
      "\u001b[32m2025-06-19 22:39:07.337\u001b[0m | \u001b[1mINFO    \u001b[0m | \u001b[36mARISA_DSML.train\u001b[0m:\u001b[36mrun_hyperopt\u001b[0m:\u001b[36m82\u001b[0m - \u001b[1mBest Parameters: {'depth': 3, 'learning_rate': 0.2847856453953337, 'iterations': 101, 'l2_leaf_reg': 0.08064725446361332, 'bagging_temperature': 0.4441828029429478, 'random_strength': 9.931197047043607}\u001b[0m\n"
     ]
    }
   ],
   "source": [
    "import mlflow\n",
    "from ARISA_DSML.train import run_hyperopt, get_or_create_experiment\n",
    "\n",
    "mlflow.set_tracking_uri(f\"http://127.0.0.1:5000\")\n",
    "\n",
    "experiment_id = get_or_create_experiment(\"diabetes_hyperparam_tuning\")\n",
    "mlflow.set_experiment(experiment_id=experiment_id)\n",
    "best_params_path = run_hyperopt(X_train, y_train, categorical_indices)\n"
   ]
  },
  {
   "cell_type": "code",
   "execution_count": 45,
   "id": "5bda7ece",
   "metadata": {},
   "outputs": [
    {
     "name": "stdout",
     "output_type": "stream",
     "text": [
      "[]\n"
     ]
    }
   ],
   "source": [
    "print([X_train.columns[i] for i in categorical_indices])"
   ]
  },
  {
   "cell_type": "markdown",
   "id": "8af73d1c-bb53-47e5-bc84-293972e6837c",
   "metadata": {
    "editable": false,
    "slideshow": {
     "slide_type": "slide"
    },
    "tags": []
   },
   "source": [
    "Do cross validation again:"
   ]
  },
  {
   "cell_type": "code",
   "execution_count": 46,
   "id": "f54fd995-ebc1-4adc-86c9-595fe90243cc",
   "metadata": {
    "editable": true,
    "scrolled": true,
    "slideshow": {
     "slide_type": "subslide"
    },
    "tags": []
   },
   "outputs": [
    {
     "data": {
      "application/vnd.jupyter.widget-view+json": {
       "model_id": "5bab1946c88549839adc6a1282ab5afc",
       "version_major": 2,
       "version_minor": 0
      },
      "text/plain": [
       "MetricVisualizer(layout=Layout(align_self='stretch', height='500px'))"
      ]
     },
     "metadata": {},
     "output_type": "display_data"
    },
    {
     "name": "stdout",
     "output_type": "stream",
     "text": [
      "Training on fold [0/5]\n",
      "0:\tlearn: 0.0000000\ttest: 0.0000000\tbest: 0.0000000 (0)\ttotal: 63.9ms\tremaining: 6.39s\n",
      "1:\tlearn: 0.5061728\ttest: 0.5714286\tbest: 0.5714286 (1)\ttotal: 67ms\tremaining: 3.32s\n",
      "2:\tlearn: 0.4728435\ttest: 0.5185185\tbest: 0.5714286 (1)\ttotal: 72.3ms\tremaining: 2.36s\n",
      "3:\tlearn: 0.4300341\ttest: 0.5063291\tbest: 0.5714286 (1)\ttotal: 78.7ms\tremaining: 1.91s\n",
      "4:\tlearn: 0.4774194\ttest: 0.5128205\tbest: 0.5714286 (1)\ttotal: 82.4ms\tremaining: 1.58s\n",
      "5:\tlearn: 0.4922118\ttest: 0.5250000\tbest: 0.5714286 (1)\ttotal: 85.2ms\tremaining: 1.35s\n",
      "6:\tlearn: 0.5498489\ttest: 0.5679012\tbest: 0.5714286 (1)\ttotal: 87.7ms\tremaining: 1.18s\n",
      "7:\tlearn: 0.5481928\ttest: 0.5679012\tbest: 0.5714286 (1)\ttotal: 90.5ms\tremaining: 1.05s\n",
      "8:\tlearn: 0.5552239\ttest: 0.5609756\tbest: 0.5714286 (1)\ttotal: 92ms\tremaining: 940ms\n",
      "9:\tlearn: 0.5568862\ttest: 0.5609756\tbest: 0.5714286 (1)\ttotal: 96.1ms\tremaining: 875ms\n",
      "10:\tlearn: 0.5780347\ttest: 0.5882353\tbest: 0.5882353 (10)\ttotal: 99.6ms\tremaining: 815ms\n",
      "11:\tlearn: 0.5786517\ttest: 0.5882353\tbest: 0.5882353 (10)\ttotal: 103ms\tremaining: 764ms\n",
      "12:\tlearn: 0.5793872\ttest: 0.6046512\tbest: 0.6046512 (12)\ttotal: 110ms\tremaining: 742ms\n",
      "13:\tlearn: 0.5833333\ttest: 0.6363636\tbest: 0.6363636 (13)\ttotal: 112ms\tremaining: 694ms\n",
      "14:\tlearn: 0.6037736\ttest: 0.6363636\tbest: 0.6363636 (13)\ttotal: 114ms\tremaining: 652ms\n",
      "15:\tlearn: 0.6096257\ttest: 0.6444444\tbest: 0.6444444 (15)\ttotal: 116ms\tremaining: 615ms\n",
      "16:\tlearn: 0.6096257\ttest: 0.6593407\tbest: 0.6593407 (16)\ttotal: 121ms\tremaining: 596ms\n",
      "17:\tlearn: 0.6162162\ttest: 0.6739130\tbest: 0.6739130 (17)\ttotal: 127ms\tremaining: 584ms\n",
      "18:\tlearn: 0.6507937\ttest: 0.6881720\tbest: 0.6881720 (18)\ttotal: 129ms\tremaining: 558ms\n",
      "19:\tlearn: 0.6560847\ttest: 0.6808511\tbest: 0.6881720 (18)\ttotal: 131ms\tremaining: 532ms\n",
      "20:\tlearn: 0.6649215\ttest: 0.6808511\tbest: 0.6881720 (18)\ttotal: 138ms\tremaining: 525ms\n",
      "21:\tlearn: 0.6490765\ttest: 0.7021277\tbest: 0.7021277 (21)\ttotal: 141ms\tremaining: 507ms\n",
      "22:\tlearn: 0.6473684\ttest: 0.7021277\tbest: 0.7021277 (21)\ttotal: 143ms\tremaining: 486ms\n",
      "23:\tlearn: 0.6632124\ttest: 0.7021277\tbest: 0.7021277 (21)\ttotal: 146ms\tremaining: 469ms\n",
      "24:\tlearn: 0.6666667\ttest: 0.7021277\tbest: 0.7021277 (21)\ttotal: 148ms\tremaining: 448ms\n",
      "25:\tlearn: 0.6683938\ttest: 0.7021277\tbest: 0.7021277 (21)\ttotal: 150ms\tremaining: 434ms\n",
      "26:\tlearn: 0.6875000\ttest: 0.7021277\tbest: 0.7021277 (21)\ttotal: 158ms\tremaining: 434ms\n",
      "27:\tlearn: 0.6979167\ttest: 0.7083333\tbest: 0.7083333 (27)\ttotal: 163ms\tremaining: 425ms\n",
      "28:\tlearn: 0.6805195\ttest: 0.6947368\tbest: 0.7083333 (27)\ttotal: 167ms\tremaining: 414ms\n",
      "29:\tlearn: 0.6994819\ttest: 0.6804124\tbest: 0.7083333 (27)\ttotal: 178ms\tremaining: 422ms\n",
      "30:\tlearn: 0.6824147\ttest: 0.6868687\tbest: 0.7083333 (27)\ttotal: 182ms\tremaining: 410ms\n",
      "31:\tlearn: 0.7128205\ttest: 0.6734694\tbest: 0.7083333 (27)\ttotal: 186ms\tremaining: 401ms\n",
      "32:\tlearn: 0.7175573\ttest: 0.6868687\tbest: 0.7083333 (27)\ttotal: 187ms\tremaining: 386ms\n",
      "33:\tlearn: 0.7244898\ttest: 0.7000000\tbest: 0.7083333 (27)\ttotal: 193ms\tremaining: 379ms\n",
      "34:\tlearn: 0.7314578\ttest: 0.6930693\tbest: 0.7083333 (27)\ttotal: 195ms\tremaining: 368ms\n",
      "35:\tlearn: 0.7286432\ttest: 0.6862745\tbest: 0.7083333 (27)\ttotal: 198ms\tremaining: 357ms\n",
      "36:\tlearn: 0.7304786\ttest: 0.6732673\tbest: 0.7083333 (27)\ttotal: 200ms\tremaining: 347ms\n",
      "37:\tlearn: 0.7431421\ttest: 0.6862745\tbest: 0.7083333 (27)\ttotal: 201ms\tremaining: 334ms\n",
      "38:\tlearn: 0.7418546\ttest: 0.6862745\tbest: 0.7083333 (27)\ttotal: 202ms\tremaining: 321ms\n",
      "39:\tlearn: 0.7386935\ttest: 0.6796117\tbest: 0.7083333 (27)\ttotal: 211ms\tremaining: 321ms\n",
      "40:\tlearn: 0.7424242\ttest: 0.6601942\tbest: 0.7083333 (27)\ttotal: 211ms\tremaining: 309ms\n",
      "41:\tlearn: 0.7518797\ttest: 0.6730769\tbest: 0.7083333 (27)\ttotal: 218ms\tremaining: 306ms\n",
      "42:\tlearn: 0.7630923\ttest: 0.6796117\tbest: 0.7083333 (27)\ttotal: 219ms\tremaining: 295ms\n",
      "43:\tlearn: 0.7692308\ttest: 0.6666667\tbest: 0.7083333 (27)\ttotal: 222ms\tremaining: 287ms\n",
      "44:\tlearn: 0.7892157\ttest: 0.6732673\tbest: 0.7083333 (27)\ttotal: 225ms\tremaining: 280ms\n",
      "45:\tlearn: 0.7902439\ttest: 0.6666667\tbest: 0.7083333 (27)\ttotal: 228ms\tremaining: 273ms\n",
      "46:\tlearn: 0.7890819\ttest: 0.6400000\tbest: 0.7083333 (27)\ttotal: 232ms\tremaining: 267ms\n",
      "47:\tlearn: 0.7930175\ttest: 0.6400000\tbest: 0.7083333 (27)\ttotal: 235ms\tremaining: 260ms\n",
      "48:\tlearn: 0.8109453\ttest: 0.6534653\tbest: 0.7083333 (27)\ttotal: 240ms\tremaining: 255ms\n",
      "49:\tlearn: 0.8118812\ttest: 0.6600000\tbest: 0.7083333 (27)\ttotal: 243ms\tremaining: 248ms\n",
      "50:\tlearn: 0.8148148\ttest: 0.6600000\tbest: 0.7083333 (27)\ttotal: 245ms\tremaining: 240ms\n",
      "51:\tlearn: 0.8118812\ttest: 0.6534653\tbest: 0.7083333 (27)\ttotal: 247ms\tremaining: 233ms\n",
      "52:\tlearn: 0.8304668\ttest: 0.6732673\tbest: 0.7083333 (27)\ttotal: 251ms\tremaining: 227ms\n",
      "53:\tlearn: 0.8300971\ttest: 0.6666667\tbest: 0.7083333 (27)\ttotal: 253ms\tremaining: 220ms\n",
      "54:\tlearn: 0.8329298\ttest: 0.6796117\tbest: 0.7083333 (27)\ttotal: 255ms\tremaining: 213ms\n",
      "55:\tlearn: 0.8329298\ttest: 0.6666667\tbest: 0.7083333 (27)\ttotal: 256ms\tremaining: 206ms\n",
      "56:\tlearn: 0.8369830\ttest: 0.6732673\tbest: 0.7083333 (27)\ttotal: 259ms\tremaining: 200ms\n",
      "57:\tlearn: 0.8292683\ttest: 0.6400000\tbest: 0.7083333 (27)\ttotal: 262ms\tremaining: 194ms\n",
      "58:\tlearn: 0.8410758\ttest: 0.6400000\tbest: 0.7083333 (27)\ttotal: 265ms\tremaining: 189ms\n",
      "59:\tlearn: 0.8543689\ttest: 0.6666667\tbest: 0.7083333 (27)\ttotal: 273ms\tremaining: 187ms\n",
      "60:\tlearn: 0.8606357\ttest: 0.6666667\tbest: 0.7083333 (27)\ttotal: 276ms\tremaining: 181ms\n",
      "61:\tlearn: 0.8634146\ttest: 0.6538462\tbest: 0.7083333 (27)\ttotal: 278ms\tremaining: 175ms\n",
      "62:\tlearn: 0.8655257\ttest: 0.6407767\tbest: 0.7083333 (27)\ttotal: 282ms\tremaining: 170ms\n",
      "63:\tlearn: 0.8655257\ttest: 0.6666667\tbest: 0.7083333 (27)\ttotal: 284ms\tremaining: 164ms\n",
      "64:\tlearn: 0.8655257\ttest: 0.6346154\tbest: 0.7083333 (27)\ttotal: 286ms\tremaining: 158ms\n",
      "65:\tlearn: 0.8786408\ttest: 0.6603774\tbest: 0.7083333 (27)\ttotal: 288ms\tremaining: 153ms\n",
      "66:\tlearn: 0.8731707\ttest: 0.6730769\tbest: 0.7083333 (27)\ttotal: 290ms\tremaining: 147ms\n",
      "67:\tlearn: 0.8731707\ttest: 0.6603774\tbest: 0.7083333 (27)\ttotal: 294ms\tremaining: 143ms\n",
      "68:\tlearn: 0.8710462\ttest: 0.6603774\tbest: 0.7083333 (27)\ttotal: 296ms\tremaining: 137ms\n",
      "69:\tlearn: 0.8786408\ttest: 0.6415094\tbest: 0.7083333 (27)\ttotal: 298ms\tremaining: 132ms\n",
      "70:\tlearn: 0.8753056\ttest: 0.6415094\tbest: 0.7083333 (27)\ttotal: 305ms\tremaining: 129ms\n",
      "71:\tlearn: 0.8801956\ttest: 0.6603774\tbest: 0.7083333 (27)\ttotal: 308ms\tremaining: 124ms\n",
      "72:\tlearn: 0.8878049\ttest: 0.6603774\tbest: 0.7083333 (27)\ttotal: 311ms\tremaining: 119ms\n",
      "73:\tlearn: 0.8926829\ttest: 0.6346154\tbest: 0.7083333 (27)\ttotal: 316ms\tremaining: 115ms\n",
      "74:\tlearn: 0.8975610\ttest: 0.6407767\tbest: 0.7083333 (27)\ttotal: 320ms\tremaining: 111ms\n",
      "75:\tlearn: 0.9024390\ttest: 0.6407767\tbest: 0.7083333 (27)\ttotal: 322ms\tremaining: 106ms\n",
      "76:\tlearn: 0.9051095\ttest: 0.6407767\tbest: 0.7083333 (27)\ttotal: 325ms\tremaining: 101ms\n",
      "77:\tlearn: 0.9099757\ttest: 0.6470588\tbest: 0.7083333 (27)\ttotal: 329ms\tremaining: 97.1ms\n",
      "78:\tlearn: 0.9126214\ttest: 0.6470588\tbest: 0.7083333 (27)\ttotal: 332ms\tremaining: 92.4ms\n",
      "79:\tlearn: 0.9174757\ttest: 0.6336634\tbest: 0.7083333 (27)\ttotal: 341ms\tremaining: 89.6ms\n",
      "80:\tlearn: 0.9174757\ttest: 0.6274510\tbest: 0.7083333 (27)\ttotal: 343ms\tremaining: 84.8ms\n",
      "81:\tlearn: 0.9249395\ttest: 0.6274510\tbest: 0.7083333 (27)\ttotal: 347ms\tremaining: 80.3ms\n",
      "82:\tlearn: 0.9227053\ttest: 0.6274510\tbest: 0.7083333 (27)\ttotal: 354ms\tremaining: 76.8ms\n",
      "83:\tlearn: 0.9200969\ttest: 0.6336634\tbest: 0.7083333 (27)\ttotal: 357ms\tremaining: 72.2ms\n",
      "84:\tlearn: 0.9227053\ttest: 0.6538462\tbest: 0.7083333 (27)\ttotal: 360ms\tremaining: 67.8ms\n",
      "85:\tlearn: 0.9227053\ttest: 0.6538462\tbest: 0.7083333 (27)\ttotal: 366ms\tremaining: 63.8ms\n",
      "86:\tlearn: 0.9253012\ttest: 0.6538462\tbest: 0.7083333 (27)\ttotal: 368ms\tremaining: 59.1ms\n",
      "87:\tlearn: 0.9253012\ttest: 0.6538462\tbest: 0.7083333 (27)\ttotal: 371ms\tremaining: 54.8ms\n",
      "88:\tlearn: 0.9249395\ttest: 0.6476190\tbest: 0.7083333 (27)\ttotal: 373ms\tremaining: 50.4ms\n",
      "89:\tlearn: 0.9275362\ttest: 0.6476190\tbest: 0.7083333 (27)\ttotal: 376ms\tremaining: 46ms\n",
      "90:\tlearn: 0.9320388\ttest: 0.6476190\tbest: 0.7083333 (27)\ttotal: 379ms\tremaining: 41.6ms\n",
      "91:\tlearn: 0.9371981\ttest: 0.6415094\tbest: 0.7083333 (27)\ttotal: 383ms\tremaining: 37.5ms\n",
      "92:\tlearn: 0.9397590\ttest: 0.6415094\tbest: 0.7083333 (27)\ttotal: 386ms\tremaining: 33.2ms\n",
      "93:\tlearn: 0.9397590\ttest: 0.6415094\tbest: 0.7083333 (27)\ttotal: 390ms\tremaining: 29.1ms\n",
      "94:\tlearn: 0.9397590\ttest: 0.6415094\tbest: 0.7083333 (27)\ttotal: 393ms\tremaining: 24.8ms\n",
      "95:\tlearn: 0.9448441\ttest: 0.6542056\tbest: 0.7083333 (27)\ttotal: 402ms\tremaining: 20.9ms\n",
      "96:\tlearn: 0.9473684\ttest: 0.6542056\tbest: 0.7083333 (27)\ttotal: 405ms\tremaining: 16.7ms\n",
      "97:\tlearn: 0.9448441\ttest: 0.6542056\tbest: 0.7083333 (27)\ttotal: 406ms\tremaining: 12.4ms\n",
      "98:\tlearn: 0.9448441\ttest: 0.6788991\tbest: 0.7083333 (27)\ttotal: 410ms\tremaining: 8.28ms\n",
      "99:\tlearn: 0.9445783\ttest: 0.6666667\tbest: 0.7083333 (27)\ttotal: 414ms\tremaining: 4.14ms\n",
      "100:\tlearn: 0.9445783\ttest: 0.6788991\tbest: 0.7083333 (27)\ttotal: 416ms\tremaining: 0us\n",
      "\n",
      "bestTest = 0.7083333333\n",
      "bestIteration = 27\n",
      "\n",
      "Training on fold [1/5]\n",
      "0:\tlearn: 0.0275229\ttest: 0.0000000\tbest: 0.0000000 (0)\ttotal: 3.58ms\tremaining: 359ms\n",
      "1:\tlearn: 0.5123457\ttest: 0.5250000\tbest: 0.5250000 (1)\ttotal: 8.61ms\tremaining: 426ms\n",
      "2:\tlearn: 0.5093168\ttest: 0.5121951\tbest: 0.5250000 (1)\ttotal: 13.3ms\tremaining: 433ms\n",
      "3:\tlearn: 0.5000000\ttest: 0.4675325\tbest: 0.5250000 (1)\ttotal: 27.4ms\tremaining: 663ms\n",
      "4:\tlearn: 0.4840764\ttest: 0.4210526\tbest: 0.5250000 (1)\ttotal: 29.9ms\tremaining: 573ms\n",
      "5:\tlearn: 0.5233645\ttest: 0.4556962\tbest: 0.5250000 (1)\ttotal: 33ms\tremaining: 522ms\n",
      "6:\tlearn: 0.5365854\ttest: 0.5121951\tbest: 0.5250000 (1)\ttotal: 36.2ms\tremaining: 486ms\n",
      "7:\tlearn: 0.5276074\ttest: 0.4938272\tbest: 0.5250000 (1)\ttotal: 37ms\tremaining: 430ms\n",
      "8:\tlearn: 0.5498489\ttest: 0.5348837\tbest: 0.5348837 (8)\ttotal: 38.9ms\tremaining: 397ms\n",
      "9:\tlearn: 0.5597668\ttest: 0.5747126\tbest: 0.5747126 (9)\ttotal: 41.3ms\tremaining: 376ms\n",
      "10:\tlearn: 0.6077348\ttest: 0.5591398\tbest: 0.5747126 (9)\ttotal: 42.8ms\tremaining: 350ms\n",
      "11:\tlearn: 0.6195652\ttest: 0.5833333\tbest: 0.5833333 (11)\ttotal: 44.3ms\tremaining: 328ms\n",
      "12:\tlearn: 0.6233062\ttest: 0.5531915\tbest: 0.5833333 (11)\ttotal: 45.7ms\tremaining: 310ms\n",
      "13:\tlearn: 0.6253369\ttest: 0.5531915\tbest: 0.5833333 (11)\ttotal: 47.7ms\tremaining: 296ms\n",
      "14:\tlearn: 0.6421053\ttest: 0.5714286\tbest: 0.5833333 (11)\ttotal: 49.3ms\tremaining: 283ms\n",
      "15:\tlearn: 0.6366048\ttest: 0.5940594\tbest: 0.5940594 (15)\ttotal: 50.5ms\tremaining: 268ms\n",
      "16:\tlearn: 0.6490765\ttest: 0.6274510\tbest: 0.6274510 (16)\ttotal: 53.6ms\tremaining: 265ms\n",
      "17:\tlearn: 0.6404199\ttest: 0.6153846\tbest: 0.6274510 (16)\ttotal: 54.4ms\tremaining: 251ms\n",
      "18:\tlearn: 0.6510417\ttest: 0.6213592\tbest: 0.6274510 (16)\ttotal: 55ms\tremaining: 238ms\n",
      "19:\tlearn: 0.6803069\ttest: 0.6019417\tbest: 0.6274510 (16)\ttotal: 56.3ms\tremaining: 228ms\n",
      "20:\tlearn: 0.6923077\ttest: 0.6095238\tbest: 0.6274510 (16)\ttotal: 57.9ms\tremaining: 220ms\n",
      "21:\tlearn: 0.6972010\ttest: 0.6226415\tbest: 0.6274510 (16)\ttotal: 58.9ms\tremaining: 212ms\n",
      "22:\tlearn: 0.7020202\ttest: 0.6037736\tbest: 0.6274510 (16)\ttotal: 61ms\tremaining: 207ms\n",
      "23:\tlearn: 0.7055838\ttest: 0.6168224\tbest: 0.6274510 (16)\ttotal: 65.3ms\tremaining: 209ms\n",
      "24:\tlearn: 0.7050000\ttest: 0.6037736\tbest: 0.6274510 (16)\ttotal: 68.4ms\tremaining: 208ms\n",
      "25:\tlearn: 0.7100000\ttest: 0.5904762\tbest: 0.6274510 (16)\ttotal: 71.3ms\tremaining: 206ms\n",
      "26:\tlearn: 0.7153652\ttest: 0.6037736\tbest: 0.6274510 (16)\ttotal: 75.7ms\tremaining: 207ms\n",
      "27:\tlearn: 0.7185930\ttest: 0.6168224\tbest: 0.6274510 (16)\ttotal: 79.7ms\tremaining: 208ms\n",
      "28:\tlearn: 0.7037975\ttest: 0.6095238\tbest: 0.6274510 (16)\ttotal: 81.7ms\tremaining: 203ms\n",
      "29:\tlearn: 0.7128205\ttest: 0.6226415\tbest: 0.6274510 (16)\ttotal: 84.2ms\tremaining: 199ms\n",
      "30:\tlearn: 0.7193878\ttest: 0.6226415\tbest: 0.6274510 (16)\ttotal: 86.5ms\tremaining: 195ms\n",
      "31:\tlearn: 0.7212276\ttest: 0.6226415\tbest: 0.6274510 (16)\ttotal: 92.5ms\tremaining: 200ms\n",
      "32:\tlearn: 0.7355164\ttest: 0.6168224\tbest: 0.6274510 (16)\ttotal: 106ms\tremaining: 217ms\n",
      "33:\tlearn: 0.7336683\ttest: 0.6037736\tbest: 0.6274510 (16)\ttotal: 110ms\tremaining: 216ms\n",
      "34:\tlearn: 0.7418546\ttest: 0.6037736\tbest: 0.6274510 (16)\ttotal: 126ms\tremaining: 238ms\n",
      "35:\tlearn: 0.7455919\ttest: 0.5925926\tbest: 0.6274510 (16)\ttotal: 130ms\tremaining: 235ms\n",
      "36:\tlearn: 0.7518797\ttest: 0.5794393\tbest: 0.6274510 (16)\ttotal: 133ms\tremaining: 230ms\n",
      "37:\tlearn: 0.7611940\ttest: 0.5849057\tbest: 0.6274510 (16)\ttotal: 137ms\tremaining: 228ms\n",
      "38:\tlearn: 0.7703704\ttest: 0.5904762\tbest: 0.6274510 (16)\ttotal: 147ms\tremaining: 234ms\n",
      "39:\tlearn: 0.7692308\ttest: 0.5904762\tbest: 0.6274510 (16)\ttotal: 150ms\tremaining: 228ms\n",
      "40:\tlearn: 0.7911548\ttest: 0.5714286\tbest: 0.6274510 (16)\ttotal: 152ms\tremaining: 222ms\n",
      "41:\tlearn: 0.7990196\ttest: 0.5714286\tbest: 0.6274510 (16)\ttotal: 155ms\tremaining: 217ms\n",
      "42:\tlearn: 0.8058968\ttest: 0.5825243\tbest: 0.6274510 (16)\ttotal: 165ms\tremaining: 223ms\n",
      "43:\tlearn: 0.8217822\ttest: 0.5686275\tbest: 0.6274510 (16)\ttotal: 167ms\tremaining: 216ms\n",
      "44:\tlearn: 0.8217822\ttest: 0.5686275\tbest: 0.6274510 (16)\ttotal: 171ms\tremaining: 212ms\n",
      "45:\tlearn: 0.8321168\ttest: 0.6019417\tbest: 0.6274510 (16)\ttotal: 173ms\tremaining: 207ms\n",
      "46:\tlearn: 0.8405797\ttest: 0.5882353\tbest: 0.6274510 (16)\ttotal: 176ms\tremaining: 203ms\n",
      "47:\tlearn: 0.8433735\ttest: 0.5742574\tbest: 0.6274510 (16)\ttotal: 178ms\tremaining: 197ms\n",
      "48:\tlearn: 0.8385542\ttest: 0.5882353\tbest: 0.6274510 (16)\ttotal: 180ms\tremaining: 191ms\n",
      "49:\tlearn: 0.8385542\ttest: 0.5882353\tbest: 0.6274510 (16)\ttotal: 183ms\tremaining: 186ms\n",
      "50:\tlearn: 0.8433735\ttest: 0.5882353\tbest: 0.6274510 (16)\ttotal: 185ms\tremaining: 181ms\n",
      "51:\tlearn: 0.8461538\ttest: 0.5769231\tbest: 0.6274510 (16)\ttotal: 188ms\tremaining: 177ms\n",
      "52:\tlearn: 0.8481928\ttest: 0.5825243\tbest: 0.6274510 (16)\ttotal: 201ms\tremaining: 182ms\n",
      "53:\tlearn: 0.8599034\ttest: 0.5961538\tbest: 0.6274510 (16)\ttotal: 201ms\tremaining: 175ms\n",
      "54:\tlearn: 0.8578313\ttest: 0.5882353\tbest: 0.6274510 (16)\ttotal: 204ms\tremaining: 171ms\n",
      "55:\tlearn: 0.8605769\ttest: 0.6153846\tbest: 0.6274510 (16)\ttotal: 206ms\tremaining: 166ms\n",
      "56:\tlearn: 0.8666667\ttest: 0.6019417\tbest: 0.6274510 (16)\ttotal: 207ms\tremaining: 160ms\n",
      "57:\tlearn: 0.8741093\ttest: 0.6153846\tbest: 0.6274510 (16)\ttotal: 213ms\tremaining: 158ms\n",
      "58:\tlearn: 0.8741093\ttest: 0.6153846\tbest: 0.6274510 (16)\ttotal: 216ms\tremaining: 154ms\n",
      "59:\tlearn: 0.8741093\ttest: 0.6285714\tbest: 0.6285714 (59)\ttotal: 218ms\tremaining: 149ms\n",
      "60:\tlearn: 0.8836105\ttest: 0.6285714\tbest: 0.6285714 (59)\ttotal: 221ms\tremaining: 145ms\n",
      "61:\tlearn: 0.8809524\ttest: 0.6095238\tbest: 0.6285714 (59)\ttotal: 229ms\tremaining: 144ms\n",
      "62:\tlearn: 0.8888889\ttest: 0.6285714\tbest: 0.6285714 (59)\ttotal: 231ms\tremaining: 139ms\n",
      "63:\tlearn: 0.8888889\ttest: 0.6285714\tbest: 0.6285714 (59)\ttotal: 231ms\tremaining: 134ms\n",
      "64:\tlearn: 0.8830549\ttest: 0.6095238\tbest: 0.6285714 (59)\ttotal: 234ms\tremaining: 129ms\n",
      "65:\tlearn: 0.8857143\ttest: 0.6226415\tbest: 0.6285714 (59)\ttotal: 235ms\tremaining: 125ms\n",
      "66:\tlearn: 0.8803828\ttest: 0.5981308\tbest: 0.6285714 (59)\ttotal: 240ms\tremaining: 122ms\n",
      "67:\tlearn: 0.8904762\ttest: 0.6238532\tbest: 0.6285714 (59)\ttotal: 243ms\tremaining: 118ms\n",
      "68:\tlearn: 0.8978622\ttest: 0.6111111\tbest: 0.6285714 (59)\ttotal: 244ms\tremaining: 113ms\n",
      "69:\tlearn: 0.9021480\ttest: 0.5961538\tbest: 0.6285714 (59)\ttotal: 245ms\tremaining: 109ms\n",
      "70:\tlearn: 0.8931116\ttest: 0.5981308\tbest: 0.6285714 (59)\ttotal: 246ms\tremaining: 104ms\n",
      "71:\tlearn: 0.8947368\ttest: 0.6111111\tbest: 0.6285714 (59)\ttotal: 247ms\tremaining: 99.4ms\n",
      "72:\tlearn: 0.8968825\ttest: 0.6111111\tbest: 0.6285714 (59)\ttotal: 248ms\tremaining: 94.9ms\n",
      "73:\tlearn: 0.9021480\ttest: 0.6111111\tbest: 0.6285714 (59)\ttotal: 248ms\tremaining: 90.6ms\n",
      "74:\tlearn: 0.9043062\ttest: 0.6111111\tbest: 0.6285714 (59)\ttotal: 249ms\tremaining: 86.3ms\n",
      "75:\tlearn: 0.9134615\ttest: 0.6111111\tbest: 0.6285714 (59)\ttotal: 250ms\tremaining: 82.2ms\n",
      "76:\tlearn: 0.9134615\ttest: 0.6111111\tbest: 0.6285714 (59)\ttotal: 251ms\tremaining: 78.1ms\n",
      "77:\tlearn: 0.9160671\ttest: 0.6111111\tbest: 0.6285714 (59)\ttotal: 251ms\tremaining: 74.1ms\n",
      "78:\tlearn: 0.9112710\ttest: 0.6168224\tbest: 0.6285714 (59)\ttotal: 252ms\tremaining: 70.2ms\n",
      "79:\tlearn: 0.9112710\ttest: 0.6111111\tbest: 0.6285714 (59)\ttotal: 256ms\tremaining: 67.2ms\n",
      "80:\tlearn: 0.9186603\ttest: 0.6226415\tbest: 0.6285714 (59)\ttotal: 259ms\tremaining: 63.8ms\n",
      "81:\tlearn: 0.9212411\ttest: 0.6226415\tbest: 0.6285714 (59)\ttotal: 261ms\tremaining: 60.4ms\n",
      "82:\tlearn: 0.9190476\ttest: 0.6226415\tbest: 0.6285714 (59)\ttotal: 264ms\tremaining: 57.2ms\n",
      "83:\tlearn: 0.9198113\ttest: 0.6226415\tbest: 0.6285714 (59)\ttotal: 267ms\tremaining: 54ms\n",
      "84:\tlearn: 0.9245283\ttest: 0.6226415\tbest: 0.6285714 (59)\ttotal: 269ms\tremaining: 50.7ms\n",
      "85:\tlearn: 0.9270588\ttest: 0.6095238\tbest: 0.6285714 (59)\ttotal: 270ms\tremaining: 47.1ms\n",
      "86:\tlearn: 0.9292453\ttest: 0.6037736\tbest: 0.6285714 (59)\ttotal: 271ms\tremaining: 43.5ms\n",
      "87:\tlearn: 0.9386792\ttest: 0.6037736\tbest: 0.6285714 (59)\ttotal: 272ms\tremaining: 40.2ms\n",
      "88:\tlearn: 0.9386792\ttest: 0.6037736\tbest: 0.6285714 (59)\ttotal: 274ms\tremaining: 37ms\n",
      "89:\tlearn: 0.9411765\ttest: 0.6037736\tbest: 0.6285714 (59)\ttotal: 276ms\tremaining: 33.8ms\n",
      "90:\tlearn: 0.9386792\ttest: 0.6037736\tbest: 0.6285714 (59)\ttotal: 277ms\tremaining: 30.5ms\n",
      "91:\tlearn: 0.9408983\ttest: 0.6037736\tbest: 0.6285714 (59)\ttotal: 278ms\tremaining: 27.2ms\n",
      "92:\tlearn: 0.9408983\ttest: 0.6037736\tbest: 0.6285714 (59)\ttotal: 279ms\tremaining: 24ms\n",
      "93:\tlearn: 0.9408983\ttest: 0.6037736\tbest: 0.6285714 (59)\ttotal: 282ms\tremaining: 21ms\n",
      "94:\tlearn: 0.9433962\ttest: 0.6095238\tbest: 0.6285714 (59)\ttotal: 291ms\tremaining: 18.4ms\n",
      "95:\tlearn: 0.9456265\ttest: 0.6095238\tbest: 0.6285714 (59)\ttotal: 294ms\tremaining: 15.3ms\n",
      "96:\tlearn: 0.9501188\ttest: 0.6095238\tbest: 0.6285714 (59)\ttotal: 297ms\tremaining: 12.2ms\n",
      "97:\tlearn: 0.9548694\ttest: 0.6095238\tbest: 0.6285714 (59)\ttotal: 299ms\tremaining: 9.16ms\n",
      "98:\tlearn: 0.9619048\ttest: 0.6153846\tbest: 0.6285714 (59)\ttotal: 300ms\tremaining: 6.06ms\n",
      "99:\tlearn: 0.9596200\ttest: 0.6153846\tbest: 0.6285714 (59)\ttotal: 303ms\tremaining: 3.03ms\n",
      "100:\tlearn: 0.9645390\ttest: 0.6095238\tbest: 0.6285714 (59)\ttotal: 305ms\tremaining: 0us\n",
      "\n",
      "bestTest = 0.6285714286\n",
      "bestIteration = 59\n",
      "\n",
      "Training on fold [2/5]\n",
      "0:\tlearn: 0.2045455\ttest: 0.1470588\tbest: 0.1470588 (0)\ttotal: 17.9ms\tremaining: 1.79s\n",
      "1:\tlearn: 0.4984026\ttest: 0.4675325\tbest: 0.4675325 (1)\ttotal: 21.7ms\tremaining: 1.07s\n",
      "2:\tlearn: 0.5173502\ttest: 0.4675325\tbest: 0.4675325 (1)\ttotal: 32.7ms\tremaining: 1.07s\n",
      "3:\tlearn: 0.5031847\ttest: 0.4266667\tbest: 0.4675325 (1)\ttotal: 34.3ms\tremaining: 831ms\n",
      "4:\tlearn: 0.5250000\ttest: 0.5063291\tbest: 0.5063291 (4)\ttotal: 35.6ms\tremaining: 684ms\n",
      "5:\tlearn: 0.5000000\ttest: 0.4871795\tbest: 0.5063291 (4)\ttotal: 37ms\tremaining: 586ms\n",
      "6:\tlearn: 0.5159236\ttest: 0.4473684\tbest: 0.5063291 (4)\ttotal: 39.2ms\tremaining: 527ms\n",
      "7:\tlearn: 0.5175719\ttest: 0.4266667\tbest: 0.5063291 (4)\ttotal: 42ms\tremaining: 488ms\n",
      "8:\tlearn: 0.5415385\ttest: 0.4415584\tbest: 0.5063291 (4)\ttotal: 45.2ms\tremaining: 462ms\n",
      "9:\tlearn: 0.5329154\ttest: 0.4266667\tbest: 0.5063291 (4)\ttotal: 48.7ms\tremaining: 443ms\n",
      "10:\tlearn: 0.5558912\ttest: 0.4615385\tbest: 0.5063291 (4)\ttotal: 51.3ms\tremaining: 420ms\n",
      "11:\tlearn: 0.5619335\ttest: 0.4615385\tbest: 0.5063291 (4)\ttotal: 61.2ms\tremaining: 454ms\n",
      "12:\tlearn: 0.5748503\ttest: 0.4556962\tbest: 0.5063291 (4)\ttotal: 62.9ms\tremaining: 426ms\n",
      "13:\tlearn: 0.5947522\ttest: 0.4938272\tbest: 0.5063291 (4)\ttotal: 63.6ms\tremaining: 395ms\n",
      "14:\tlearn: 0.6228571\ttest: 0.4938272\tbest: 0.5063291 (4)\ttotal: 65.7ms\tremaining: 377ms\n",
      "15:\tlearn: 0.6371191\ttest: 0.5348837\tbest: 0.5348837 (15)\ttotal: 74.4ms\tremaining: 395ms\n",
      "16:\tlearn: 0.6575342\ttest: 0.5287356\tbest: 0.5348837 (15)\ttotal: 77ms\tremaining: 380ms\n",
      "17:\tlearn: 0.6432432\ttest: 0.5227273\tbest: 0.5348837 (15)\ttotal: 79.1ms\tremaining: 365ms\n",
      "18:\tlearn: 0.6558266\ttest: 0.5348837\tbest: 0.5348837 (15)\ttotal: 82.8ms\tremaining: 357ms\n",
      "19:\tlearn: 0.6577540\ttest: 0.5517241\tbest: 0.5517241 (19)\ttotal: 85.5ms\tremaining: 346ms\n",
      "20:\tlearn: 0.6702703\ttest: 0.5348837\tbest: 0.5517241 (19)\ttotal: 87.6ms\tremaining: 334ms\n",
      "21:\tlearn: 0.6810811\ttest: 0.5348837\tbest: 0.5517241 (19)\ttotal: 89.2ms\tremaining: 320ms\n",
      "22:\tlearn: 0.6896552\ttest: 0.5517241\tbest: 0.5517241 (19)\ttotal: 90.9ms\tremaining: 308ms\n",
      "23:\tlearn: 0.6843501\ttest: 0.5517241\tbest: 0.5517241 (19)\ttotal: 92.6ms\tremaining: 297ms\n",
      "24:\tlearn: 0.6771654\ttest: 0.5348837\tbest: 0.5517241 (19)\ttotal: 93.9ms\tremaining: 285ms\n",
      "25:\tlearn: 0.7034121\ttest: 0.5777778\tbest: 0.5777778 (25)\ttotal: 94.6ms\tremaining: 273ms\n",
      "26:\tlearn: 0.6892950\ttest: 0.5617978\tbest: 0.5777778 (25)\ttotal: 97.2ms\tremaining: 266ms\n",
      "27:\tlearn: 0.6910995\ttest: 0.5869565\tbest: 0.5869565 (27)\ttotal: 101ms\tremaining: 263ms\n",
      "28:\tlearn: 0.7015707\ttest: 0.5869565\tbest: 0.5869565 (27)\ttotal: 103ms\tremaining: 257ms\n",
      "29:\tlearn: 0.7187500\ttest: 0.6086957\tbest: 0.6086957 (29)\ttotal: 104ms\tremaining: 247ms\n",
      "30:\tlearn: 0.7146530\ttest: 0.6021505\tbest: 0.6086957 (29)\ttotal: 105ms\tremaining: 237ms\n",
      "31:\tlearn: 0.7197943\ttest: 0.6021505\tbest: 0.6086957 (29)\ttotal: 106ms\tremaining: 230ms\n",
      "32:\tlearn: 0.7216495\ttest: 0.6464646\tbest: 0.6464646 (32)\ttotal: 108ms\tremaining: 222ms\n",
      "33:\tlearn: 0.7338501\ttest: 0.6326531\tbest: 0.6464646 (32)\ttotal: 109ms\tremaining: 215ms\n",
      "34:\tlearn: 0.7286822\ttest: 0.6464646\tbest: 0.6464646 (32)\ttotal: 111ms\tremaining: 209ms\n",
      "35:\tlearn: 0.7403599\ttest: 0.6464646\tbest: 0.6464646 (32)\ttotal: 112ms\tremaining: 201ms\n",
      "36:\tlearn: 0.7455013\ttest: 0.6464646\tbest: 0.6464646 (32)\ttotal: 115ms\tremaining: 198ms\n",
      "37:\tlearn: 0.7474227\ttest: 0.6530612\tbest: 0.6530612 (37)\ttotal: 116ms\tremaining: 193ms\n",
      "38:\tlearn: 0.7525773\ttest: 0.6734694\tbest: 0.6734694 (38)\ttotal: 118ms\tremaining: 187ms\n",
      "39:\tlearn: 0.7582697\ttest: 0.6530612\tbest: 0.6734694 (38)\ttotal: 118ms\tremaining: 181ms\n",
      "40:\tlearn: 0.7707809\ttest: 0.6530612\tbest: 0.6734694 (38)\ttotal: 120ms\tremaining: 175ms\n",
      "41:\tlearn: 0.7696203\ttest: 0.6530612\tbest: 0.6734694 (38)\ttotal: 122ms\tremaining: 172ms\n",
      "42:\tlearn: 0.7676768\ttest: 0.6464646\tbest: 0.6734694 (38)\ttotal: 125ms\tremaining: 169ms\n",
      "43:\tlearn: 0.7890819\ttest: 0.6464646\tbest: 0.6734694 (38)\ttotal: 127ms\tremaining: 164ms\n",
      "44:\tlearn: 0.7900000\ttest: 0.6600000\tbest: 0.6734694 (38)\ttotal: 130ms\tremaining: 161ms\n",
      "45:\tlearn: 0.7860697\ttest: 0.6600000\tbest: 0.6734694 (38)\ttotal: 132ms\tremaining: 158ms\n",
      "46:\tlearn: 0.7800000\ttest: 0.6666667\tbest: 0.6734694 (38)\ttotal: 134ms\tremaining: 154ms\n",
      "47:\tlearn: 0.7960199\ttest: 0.6666667\tbest: 0.6734694 (38)\ttotal: 135ms\tremaining: 149ms\n",
      "48:\tlearn: 0.7990074\ttest: 0.6666667\tbest: 0.6734694 (38)\ttotal: 137ms\tremaining: 145ms\n",
      "49:\tlearn: 0.8059701\ttest: 0.6336634\tbest: 0.6734694 (38)\ttotal: 138ms\tremaining: 141ms\n",
      "50:\tlearn: 0.8029925\ttest: 0.6470588\tbest: 0.6734694 (38)\ttotal: 139ms\tremaining: 137ms\n",
      "51:\tlearn: 0.8070175\ttest: 0.6470588\tbest: 0.6734694 (38)\ttotal: 144ms\tremaining: 135ms\n",
      "52:\tlearn: 0.8140704\ttest: 0.6534653\tbest: 0.6734694 (38)\ttotal: 146ms\tremaining: 132ms\n",
      "53:\tlearn: 0.8161209\ttest: 0.6534653\tbest: 0.6734694 (38)\ttotal: 148ms\tremaining: 129ms\n",
      "54:\tlearn: 0.8220551\ttest: 0.6732673\tbest: 0.6734694 (38)\ttotal: 151ms\tremaining: 126ms\n",
      "55:\tlearn: 0.8300000\ttest: 0.6666667\tbest: 0.6734694 (38)\ttotal: 151ms\tremaining: 122ms\n",
      "56:\tlearn: 0.8341709\ttest: 0.6470588\tbest: 0.6734694 (38)\ttotal: 153ms\tremaining: 118ms\n",
      "57:\tlearn: 0.8341709\ttest: 0.6601942\tbest: 0.6734694 (38)\ttotal: 158ms\tremaining: 117ms\n",
      "58:\tlearn: 0.8370927\ttest: 0.6407767\tbest: 0.6734694 (38)\ttotal: 162ms\tremaining: 115ms\n",
      "59:\tlearn: 0.8421053\ttest: 0.6407767\tbest: 0.6734694 (38)\ttotal: 164ms\tremaining: 112ms\n",
      "60:\tlearn: 0.8442211\ttest: 0.6534653\tbest: 0.6734694 (38)\ttotal: 167ms\tremaining: 110ms\n",
      "61:\tlearn: 0.8500000\ttest: 0.6336634\tbest: 0.6734694 (38)\ttotal: 170ms\tremaining: 107ms\n",
      "62:\tlearn: 0.8550000\ttest: 0.6336634\tbest: 0.6734694 (38)\ttotal: 173ms\tremaining: 104ms\n",
      "63:\tlearn: 0.8620690\ttest: 0.6336634\tbest: 0.6734694 (38)\ttotal: 174ms\tremaining: 100ms\n",
      "64:\tlearn: 0.8648649\ttest: 0.6336634\tbest: 0.6734694 (38)\ttotal: 176ms\tremaining: 97.4ms\n",
      "65:\tlearn: 0.8663366\ttest: 0.6400000\tbest: 0.6734694 (38)\ttotal: 178ms\tremaining: 94.2ms\n",
      "66:\tlearn: 0.8746929\ttest: 0.6470588\tbest: 0.6734694 (38)\ttotal: 182ms\tremaining: 92.6ms\n",
      "67:\tlearn: 0.8746929\ttest: 0.6407767\tbest: 0.6734694 (38)\ttotal: 184ms\tremaining: 89.1ms\n",
      "68:\tlearn: 0.8746929\ttest: 0.6407767\tbest: 0.6734694 (38)\ttotal: 186ms\tremaining: 86.2ms\n",
      "69:\tlearn: 0.8796069\ttest: 0.6407767\tbest: 0.6734694 (38)\ttotal: 187ms\tremaining: 82.7ms\n",
      "70:\tlearn: 0.8899756\ttest: 0.6470588\tbest: 0.6734694 (38)\ttotal: 188ms\tremaining: 79.3ms\n",
      "71:\tlearn: 0.8894349\ttest: 0.6407767\tbest: 0.6734694 (38)\ttotal: 190ms\tremaining: 76.7ms\n",
      "72:\tlearn: 0.8943489\ttest: 0.6274510\tbest: 0.6734694 (38)\ttotal: 192ms\tremaining: 73.5ms\n",
      "73:\tlearn: 0.8910891\ttest: 0.6138614\tbest: 0.6734694 (38)\ttotal: 196ms\tremaining: 71.5ms\n",
      "74:\tlearn: 0.8992629\ttest: 0.6138614\tbest: 0.6734694 (38)\ttotal: 197ms\tremaining: 68.4ms\n",
      "75:\tlearn: 0.8970588\ttest: 0.6078431\tbest: 0.6734694 (38)\ttotal: 200ms\tremaining: 65.9ms\n",
      "76:\tlearn: 0.9019608\ttest: 0.6078431\tbest: 0.6734694 (38)\ttotal: 204ms\tremaining: 63.7ms\n",
      "77:\tlearn: 0.9090909\ttest: 0.6138614\tbest: 0.6734694 (38)\ttotal: 207ms\tremaining: 61.2ms\n",
      "78:\tlearn: 0.9068627\ttest: 0.6138614\tbest: 0.6734694 (38)\ttotal: 210ms\tremaining: 58.5ms\n",
      "79:\tlearn: 0.9113300\ttest: 0.6138614\tbest: 0.6734694 (38)\ttotal: 213ms\tremaining: 56ms\n",
      "80:\tlearn: 0.9121951\ttest: 0.6000000\tbest: 0.6734694 (38)\ttotal: 215ms\tremaining: 53ms\n",
      "81:\tlearn: 0.9068627\ttest: 0.6000000\tbest: 0.6734694 (38)\ttotal: 217ms\tremaining: 50.4ms\n",
      "82:\tlearn: 0.9095355\ttest: 0.6138614\tbest: 0.6734694 (38)\ttotal: 220ms\tremaining: 47.8ms\n",
      "83:\tlearn: 0.9029126\ttest: 0.6000000\tbest: 0.6734694 (38)\ttotal: 222ms\tremaining: 44.8ms\n",
      "84:\tlearn: 0.9077670\ttest: 0.6060606\tbest: 0.6734694 (38)\ttotal: 222ms\tremaining: 41.9ms\n",
      "85:\tlearn: 0.9077670\ttest: 0.6060606\tbest: 0.6734694 (38)\ttotal: 225ms\tremaining: 39.3ms\n",
      "86:\tlearn: 0.9152542\ttest: 0.6000000\tbest: 0.6734694 (38)\ttotal: 227ms\tremaining: 36.6ms\n",
      "87:\tlearn: 0.9178744\ttest: 0.5858586\tbest: 0.6734694 (38)\ttotal: 229ms\tremaining: 33.8ms\n",
      "88:\tlearn: 0.9178744\ttest: 0.6060606\tbest: 0.6734694 (38)\ttotal: 231ms\tremaining: 31.1ms\n",
      "89:\tlearn: 0.9249395\ttest: 0.6060606\tbest: 0.6734694 (38)\ttotal: 233ms\tremaining: 28.5ms\n",
      "90:\tlearn: 0.9278846\ttest: 0.5918367\tbest: 0.6734694 (38)\ttotal: 236ms\tremaining: 25.9ms\n",
      "91:\tlearn: 0.9323671\ttest: 0.5918367\tbest: 0.6734694 (38)\ttotal: 238ms\tremaining: 23.3ms\n",
      "92:\tlearn: 0.9323671\ttest: 0.5918367\tbest: 0.6734694 (38)\ttotal: 241ms\tremaining: 20.7ms\n",
      "93:\tlearn: 0.9320388\ttest: 0.5918367\tbest: 0.6734694 (38)\ttotal: 244ms\tremaining: 18.2ms\n",
      "94:\tlearn: 0.9320388\ttest: 0.5918367\tbest: 0.6734694 (38)\ttotal: 247ms\tremaining: 15.6ms\n",
      "95:\tlearn: 0.9320388\ttest: 0.5773196\tbest: 0.6734694 (38)\ttotal: 250ms\tremaining: 13ms\n",
      "96:\tlearn: 0.9352518\ttest: 0.5918367\tbest: 0.6734694 (38)\ttotal: 252ms\tremaining: 10.4ms\n",
      "97:\tlearn: 0.9352518\ttest: 0.5918367\tbest: 0.6734694 (38)\ttotal: 256ms\tremaining: 7.84ms\n",
      "98:\tlearn: 0.9400480\ttest: 0.6060606\tbest: 0.6734694 (38)\ttotal: 269ms\tremaining: 5.42ms\n",
      "99:\tlearn: 0.9400480\ttest: 0.6060606\tbest: 0.6734694 (38)\ttotal: 271ms\tremaining: 2.71ms\n",
      "100:\tlearn: 0.9496403\ttest: 0.6060606\tbest: 0.6734694 (38)\ttotal: 277ms\tremaining: 0us\n",
      "\n",
      "bestTest = 0.6734693878\n",
      "bestIteration = 38\n",
      "\n",
      "Training on fold [3/5]\n",
      "0:\tlearn: 0.2164179\ttest: 0.1492537\tbest: 0.1492537 (0)\ttotal: 5.59ms\tremaining: 559ms\n",
      "1:\tlearn: 0.5032258\ttest: 0.4691358\tbest: 0.4691358 (1)\ttotal: 9.06ms\tremaining: 448ms\n",
      "2:\tlearn: 0.5064103\ttest: 0.4691358\tbest: 0.4691358 (1)\ttotal: 14.4ms\tremaining: 469ms\n",
      "3:\tlearn: 0.5144695\ttest: 0.4303797\tbest: 0.4691358 (1)\ttotal: 17.6ms\tremaining: 426ms\n",
      "4:\tlearn: 0.5222930\ttest: 0.4303797\tbest: 0.4691358 (1)\ttotal: 20.9ms\tremaining: 402ms\n",
      "5:\tlearn: 0.5159236\ttest: 0.4556962\tbest: 0.4691358 (1)\ttotal: 24.7ms\tremaining: 391ms\n",
      "6:\tlearn: 0.5111821\ttest: 0.4750000\tbest: 0.4750000 (6)\ttotal: 26.3ms\tremaining: 354ms\n",
      "7:\tlearn: 0.5157233\ttest: 0.5000000\tbest: 0.5000000 (7)\ttotal: 29.2ms\tremaining: 340ms\n",
      "8:\tlearn: 0.5203762\ttest: 0.5000000\tbest: 0.5000000 (7)\ttotal: 29.9ms\tremaining: 306ms\n",
      "9:\tlearn: 0.5295950\ttest: 0.5000000\tbest: 0.5000000 (7)\ttotal: 31.6ms\tremaining: 288ms\n",
      "10:\tlearn: 0.5740181\ttest: 0.5238095\tbest: 0.5238095 (10)\ttotal: 33.3ms\tremaining: 273ms\n",
      "11:\tlearn: 0.5823529\ttest: 0.5617978\tbest: 0.5617978 (11)\ttotal: 35.5ms\tremaining: 264ms\n",
      "12:\tlearn: 0.6074499\ttest: 0.5842697\tbest: 0.5842697 (12)\ttotal: 39.9ms\tremaining: 270ms\n",
      "13:\tlearn: 0.6197183\ttest: 0.5806452\tbest: 0.5842697 (12)\ttotal: 45.6ms\tremaining: 284ms\n",
      "14:\tlearn: 0.6175637\ttest: 0.5806452\tbest: 0.5842697 (12)\ttotal: 50.1ms\tremaining: 287ms\n",
      "15:\tlearn: 0.6274510\ttest: 0.5806452\tbest: 0.5842697 (12)\ttotal: 54.7ms\tremaining: 291ms\n",
      "16:\tlearn: 0.6295265\ttest: 0.5894737\tbest: 0.5894737 (16)\ttotal: 57.1ms\tremaining: 282ms\n",
      "17:\tlearn: 0.6448087\ttest: 0.5894737\tbest: 0.5894737 (16)\ttotal: 58.5ms\tremaining: 270ms\n",
      "18:\tlearn: 0.6521739\ttest: 0.5918367\tbest: 0.5918367 (18)\ttotal: 61.1ms\tremaining: 264ms\n",
      "19:\tlearn: 0.6504065\ttest: 0.5714286\tbest: 0.5918367 (18)\ttotal: 64.5ms\tremaining: 261ms\n",
      "20:\tlearn: 0.6684783\ttest: 0.5684211\tbest: 0.5918367 (18)\ttotal: 68.6ms\tremaining: 261ms\n",
      "21:\tlearn: 0.6702703\ttest: 0.5894737\tbest: 0.5918367 (18)\ttotal: 70.9ms\tremaining: 254ms\n",
      "22:\tlearn: 0.6774194\ttest: 0.5894737\tbest: 0.5918367 (18)\ttotal: 74.2ms\tremaining: 252ms\n",
      "23:\tlearn: 0.6792453\ttest: 0.5894737\tbest: 0.5918367 (18)\ttotal: 76.1ms\tremaining: 244ms\n",
      "24:\tlearn: 0.6790451\ttest: 0.6105263\tbest: 0.6105263 (24)\ttotal: 78.2ms\tremaining: 238ms\n",
      "25:\tlearn: 0.6808511\ttest: 0.6105263\tbest: 0.6105263 (24)\ttotal: 79.9ms\tremaining: 231ms\n",
      "26:\tlearn: 0.6875000\ttest: 0.6105263\tbest: 0.6105263 (24)\ttotal: 82.4ms\tremaining: 226ms\n",
      "27:\tlearn: 0.6925065\ttest: 0.6250000\tbest: 0.6250000 (27)\ttotal: 85.1ms\tremaining: 222ms\n",
      "28:\tlearn: 0.6909091\ttest: 0.6391753\tbest: 0.6391753 (28)\ttotal: 87.3ms\tremaining: 217ms\n",
      "29:\tlearn: 0.7061856\ttest: 0.6250000\tbest: 0.6391753 (28)\ttotal: 90.3ms\tremaining: 214ms\n",
      "30:\tlearn: 0.7150259\ttest: 0.6464646\tbest: 0.6464646 (30)\ttotal: 91.9ms\tremaining: 207ms\n",
      "31:\tlearn: 0.7076923\ttest: 0.6530612\tbest: 0.6530612 (31)\ttotal: 93.9ms\tremaining: 202ms\n",
      "32:\tlearn: 0.7113402\ttest: 0.6464646\tbest: 0.6530612 (31)\ttotal: 95.6ms\tremaining: 197ms\n",
      "33:\tlearn: 0.7088608\ttest: 0.6400000\tbest: 0.6530612 (31)\ttotal: 96.3ms\tremaining: 190ms\n",
      "34:\tlearn: 0.7208122\ttest: 0.6400000\tbest: 0.6530612 (31)\ttotal: 97.1ms\tremaining: 183ms\n",
      "35:\tlearn: 0.7323232\ttest: 0.6400000\tbest: 0.6530612 (31)\ttotal: 98.1ms\tremaining: 177ms\n",
      "36:\tlearn: 0.7368421\ttest: 0.6262626\tbest: 0.6530612 (31)\ttotal: 99ms\tremaining: 171ms\n",
      "37:\tlearn: 0.7480916\ttest: 0.6274510\tbest: 0.6530612 (31)\ttotal: 99.7ms\tremaining: 165ms\n",
      "38:\tlearn: 0.7563452\ttest: 0.6095238\tbest: 0.6530612 (31)\ttotal: 102ms\tremaining: 162ms\n",
      "39:\tlearn: 0.7575758\ttest: 0.6285714\tbest: 0.6530612 (31)\ttotal: 102ms\tremaining: 156ms\n",
      "40:\tlearn: 0.7614213\ttest: 0.6355140\tbest: 0.6530612 (31)\ttotal: 103ms\tremaining: 151ms\n",
      "41:\tlearn: 0.7676768\ttest: 0.6355140\tbest: 0.6530612 (31)\ttotal: 104ms\tremaining: 147ms\n",
      "42:\tlearn: 0.7788945\ttest: 0.6415094\tbest: 0.6530612 (31)\ttotal: 105ms\tremaining: 142ms\n",
      "43:\tlearn: 0.7727273\ttest: 0.6095238\tbest: 0.6530612 (31)\ttotal: 106ms\tremaining: 138ms\n",
      "44:\tlearn: 0.7828283\ttest: 0.6226415\tbest: 0.6530612 (31)\ttotal: 108ms\tremaining: 134ms\n",
      "45:\tlearn: 0.7959698\ttest: 0.6037736\tbest: 0.6530612 (31)\ttotal: 109ms\tremaining: 131ms\n",
      "46:\tlearn: 0.7989950\ttest: 0.5904762\tbest: 0.6530612 (31)\ttotal: 111ms\tremaining: 127ms\n",
      "47:\tlearn: 0.7959698\ttest: 0.5904762\tbest: 0.6530612 (31)\ttotal: 112ms\tremaining: 123ms\n",
      "48:\tlearn: 0.8050000\ttest: 0.5961538\tbest: 0.6530612 (31)\ttotal: 113ms\tremaining: 120ms\n",
      "49:\tlearn: 0.8089330\ttest: 0.5849057\tbest: 0.6530612 (31)\ttotal: 114ms\tremaining: 116ms\n",
      "50:\tlearn: 0.8148148\ttest: 0.5849057\tbest: 0.6530612 (31)\ttotal: 117ms\tremaining: 115ms\n",
      "51:\tlearn: 0.8275862\ttest: 0.5849057\tbest: 0.6530612 (31)\ttotal: 118ms\tremaining: 112ms\n",
      "52:\tlearn: 0.8316832\ttest: 0.5904762\tbest: 0.6530612 (31)\ttotal: 120ms\tremaining: 109ms\n",
      "53:\tlearn: 0.8308458\ttest: 0.5904762\tbest: 0.6530612 (31)\ttotal: 122ms\tremaining: 106ms\n",
      "54:\tlearn: 0.8465347\ttest: 0.5981308\tbest: 0.6530612 (31)\ttotal: 122ms\tremaining: 102ms\n",
      "55:\tlearn: 0.8444444\ttest: 0.5871560\tbest: 0.6530612 (31)\ttotal: 123ms\tremaining: 98.9ms\n",
      "56:\tlearn: 0.8387097\ttest: 0.5660377\tbest: 0.6530612 (31)\ttotal: 125ms\tremaining: 96.3ms\n",
      "57:\tlearn: 0.8478803\ttest: 0.5740741\tbest: 0.6530612 (31)\ttotal: 125ms\tremaining: 93ms\n",
      "58:\tlearn: 0.8486352\ttest: 0.5794393\tbest: 0.6530612 (31)\ttotal: 128ms\tremaining: 90.8ms\n",
      "59:\tlearn: 0.8486352\ttest: 0.5660377\tbest: 0.6530612 (31)\ttotal: 129ms\tremaining: 88ms\n",
      "60:\tlearn: 0.8564356\ttest: 0.5740741\tbest: 0.6530612 (31)\ttotal: 131ms\tremaining: 85.7ms\n",
      "61:\tlearn: 0.8656716\ttest: 0.6000000\tbest: 0.6530612 (31)\ttotal: 134ms\tremaining: 84.1ms\n",
      "62:\tlearn: 0.8740741\ttest: 0.5871560\tbest: 0.6530612 (31)\ttotal: 136ms\tremaining: 81.8ms\n",
      "63:\tlearn: 0.8740741\ttest: 0.6000000\tbest: 0.6530612 (31)\ttotal: 138ms\tremaining: 79.6ms\n",
      "64:\tlearn: 0.8833747\ttest: 0.6055046\tbest: 0.6530612 (31)\ttotal: 140ms\tremaining: 77.3ms\n",
      "65:\tlearn: 0.8855721\ttest: 0.6181818\tbest: 0.6530612 (31)\ttotal: 141ms\tremaining: 74.9ms\n",
      "66:\tlearn: 0.8916256\ttest: 0.6238532\tbest: 0.6530612 (31)\ttotal: 142ms\tremaining: 72.3ms\n",
      "67:\tlearn: 0.8938272\ttest: 0.6238532\tbest: 0.6530612 (31)\ttotal: 143ms\tremaining: 69.5ms\n",
      "68:\tlearn: 0.8965517\ttest: 0.6296296\tbest: 0.6530612 (31)\ttotal: 144ms\tremaining: 66.7ms\n",
      "69:\tlearn: 0.8965517\ttest: 0.6415094\tbest: 0.6530612 (31)\ttotal: 145ms\tremaining: 64.1ms\n",
      "70:\tlearn: 0.8992629\ttest: 0.6296296\tbest: 0.6530612 (31)\ttotal: 145ms\tremaining: 61.5ms\n",
      "71:\tlearn: 0.9019608\ttest: 0.6296296\tbest: 0.6530612 (31)\ttotal: 148ms\tremaining: 59.6ms\n",
      "72:\tlearn: 0.9041769\ttest: 0.6422018\tbest: 0.6530612 (31)\ttotal: 151ms\tremaining: 57.8ms\n",
      "73:\tlearn: 0.9095355\ttest: 0.6605505\tbest: 0.6605505 (73)\ttotal: 152ms\tremaining: 55.5ms\n",
      "74:\tlearn: 0.9073171\ttest: 0.6605505\tbest: 0.6605505 (73)\ttotal: 153ms\tremaining: 53.1ms\n",
      "75:\tlearn: 0.9090909\ttest: 0.6727273\tbest: 0.6727273 (75)\ttotal: 154ms\tremaining: 50.6ms\n",
      "76:\tlearn: 0.9144254\ttest: 0.6605505\tbest: 0.6727273 (75)\ttotal: 155ms\tremaining: 48.4ms\n",
      "77:\tlearn: 0.9144254\ttest: 0.6605505\tbest: 0.6727273 (75)\ttotal: 156ms\tremaining: 46ms\n",
      "78:\tlearn: 0.9152542\ttest: 0.6666667\tbest: 0.6727273 (75)\ttotal: 157ms\tremaining: 43.6ms\n",
      "79:\tlearn: 0.9200969\ttest: 0.6728972\tbest: 0.6728972 (79)\ttotal: 157ms\tremaining: 41.3ms\n",
      "80:\tlearn: 0.9297821\ttest: 0.6788991\tbest: 0.6788991 (80)\ttotal: 158ms\tremaining: 39.1ms\n",
      "81:\tlearn: 0.9320388\ttest: 0.6851852\tbest: 0.6851852 (81)\ttotal: 159ms\tremaining: 36.9ms\n",
      "82:\tlearn: 0.9294404\ttest: 0.6851852\tbest: 0.6851852 (81)\ttotal: 160ms\tremaining: 34.7ms\n",
      "83:\tlearn: 0.9320388\ttest: 0.6851852\tbest: 0.6851852 (81)\ttotal: 163ms\tremaining: 33ms\n",
      "84:\tlearn: 0.9346247\ttest: 0.6728972\tbest: 0.6851852 (81)\ttotal: 167ms\tremaining: 31.4ms\n",
      "85:\tlearn: 0.9371981\ttest: 0.6422018\tbest: 0.6851852 (81)\ttotal: 168ms\tremaining: 29.4ms\n",
      "86:\tlearn: 0.9346247\ttest: 0.6296296\tbest: 0.6851852 (81)\ttotal: 171ms\tremaining: 27.5ms\n",
      "87:\tlearn: 0.9368932\ttest: 0.6296296\tbest: 0.6851852 (81)\ttotal: 174ms\tremaining: 25.7ms\n",
      "88:\tlearn: 0.9391727\ttest: 0.6355140\tbest: 0.6851852 (81)\ttotal: 176ms\tremaining: 23.8ms\n",
      "89:\tlearn: 0.9414634\ttest: 0.6226415\tbest: 0.6851852 (81)\ttotal: 180ms\tremaining: 22ms\n",
      "90:\tlearn: 0.9440389\ttest: 0.6285714\tbest: 0.6851852 (81)\ttotal: 184ms\tremaining: 20.2ms\n",
      "91:\tlearn: 0.9417476\ttest: 0.6355140\tbest: 0.6851852 (81)\ttotal: 186ms\tremaining: 18.2ms\n",
      "92:\tlearn: 0.9417476\ttest: 0.6605505\tbest: 0.6851852 (81)\ttotal: 189ms\tremaining: 16.3ms\n",
      "93:\tlearn: 0.9519231\ttest: 0.6422018\tbest: 0.6851852 (81)\ttotal: 192ms\tremaining: 14.3ms\n",
      "94:\tlearn: 0.9569378\ttest: 0.6296296\tbest: 0.6851852 (81)\ttotal: 193ms\tremaining: 12.2ms\n",
      "95:\tlearn: 0.9567308\ttest: 0.6355140\tbest: 0.6851852 (81)\ttotal: 194ms\tremaining: 10.1ms\n",
      "96:\tlearn: 0.9592326\ttest: 0.6481481\tbest: 0.6851852 (81)\ttotal: 194ms\tremaining: 8.01ms\n",
      "97:\tlearn: 0.9567308\ttest: 0.6605505\tbest: 0.6851852 (81)\ttotal: 195ms\tremaining: 5.96ms\n",
      "98:\tlearn: 0.9565217\ttest: 0.6481481\tbest: 0.6851852 (81)\ttotal: 196ms\tremaining: 3.95ms\n",
      "99:\tlearn: 0.9590361\ttest: 0.6422018\tbest: 0.6851852 (81)\ttotal: 198ms\tremaining: 1.98ms\n",
      "100:\tlearn: 0.9592326\ttest: 0.6545455\tbest: 0.6851852 (81)\ttotal: 198ms\tremaining: 0us\n",
      "\n",
      "bestTest = 0.6851851852\n",
      "bestIteration = 81\n",
      "\n",
      "Training on fold [4/5]\n",
      "0:\tlearn: 0.0365297\ttest: 0.0000000\tbest: 0.0000000 (0)\ttotal: 2.37ms\tremaining: 237ms\n",
      "1:\tlearn: 0.5288754\ttest: 0.4871795\tbest: 0.4871795 (1)\ttotal: 3.69ms\tremaining: 183ms\n",
      "2:\tlearn: 0.5077399\ttest: 0.4594595\tbest: 0.4871795 (1)\ttotal: 5.1ms\tremaining: 167ms\n",
      "3:\tlearn: 0.4968153\ttest: 0.4383562\tbest: 0.4871795 (1)\ttotal: 6.28ms\tremaining: 152ms\n",
      "4:\tlearn: 0.4904459\ttest: 0.4800000\tbest: 0.4871795 (1)\ttotal: 8.66ms\tremaining: 166ms\n",
      "5:\tlearn: 0.5325077\ttest: 0.4800000\tbest: 0.4871795 (1)\ttotal: 11ms\tremaining: 174ms\n",
      "6:\tlearn: 0.5157233\ttest: 0.4736842\tbest: 0.4871795 (1)\ttotal: 14.2ms\tremaining: 190ms\n",
      "7:\tlearn: 0.5341615\ttest: 0.4736842\tbest: 0.4871795 (1)\ttotal: 15.1ms\tremaining: 175ms\n",
      "8:\tlearn: 0.5386997\ttest: 0.4935065\tbest: 0.4935065 (8)\ttotal: 15.9ms\tremaining: 163ms\n",
      "9:\tlearn: 0.5531915\ttest: 0.5316456\tbest: 0.5316456 (9)\ttotal: 17.1ms\tremaining: 156ms\n",
      "10:\tlearn: 0.5739130\ttest: 0.5060241\tbest: 0.5316456 (9)\ttotal: 18.5ms\tremaining: 151ms\n",
      "11:\tlearn: 0.5797101\ttest: 0.5238095\tbest: 0.5316456 (9)\ttotal: 19.8ms\tremaining: 147ms\n",
      "12:\tlearn: 0.5936599\ttest: 0.5581395\tbest: 0.5581395 (12)\ttotal: 20.6ms\tremaining: 139ms\n",
      "13:\tlearn: 0.5959885\ttest: 0.5813953\tbest: 0.5813953 (13)\ttotal: 21.9ms\tremaining: 136ms\n",
      "14:\tlearn: 0.6274510\ttest: 0.5681818\tbest: 0.5813953 (13)\ttotal: 23.1ms\tremaining: 133ms\n",
      "15:\tlearn: 0.6201117\ttest: 0.5681818\tbest: 0.5813953 (13)\ttotal: 26.8ms\tremaining: 142ms\n",
      "16:\tlearn: 0.6243094\ttest: 0.5869565\tbest: 0.5869565 (16)\ttotal: 29.3ms\tremaining: 145ms\n",
      "17:\tlearn: 0.6267030\ttest: 0.6222222\tbest: 0.6222222 (17)\ttotal: 30.5ms\tremaining: 140ms\n",
      "18:\tlearn: 0.6361186\ttest: 0.6304348\tbest: 0.6304348 (18)\ttotal: 32.6ms\tremaining: 141ms\n",
      "19:\tlearn: 0.6212534\ttest: 0.6373626\tbest: 0.6373626 (19)\ttotal: 35ms\tremaining: 142ms\n",
      "20:\tlearn: 0.6344086\ttest: 0.6304348\tbest: 0.6373626 (19)\ttotal: 36.7ms\tremaining: 140ms\n",
      "21:\tlearn: 0.6400000\ttest: 0.6304348\tbest: 0.6373626 (19)\ttotal: 39.3ms\tremaining: 141ms\n",
      "22:\tlearn: 0.6327078\ttest: 0.6304348\tbest: 0.6373626 (19)\ttotal: 41.7ms\tremaining: 141ms\n",
      "23:\tlearn: 0.6525199\ttest: 0.6236559\tbest: 0.6373626 (19)\ttotal: 44.6ms\tremaining: 143ms\n",
      "24:\tlearn: 0.6578249\ttest: 0.6236559\tbest: 0.6373626 (19)\ttotal: 46.2ms\tremaining: 141ms\n",
      "25:\tlearn: 0.6596306\ttest: 0.6382979\tbest: 0.6382979 (25)\ttotal: 47.5ms\tremaining: 137ms\n",
      "26:\tlearn: 0.6701571\ttest: 0.6236559\tbest: 0.6382979 (25)\ttotal: 48.5ms\tremaining: 133ms\n",
      "27:\tlearn: 0.6718750\ttest: 0.6236559\tbest: 0.6382979 (25)\ttotal: 51.1ms\tremaining: 133ms\n",
      "28:\tlearn: 0.6701299\ttest: 0.6250000\tbest: 0.6382979 (25)\ttotal: 53ms\tremaining: 132ms\n",
      "29:\tlearn: 0.6753247\ttest: 0.6458333\tbest: 0.6458333 (29)\ttotal: 54.8ms\tremaining: 130ms\n",
      "30:\tlearn: 0.6701299\ttest: 0.6315789\tbest: 0.6458333 (29)\ttotal: 57.5ms\tremaining: 130ms\n",
      "31:\tlearn: 0.6701299\ttest: 0.6315789\tbest: 0.6458333 (29)\ttotal: 59.4ms\tremaining: 128ms\n",
      "32:\tlearn: 0.6769231\ttest: 0.6041667\tbest: 0.6458333 (29)\ttotal: 60.2ms\tremaining: 124ms\n",
      "33:\tlearn: 0.7052897\ttest: 0.5894737\tbest: 0.6458333 (29)\ttotal: 60.8ms\tremaining: 120ms\n",
      "34:\tlearn: 0.7022901\ttest: 0.5894737\tbest: 0.6458333 (29)\ttotal: 61.7ms\tremaining: 116ms\n",
      "35:\tlearn: 0.7070707\ttest: 0.5833333\tbest: 0.6458333 (29)\ttotal: 62.5ms\tremaining: 113ms\n",
      "36:\tlearn: 0.7100000\ttest: 0.6041667\tbest: 0.6458333 (29)\ttotal: 63.6ms\tremaining: 110ms\n",
      "37:\tlearn: 0.7121212\ttest: 0.6041667\tbest: 0.6458333 (29)\ttotal: 64.3ms\tremaining: 107ms\n",
      "38:\tlearn: 0.7231920\ttest: 0.6041667\tbest: 0.6458333 (29)\ttotal: 65.1ms\tremaining: 104ms\n",
      "39:\tlearn: 0.7200000\ttest: 0.6105263\tbest: 0.6458333 (29)\ttotal: 65.9ms\tremaining: 101ms\n",
      "40:\tlearn: 0.7376238\ttest: 0.5957447\tbest: 0.6458333 (29)\ttotal: 66.7ms\tremaining: 97.6ms\n",
      "41:\tlearn: 0.7331671\ttest: 0.5894737\tbest: 0.6458333 (29)\ttotal: 67.3ms\tremaining: 94.5ms\n",
      "42:\tlearn: 0.7412935\ttest: 0.5894737\tbest: 0.6458333 (29)\ttotal: 68ms\tremaining: 91.8ms\n",
      "43:\tlearn: 0.7444169\ttest: 0.5833333\tbest: 0.6458333 (29)\ttotal: 68.6ms\tremaining: 88.9ms\n",
      "44:\tlearn: 0.7462687\ttest: 0.5833333\tbest: 0.6458333 (29)\ttotal: 69.2ms\tremaining: 86.1ms\n",
      "45:\tlearn: 0.7487685\ttest: 0.5894737\tbest: 0.6458333 (29)\ttotal: 69.8ms\tremaining: 83.5ms\n",
      "46:\tlearn: 0.7543424\ttest: 0.5744681\tbest: 0.6458333 (29)\ttotal: 70.6ms\tremaining: 81.1ms\n",
      "47:\tlearn: 0.7654321\ttest: 0.5744681\tbest: 0.6458333 (29)\ttotal: 71.2ms\tremaining: 78.6ms\n",
      "48:\tlearn: 0.7745098\ttest: 0.5806452\tbest: 0.6458333 (29)\ttotal: 74.1ms\tremaining: 78.6ms\n",
      "49:\tlearn: 0.7775061\ttest: 0.5744681\tbest: 0.6458333 (29)\ttotal: 76.6ms\tremaining: 78.1ms\n",
      "50:\tlearn: 0.7823961\ttest: 0.5744681\tbest: 0.6458333 (29)\ttotal: 79ms\tremaining: 77.5ms\n",
      "51:\tlearn: 0.7890819\ttest: 0.5894737\tbest: 0.6458333 (29)\ttotal: 80.7ms\tremaining: 76ms\n",
      "52:\tlearn: 0.7960199\ttest: 0.6021505\tbest: 0.6458333 (29)\ttotal: 81.8ms\tremaining: 74.1ms\n",
      "53:\tlearn: 0.8020050\ttest: 0.6021505\tbest: 0.6458333 (29)\ttotal: 83.8ms\tremaining: 72.9ms\n",
      "54:\tlearn: 0.8100000\ttest: 0.6021505\tbest: 0.6458333 (29)\ttotal: 87.3ms\tremaining: 73ms\n",
      "55:\tlearn: 0.8159204\ttest: 0.5957447\tbest: 0.6458333 (29)\ttotal: 90.8ms\tremaining: 72.9ms\n",
      "56:\tlearn: 0.8150000\ttest: 0.5957447\tbest: 0.6458333 (29)\ttotal: 93.5ms\tremaining: 72.1ms\n",
      "57:\tlearn: 0.8217822\ttest: 0.6185567\tbest: 0.6458333 (29)\ttotal: 95.6ms\tremaining: 70.8ms\n",
      "58:\tlearn: 0.8226601\ttest: 0.6262626\tbest: 0.6458333 (29)\ttotal: 98.1ms\tremaining: 69.9ms\n",
      "59:\tlearn: 0.8333333\ttest: 0.6262626\tbest: 0.6458333 (29)\ttotal: 99.8ms\tremaining: 68.2ms\n",
      "60:\tlearn: 0.8353808\ttest: 0.6262626\tbest: 0.6458333 (29)\ttotal: 101ms\tremaining: 66.5ms\n",
      "61:\tlearn: 0.8480392\ttest: 0.6400000\tbest: 0.6458333 (29)\ttotal: 104ms\tremaining: 65.2ms\n",
      "62:\tlearn: 0.8501229\ttest: 0.6464646\tbest: 0.6464646 (62)\ttotal: 107ms\tremaining: 64.8ms\n",
      "63:\tlearn: 0.8592233\ttest: 0.6326531\tbest: 0.6464646 (62)\ttotal: 111ms\tremaining: 64ms\n",
      "64:\tlearn: 0.8647343\ttest: 0.6326531\tbest: 0.6464646 (62)\ttotal: 113ms\tremaining: 62.4ms\n",
      "65:\tlearn: 0.8704156\ttest: 0.6185567\tbest: 0.6464646 (62)\ttotal: 115ms\tremaining: 60.8ms\n",
      "66:\tlearn: 0.8753056\ttest: 0.6250000\tbest: 0.6464646 (62)\ttotal: 117ms\tremaining: 59.3ms\n",
      "67:\tlearn: 0.8780488\ttest: 0.6250000\tbest: 0.6464646 (62)\ttotal: 120ms\tremaining: 58ms\n",
      "68:\tlearn: 0.8737864\ttest: 0.6185567\tbest: 0.6464646 (62)\ttotal: 123ms\tremaining: 57.1ms\n",
      "69:\tlearn: 0.8765133\ttest: 0.6315789\tbest: 0.6464646 (62)\ttotal: 126ms\tremaining: 56ms\n",
      "70:\tlearn: 0.8834951\ttest: 0.6315789\tbest: 0.6464646 (62)\ttotal: 129ms\tremaining: 54.5ms\n",
      "71:\tlearn: 0.8834951\ttest: 0.6105263\tbest: 0.6464646 (62)\ttotal: 131ms\tremaining: 52.8ms\n",
      "72:\tlearn: 0.8834951\ttest: 0.5979381\tbest: 0.6464646 (62)\ttotal: 132ms\tremaining: 50.8ms\n",
      "73:\tlearn: 0.8834951\ttest: 0.5979381\tbest: 0.6464646 (62)\ttotal: 135ms\tremaining: 49.1ms\n",
      "74:\tlearn: 0.8834951\ttest: 0.5918367\tbest: 0.6464646 (62)\ttotal: 141ms\tremaining: 49ms\n",
      "75:\tlearn: 0.8861985\ttest: 0.5858586\tbest: 0.6464646 (62)\ttotal: 142ms\tremaining: 46.9ms\n",
      "76:\tlearn: 0.8910412\ttest: 0.5858586\tbest: 0.6464646 (62)\ttotal: 144ms\tremaining: 45ms\n",
      "77:\tlearn: 0.8958838\ttest: 0.5858586\tbest: 0.6464646 (62)\ttotal: 145ms\tremaining: 42.7ms\n",
      "78:\tlearn: 0.8963855\ttest: 0.5918367\tbest: 0.6464646 (62)\ttotal: 147ms\tremaining: 40.8ms\n",
      "79:\tlearn: 0.8942308\ttest: 0.5858586\tbest: 0.6464646 (62)\ttotal: 147ms\tremaining: 38.7ms\n",
      "80:\tlearn: 0.8963855\ttest: 0.5918367\tbest: 0.6464646 (62)\ttotal: 149ms\tremaining: 36.7ms\n",
      "81:\tlearn: 0.9090909\ttest: 0.5858586\tbest: 0.6464646 (62)\ttotal: 152ms\tremaining: 35.2ms\n",
      "82:\tlearn: 0.9134615\ttest: 0.5858586\tbest: 0.6464646 (62)\ttotal: 156ms\tremaining: 33.7ms\n",
      "83:\tlearn: 0.9212411\ttest: 0.5858586\tbest: 0.6464646 (62)\ttotal: 158ms\tremaining: 32ms\n",
      "84:\tlearn: 0.9260143\ttest: 0.5858586\tbest: 0.6464646 (62)\ttotal: 160ms\tremaining: 30.1ms\n",
      "85:\tlearn: 0.9208633\ttest: 0.5858586\tbest: 0.6464646 (62)\ttotal: 162ms\tremaining: 28.2ms\n",
      "86:\tlearn: 0.9241706\ttest: 0.6000000\tbest: 0.6464646 (62)\ttotal: 164ms\tremaining: 26.3ms\n",
      "87:\tlearn: 0.9285714\ttest: 0.6060606\tbest: 0.6464646 (62)\ttotal: 167ms\tremaining: 24.7ms\n",
      "88:\tlearn: 0.9285714\ttest: 0.5918367\tbest: 0.6464646 (62)\ttotal: 169ms\tremaining: 22.7ms\n",
      "89:\tlearn: 0.9311164\ttest: 0.5979381\tbest: 0.6464646 (62)\ttotal: 171ms\tremaining: 20.9ms\n",
      "90:\tlearn: 0.9311164\ttest: 0.6185567\tbest: 0.6464646 (62)\ttotal: 174ms\tremaining: 19.1ms\n",
      "91:\tlearn: 0.9336493\ttest: 0.6041667\tbest: 0.6464646 (62)\ttotal: 176ms\tremaining: 17.2ms\n",
      "92:\tlearn: 0.9336493\ttest: 0.6041667\tbest: 0.6464646 (62)\ttotal: 177ms\tremaining: 15.2ms\n",
      "93:\tlearn: 0.9336493\ttest: 0.6185567\tbest: 0.6464646 (62)\ttotal: 180ms\tremaining: 13.4ms\n",
      "94:\tlearn: 0.9361702\ttest: 0.6185567\tbest: 0.6464646 (62)\ttotal: 182ms\tremaining: 11.5ms\n",
      "95:\tlearn: 0.9361702\ttest: 0.6185567\tbest: 0.6464646 (62)\ttotal: 183ms\tremaining: 9.55ms\n",
      "96:\tlearn: 0.9361702\ttest: 0.6326531\tbest: 0.6464646 (62)\ttotal: 187ms\tremaining: 7.71ms\n",
      "97:\tlearn: 0.9333333\ttest: 0.5979381\tbest: 0.6464646 (62)\ttotal: 190ms\tremaining: 5.8ms\n",
      "98:\tlearn: 0.9406176\ttest: 0.6041667\tbest: 0.6464646 (62)\ttotal: 191ms\tremaining: 3.87ms\n",
      "99:\tlearn: 0.9383886\ttest: 0.6041667\tbest: 0.6464646 (62)\ttotal: 195ms\tremaining: 1.95ms\n",
      "100:\tlearn: 0.9408983\ttest: 0.6122449\tbest: 0.6464646 (62)\ttotal: 198ms\tremaining: 0us\n",
      "\n",
      "bestTest = 0.6464646465\n",
      "bestIteration = 62\n",
      "\n"
     ]
    }
   ],
   "source": [
    "import joblib\n",
    "from ARISA_DSML.train import train_cv\n",
    "params = joblib.load(best_params_path)\n",
    "n_folds = 5\n",
    "cv_output_path = train_cv(X_train, y_train, categorical_indices, params, n=n_folds)"
   ]
  },
  {
   "cell_type": "markdown",
   "id": "9c2f4247-6cbf-4528-ba59-bf4f375dad64",
   "metadata": {
    "editable": false,
    "slideshow": {
     "slide_type": "slide"
    },
    "tags": []
   },
   "source": [
    "And get the performance plots:"
   ]
  },
  {
   "cell_type": "code",
   "execution_count": 47,
   "id": "64beb22b",
   "metadata": {},
   "outputs": [
    {
     "data": {
      "application/vnd.plotly.v1+json": {
       "config": {
        "plotlyServerURL": "https://plot.ly"
       },
       "data": [
        {
         "line": {
          "color": "blue"
         },
         "mode": "lines",
         "name": "Mean F1 Score",
         "type": "scatter",
         "x": [
          0,
          1,
          2,
          3,
          4,
          5,
          6,
          7,
          8,
          9,
          10,
          11,
          12,
          13,
          14,
          15,
          16,
          17,
          18,
          19,
          20,
          21,
          22,
          23,
          24,
          25,
          26,
          27,
          28,
          29,
          30,
          31,
          32,
          33,
          34,
          35,
          36,
          37,
          38,
          39,
          40,
          41,
          42,
          43,
          44,
          45,
          46,
          47,
          48,
          49,
          50,
          51,
          52,
          53,
          54,
          55,
          56,
          57,
          58,
          59,
          60,
          61,
          62,
          63,
          64,
          65,
          66,
          67,
          68,
          69,
          70,
          71,
          72,
          73,
          74,
          75,
          76,
          77,
          78,
          79,
          80,
          81,
          82,
          83,
          84,
          85,
          86,
          87,
          88,
          89,
          90,
          91,
          92,
          93,
          94,
          95,
          96,
          97,
          98,
          99,
          100
         ],
         "y": [
          0.059262510974539,
          0.5040552657219324,
          0.4853682739861602,
          0.4538528318684379,
          0.4701164010317907,
          0.4807143784485557,
          0.4952297976196137,
          0.4924158544509421,
          0.5061848531502531,
          0.5188000979442358,
          0.5277494321594822,
          0.5437428731215909,
          0.5511896104978229,
          0.5690845592693395,
          0.5700892695516352,
          0.5844429101574823,
          0.5983914955732763,
          0.6047441676045795,
          0.6133373009089059,
          0.6086616316249692,
          0.6048228859048208,
          0.615912271351577,
          0.615506769846077,
          0.616760765120213,
          0.614993439035666,
          0.623841163191667,
          0.6203762454114171,
          0.6321536397915001,
          0.6310784862200324,
          0.6365165732150458,
          0.637940865554025,
          0.636580321336338,
          0.6401574152742376,
          0.6331800660681354,
          0.6345562445023052,
          0.6297330164388987,
          0.6259201036926123,
          0.6311718083459799,
          0.6327821128451381,
          0.6324493619624652,
          0.6231885340436603,
          0.6245108843794811,
          0.6279167373935068,
          0.6149231813937697,
          0.6215739240960723,
          0.6243711366711338,
          0.6119692472733774,
          0.6091736735983628,
          0.6170332629526272,
          0.6082544811876044,
          0.61093357262616,
          0.6103653183150055,
          0.6203767346445173,
          0.621782517493153,
          0.6282791300183322,
          0.6263237185743529,
          0.6168100629070042,
          0.6216419130493798,
          0.6203726386025632,
          0.6256630312757808,
          0.6298080284218898,
          0.6274066659413193,
          0.6273264207409175,
          0.6323109045598437,
          0.6231920417712562,
          0.6319514774274549,
          0.6334239597474008,
          0.6347720959076082,
          0.6320902998582721,
          0.6303056720951844,
          0.6295815351222445,
          0.6304842228099814,
          0.6278158858372233,
          0.6236152969821206,
          0.623627277937665,
          0.6236633611961995,
          0.6212279983938643,
          0.6236880730706638,
          0.6272492081870225,
          0.6234783291413253,
          0.6241656614177609,
          0.624227252173978,
          0.6269995294017008,
          0.6254697293628734,
          0.628260810292198,
          0.619498198030308,
          0.6174498736762888,
          0.6158337120601272,
          0.6169607983941561,
          0.6156065784698346,
          0.6180714993641884,
          0.6153600877840115,
          0.6203673757888131,
          0.619575657891023,
          0.6182112617681017,
          0.6190239448703656,
          0.6272734722133921,
          0.6228109509479632,
          0.6305318237657687,
          0.6268960779281879,
          0.6322547701315722
         ]
        },
        {
         "fill": "toself",
         "fillcolor": "rgba(0, 0, 255, 0.2)",
         "line": {
          "color": "rgba(255, 255, 255, 0)"
         },
         "showlegend": false,
         "type": "scatter",
         "x": [
          0,
          1,
          2,
          3,
          4,
          5,
          6,
          7,
          8,
          9,
          10,
          11,
          12,
          13,
          14,
          15,
          16,
          17,
          18,
          19,
          20,
          21,
          22,
          23,
          24,
          25,
          26,
          27,
          28,
          29,
          30,
          31,
          32,
          33,
          34,
          35,
          36,
          37,
          38,
          39,
          40,
          41,
          42,
          43,
          44,
          45,
          46,
          47,
          48,
          49,
          50,
          51,
          52,
          53,
          54,
          55,
          56,
          57,
          58,
          59,
          60,
          61,
          62,
          63,
          64,
          65,
          66,
          67,
          68,
          69,
          70,
          71,
          72,
          73,
          74,
          75,
          76,
          77,
          78,
          79,
          80,
          81,
          82,
          83,
          84,
          85,
          86,
          87,
          88,
          89,
          90,
          91,
          92,
          93,
          94,
          95,
          96,
          97,
          98,
          99,
          100,
          100,
          99,
          98,
          97,
          96,
          95,
          94,
          93,
          92,
          91,
          90,
          89,
          88,
          87,
          86,
          85,
          84,
          83,
          82,
          81,
          80,
          79,
          78,
          77,
          76,
          75,
          74,
          73,
          72,
          71,
          70,
          69,
          68,
          67,
          66,
          65,
          64,
          63,
          62,
          61,
          60,
          59,
          58,
          57,
          56,
          55,
          54,
          53,
          52,
          51,
          50,
          49,
          48,
          47,
          46,
          45,
          44,
          43,
          42,
          41,
          40,
          39,
          38,
          37,
          36,
          35,
          34,
          33,
          32,
          31,
          30,
          29,
          28,
          27,
          26,
          25,
          24,
          23,
          22,
          21,
          20,
          19,
          18,
          17,
          16,
          15,
          14,
          13,
          12,
          11,
          10,
          9,
          8,
          7,
          6,
          5,
          4,
          3,
          2,
          1,
          0
         ],
         "y": [
          0.14041475657302951,
          0.5482591111957271,
          0.5130788057289792,
          0.48728602126446247,
          0.5125985809043183,
          0.5092421828509592,
          0.5419554018950465,
          0.5434829275956522,
          0.5514651422070672,
          0.5777746805017061,
          0.5765226304034288,
          0.5962496880243243,
          0.608469029521712,
          0.6208724512303901,
          0.6208954205693057,
          0.6245291308370919,
          0.6474360658958144,
          0.6598871490714192,
          0.6694045647618572,
          0.660402325604219,
          0.6611143862339722,
          0.677055349492536,
          0.6716530907694971,
          0.6722346355679375,
          0.6746399353970765,
          0.6732124959586251,
          0.6716065079243302,
          0.6774431448979915,
          0.6715946676010153,
          0.664412789782749,
          0.6696507946492398,
          0.6641354370799711,
          0.6721783488645972,
          0.6758610974317315,
          0.6751001477439412,
          0.6719071807533503,
          0.6623125364715011,
          0.6711690986689388,
          0.6765613155927395,
          0.6674726962593103,
          0.6614180104293458,
          0.6673483339527343,
          0.6689639499576276,
          0.6562832426201011,
          0.6674421667080651,
          0.6604387696056829,
          0.6513682319476908,
          0.6510930150870411,
          0.6569711474604241,
          0.6450330959182077,
          0.6504144030739594,
          0.6471316882222575,
          0.6608468369030973,
          0.6572815246700746,
          0.6725908016132047,
          0.6645466223797034,
          0.6596617153686997,
          0.6537926045323244,
          0.6455553382135354,
          0.6626553115918445,
          0.6652995789531546,
          0.6495860864414613,
          0.650792109760501,
          0.6559765064332629,
          0.6375909906262996,
          0.650175832589632,
          0.66155949583055,
          0.6507847681070504,
          0.6514871473618284,
          0.6498547092201216,
          0.6485609219846843,
          0.6515430717017153,
          0.652509342070209,
          0.648089863932237,
          0.650646204808139,
          0.6573426324642648,
          0.6506427431716676,
          0.653649887532417,
          0.6567794962673169,
          0.6559076298172294,
          0.658217102084079,
          0.6622663468772712,
          0.6632967563240474,
          0.6637411938711262,
          0.6635077640760674,
          0.6473680652941505,
          0.6412672660737614,
          0.6421716197730543,
          0.6404559340516481,
          0.6357163231573251,
          0.639729262274157,
          0.6371709629523814,
          0.6495798779519818,
          0.6420101517617198,
          0.637213832550631,
          0.6479176994710825,
          0.653545343457976,
          0.6550774258636424,
          0.6628316942587026,
          0.653818293281248,
          0.664949541427092,
          -0.021889734623951503,
          0.4598514202481376,
          0.4576577422433412,
          0.4204196424724133,
          0.4276342211592631,
          0.4521865740461521,
          0.4485041933441809,
          0.441348781306232,
          0.460904564093439,
          0.45982551538676547,
          0.47897623391553573,
          0.49123605821885735,
          0.4939101914739338,
          0.5172966673082889,
          0.5192831185339647,
          0.5443566894778726,
          0.5493469252507382,
          0.5496011861377398,
          0.5572700370559547,
          0.5569209376457195,
          0.5485313855756694,
          0.554769193210618,
          0.5593604489226569,
          0.5612868946724886,
          0.5553469426742554,
          0.574469830424709,
          0.569145982898504,
          0.5868641346850086,
          0.5905623048390495,
          0.6086203566473427,
          0.6062309364588101,
          0.6090252055927049,
          0.6081364816838781,
          0.5904990347045392,
          0.5940123412606692,
          0.587558852124447,
          0.5895276709137235,
          0.5911745180230209,
          0.5890029100975367,
          0.59742602766562,
          0.5849590576579747,
          0.5816734348062279,
          0.586869524829386,
          0.5735631201674383,
          0.5757056814840794,
          0.5883035037365846,
          0.5725702625990641,
          0.5672543321096846,
          0.5770953784448303,
          0.5714758664570011,
          0.5714527421783606,
          0.5735989484077535,
          0.5799066323859372,
          0.5862835103162315,
          0.5839674584234598,
          0.5881008147690023,
          0.5739584104453088,
          0.5894912215664352,
          0.595189938991591,
          0.5886707509597171,
          0.5943164778906249,
          0.6052272454411773,
          0.603860731721334,
          0.6086453026864246,
          0.6087930929162128,
          0.6137271222652779,
          0.6052884236642517,
          0.618759423708166,
          0.6126934523547158,
          0.6107566349702472,
          0.6106021482598046,
          0.6094253739182475,
          0.6031224296042375,
          0.5991407300320042,
          0.5966083510671911,
          0.5899840899281341,
          0.5918132536160611,
          0.5937262586089105,
          0.597718920106728,
          0.5910490284654212,
          0.5901142207514427,
          0.5861881574706849,
          0.5907023024793542,
          0.5871982648546206,
          0.5930138565083287,
          0.5916283307664656,
          0.5936324812788162,
          0.5894958043472001,
          0.593465662736664,
          0.5954968337823441,
          0.5964137364542197,
          0.5935492126156416,
          0.5911548736256443,
          0.5971411640203261,
          0.5992086909855724,
          0.5901301902696487,
          0.6010016009688083,
          0.5905444760322841,
          0.5982319532728347,
          0.5999738625751279,
          0.5995599988360524
         ]
        }
       ],
       "layout": {
        "template": {
         "data": {
          "bar": [
           {
            "error_x": {
             "color": "#2a3f5f"
            },
            "error_y": {
             "color": "#2a3f5f"
            },
            "marker": {
             "line": {
              "color": "white",
              "width": 0.5
             },
             "pattern": {
              "fillmode": "overlay",
              "size": 10,
              "solidity": 0.2
             }
            },
            "type": "bar"
           }
          ],
          "barpolar": [
           {
            "marker": {
             "line": {
              "color": "white",
              "width": 0.5
             },
             "pattern": {
              "fillmode": "overlay",
              "size": 10,
              "solidity": 0.2
             }
            },
            "type": "barpolar"
           }
          ],
          "carpet": [
           {
            "aaxis": {
             "endlinecolor": "#2a3f5f",
             "gridcolor": "#C8D4E3",
             "linecolor": "#C8D4E3",
             "minorgridcolor": "#C8D4E3",
             "startlinecolor": "#2a3f5f"
            },
            "baxis": {
             "endlinecolor": "#2a3f5f",
             "gridcolor": "#C8D4E3",
             "linecolor": "#C8D4E3",
             "minorgridcolor": "#C8D4E3",
             "startlinecolor": "#2a3f5f"
            },
            "type": "carpet"
           }
          ],
          "choropleth": [
           {
            "colorbar": {
             "outlinewidth": 0,
             "ticks": ""
            },
            "type": "choropleth"
           }
          ],
          "contour": [
           {
            "colorbar": {
             "outlinewidth": 0,
             "ticks": ""
            },
            "colorscale": [
             [
              0,
              "#0d0887"
             ],
             [
              0.1111111111111111,
              "#46039f"
             ],
             [
              0.2222222222222222,
              "#7201a8"
             ],
             [
              0.3333333333333333,
              "#9c179e"
             ],
             [
              0.4444444444444444,
              "#bd3786"
             ],
             [
              0.5555555555555556,
              "#d8576b"
             ],
             [
              0.6666666666666666,
              "#ed7953"
             ],
             [
              0.7777777777777778,
              "#fb9f3a"
             ],
             [
              0.8888888888888888,
              "#fdca26"
             ],
             [
              1,
              "#f0f921"
             ]
            ],
            "type": "contour"
           }
          ],
          "contourcarpet": [
           {
            "colorbar": {
             "outlinewidth": 0,
             "ticks": ""
            },
            "type": "contourcarpet"
           }
          ],
          "heatmap": [
           {
            "colorbar": {
             "outlinewidth": 0,
             "ticks": ""
            },
            "colorscale": [
             [
              0,
              "#0d0887"
             ],
             [
              0.1111111111111111,
              "#46039f"
             ],
             [
              0.2222222222222222,
              "#7201a8"
             ],
             [
              0.3333333333333333,
              "#9c179e"
             ],
             [
              0.4444444444444444,
              "#bd3786"
             ],
             [
              0.5555555555555556,
              "#d8576b"
             ],
             [
              0.6666666666666666,
              "#ed7953"
             ],
             [
              0.7777777777777778,
              "#fb9f3a"
             ],
             [
              0.8888888888888888,
              "#fdca26"
             ],
             [
              1,
              "#f0f921"
             ]
            ],
            "type": "heatmap"
           }
          ],
          "heatmapgl": [
           {
            "colorbar": {
             "outlinewidth": 0,
             "ticks": ""
            },
            "colorscale": [
             [
              0,
              "#0d0887"
             ],
             [
              0.1111111111111111,
              "#46039f"
             ],
             [
              0.2222222222222222,
              "#7201a8"
             ],
             [
              0.3333333333333333,
              "#9c179e"
             ],
             [
              0.4444444444444444,
              "#bd3786"
             ],
             [
              0.5555555555555556,
              "#d8576b"
             ],
             [
              0.6666666666666666,
              "#ed7953"
             ],
             [
              0.7777777777777778,
              "#fb9f3a"
             ],
             [
              0.8888888888888888,
              "#fdca26"
             ],
             [
              1,
              "#f0f921"
             ]
            ],
            "type": "heatmapgl"
           }
          ],
          "histogram": [
           {
            "marker": {
             "pattern": {
              "fillmode": "overlay",
              "size": 10,
              "solidity": 0.2
             }
            },
            "type": "histogram"
           }
          ],
          "histogram2d": [
           {
            "colorbar": {
             "outlinewidth": 0,
             "ticks": ""
            },
            "colorscale": [
             [
              0,
              "#0d0887"
             ],
             [
              0.1111111111111111,
              "#46039f"
             ],
             [
              0.2222222222222222,
              "#7201a8"
             ],
             [
              0.3333333333333333,
              "#9c179e"
             ],
             [
              0.4444444444444444,
              "#bd3786"
             ],
             [
              0.5555555555555556,
              "#d8576b"
             ],
             [
              0.6666666666666666,
              "#ed7953"
             ],
             [
              0.7777777777777778,
              "#fb9f3a"
             ],
             [
              0.8888888888888888,
              "#fdca26"
             ],
             [
              1,
              "#f0f921"
             ]
            ],
            "type": "histogram2d"
           }
          ],
          "histogram2dcontour": [
           {
            "colorbar": {
             "outlinewidth": 0,
             "ticks": ""
            },
            "colorscale": [
             [
              0,
              "#0d0887"
             ],
             [
              0.1111111111111111,
              "#46039f"
             ],
             [
              0.2222222222222222,
              "#7201a8"
             ],
             [
              0.3333333333333333,
              "#9c179e"
             ],
             [
              0.4444444444444444,
              "#bd3786"
             ],
             [
              0.5555555555555556,
              "#d8576b"
             ],
             [
              0.6666666666666666,
              "#ed7953"
             ],
             [
              0.7777777777777778,
              "#fb9f3a"
             ],
             [
              0.8888888888888888,
              "#fdca26"
             ],
             [
              1,
              "#f0f921"
             ]
            ],
            "type": "histogram2dcontour"
           }
          ],
          "mesh3d": [
           {
            "colorbar": {
             "outlinewidth": 0,
             "ticks": ""
            },
            "type": "mesh3d"
           }
          ],
          "parcoords": [
           {
            "line": {
             "colorbar": {
              "outlinewidth": 0,
              "ticks": ""
             }
            },
            "type": "parcoords"
           }
          ],
          "pie": [
           {
            "automargin": true,
            "type": "pie"
           }
          ],
          "scatter": [
           {
            "fillpattern": {
             "fillmode": "overlay",
             "size": 10,
             "solidity": 0.2
            },
            "type": "scatter"
           }
          ],
          "scatter3d": [
           {
            "line": {
             "colorbar": {
              "outlinewidth": 0,
              "ticks": ""
             }
            },
            "marker": {
             "colorbar": {
              "outlinewidth": 0,
              "ticks": ""
             }
            },
            "type": "scatter3d"
           }
          ],
          "scattercarpet": [
           {
            "marker": {
             "colorbar": {
              "outlinewidth": 0,
              "ticks": ""
             }
            },
            "type": "scattercarpet"
           }
          ],
          "scattergeo": [
           {
            "marker": {
             "colorbar": {
              "outlinewidth": 0,
              "ticks": ""
             }
            },
            "type": "scattergeo"
           }
          ],
          "scattergl": [
           {
            "marker": {
             "colorbar": {
              "outlinewidth": 0,
              "ticks": ""
             }
            },
            "type": "scattergl"
           }
          ],
          "scattermapbox": [
           {
            "marker": {
             "colorbar": {
              "outlinewidth": 0,
              "ticks": ""
             }
            },
            "type": "scattermapbox"
           }
          ],
          "scatterpolar": [
           {
            "marker": {
             "colorbar": {
              "outlinewidth": 0,
              "ticks": ""
             }
            },
            "type": "scatterpolar"
           }
          ],
          "scatterpolargl": [
           {
            "marker": {
             "colorbar": {
              "outlinewidth": 0,
              "ticks": ""
             }
            },
            "type": "scatterpolargl"
           }
          ],
          "scatterternary": [
           {
            "marker": {
             "colorbar": {
              "outlinewidth": 0,
              "ticks": ""
             }
            },
            "type": "scatterternary"
           }
          ],
          "surface": [
           {
            "colorbar": {
             "outlinewidth": 0,
             "ticks": ""
            },
            "colorscale": [
             [
              0,
              "#0d0887"
             ],
             [
              0.1111111111111111,
              "#46039f"
             ],
             [
              0.2222222222222222,
              "#7201a8"
             ],
             [
              0.3333333333333333,
              "#9c179e"
             ],
             [
              0.4444444444444444,
              "#bd3786"
             ],
             [
              0.5555555555555556,
              "#d8576b"
             ],
             [
              0.6666666666666666,
              "#ed7953"
             ],
             [
              0.7777777777777778,
              "#fb9f3a"
             ],
             [
              0.8888888888888888,
              "#fdca26"
             ],
             [
              1,
              "#f0f921"
             ]
            ],
            "type": "surface"
           }
          ],
          "table": [
           {
            "cells": {
             "fill": {
              "color": "#EBF0F8"
             },
             "line": {
              "color": "white"
             }
            },
            "header": {
             "fill": {
              "color": "#C8D4E3"
             },
             "line": {
              "color": "white"
             }
            },
            "type": "table"
           }
          ]
         },
         "layout": {
          "annotationdefaults": {
           "arrowcolor": "#2a3f5f",
           "arrowhead": 0,
           "arrowwidth": 1
          },
          "autotypenumbers": "strict",
          "coloraxis": {
           "colorbar": {
            "outlinewidth": 0,
            "ticks": ""
           }
          },
          "colorscale": {
           "diverging": [
            [
             0,
             "#8e0152"
            ],
            [
             0.1,
             "#c51b7d"
            ],
            [
             0.2,
             "#de77ae"
            ],
            [
             0.3,
             "#f1b6da"
            ],
            [
             0.4,
             "#fde0ef"
            ],
            [
             0.5,
             "#f7f7f7"
            ],
            [
             0.6,
             "#e6f5d0"
            ],
            [
             0.7,
             "#b8e186"
            ],
            [
             0.8,
             "#7fbc41"
            ],
            [
             0.9,
             "#4d9221"
            ],
            [
             1,
             "#276419"
            ]
           ],
           "sequential": [
            [
             0,
             "#0d0887"
            ],
            [
             0.1111111111111111,
             "#46039f"
            ],
            [
             0.2222222222222222,
             "#7201a8"
            ],
            [
             0.3333333333333333,
             "#9c179e"
            ],
            [
             0.4444444444444444,
             "#bd3786"
            ],
            [
             0.5555555555555556,
             "#d8576b"
            ],
            [
             0.6666666666666666,
             "#ed7953"
            ],
            [
             0.7777777777777778,
             "#fb9f3a"
            ],
            [
             0.8888888888888888,
             "#fdca26"
            ],
            [
             1,
             "#f0f921"
            ]
           ],
           "sequentialminus": [
            [
             0,
             "#0d0887"
            ],
            [
             0.1111111111111111,
             "#46039f"
            ],
            [
             0.2222222222222222,
             "#7201a8"
            ],
            [
             0.3333333333333333,
             "#9c179e"
            ],
            [
             0.4444444444444444,
             "#bd3786"
            ],
            [
             0.5555555555555556,
             "#d8576b"
            ],
            [
             0.6666666666666666,
             "#ed7953"
            ],
            [
             0.7777777777777778,
             "#fb9f3a"
            ],
            [
             0.8888888888888888,
             "#fdca26"
            ],
            [
             1,
             "#f0f921"
            ]
           ]
          },
          "colorway": [
           "#636efa",
           "#EF553B",
           "#00cc96",
           "#ab63fa",
           "#FFA15A",
           "#19d3f3",
           "#FF6692",
           "#B6E880",
           "#FF97FF",
           "#FECB52"
          ],
          "font": {
           "color": "#2a3f5f"
          },
          "geo": {
           "bgcolor": "white",
           "lakecolor": "white",
           "landcolor": "white",
           "showlakes": true,
           "showland": true,
           "subunitcolor": "#C8D4E3"
          },
          "hoverlabel": {
           "align": "left"
          },
          "hovermode": "closest",
          "mapbox": {
           "style": "light"
          },
          "paper_bgcolor": "white",
          "plot_bgcolor": "white",
          "polar": {
           "angularaxis": {
            "gridcolor": "#EBF0F8",
            "linecolor": "#EBF0F8",
            "ticks": ""
           },
           "bgcolor": "white",
           "radialaxis": {
            "gridcolor": "#EBF0F8",
            "linecolor": "#EBF0F8",
            "ticks": ""
           }
          },
          "scene": {
           "xaxis": {
            "backgroundcolor": "white",
            "gridcolor": "#DFE8F3",
            "gridwidth": 2,
            "linecolor": "#EBF0F8",
            "showbackground": true,
            "ticks": "",
            "zerolinecolor": "#EBF0F8"
           },
           "yaxis": {
            "backgroundcolor": "white",
            "gridcolor": "#DFE8F3",
            "gridwidth": 2,
            "linecolor": "#EBF0F8",
            "showbackground": true,
            "ticks": "",
            "zerolinecolor": "#EBF0F8"
           },
           "zaxis": {
            "backgroundcolor": "white",
            "gridcolor": "#DFE8F3",
            "gridwidth": 2,
            "linecolor": "#EBF0F8",
            "showbackground": true,
            "ticks": "",
            "zerolinecolor": "#EBF0F8"
           }
          },
          "shapedefaults": {
           "line": {
            "color": "#2a3f5f"
           }
          },
          "ternary": {
           "aaxis": {
            "gridcolor": "#DFE8F3",
            "linecolor": "#A2B1C6",
            "ticks": ""
           },
           "baxis": {
            "gridcolor": "#DFE8F3",
            "linecolor": "#A2B1C6",
            "ticks": ""
           },
           "bgcolor": "white",
           "caxis": {
            "gridcolor": "#DFE8F3",
            "linecolor": "#A2B1C6",
            "ticks": ""
           }
          },
          "title": {
           "x": 0.05
          },
          "xaxis": {
           "automargin": true,
           "gridcolor": "#EBF0F8",
           "linecolor": "#EBF0F8",
           "ticks": "",
           "title": {
            "standoff": 15
           },
           "zerolinecolor": "#EBF0F8",
           "zerolinewidth": 2
          },
          "yaxis": {
           "automargin": true,
           "gridcolor": "#EBF0F8",
           "linecolor": "#EBF0F8",
           "ticks": "",
           "title": {
            "standoff": 15
           },
           "zerolinecolor": "#EBF0F8",
           "zerolinewidth": 2
          }
         }
        },
        "title": {
         "text": "Cross-Validation (N=5) Mean F1 score with Error Bands"
        },
        "xaxis": {
         "title": {
          "text": "Training Steps"
         }
        },
        "yaxis": {
         "range": [
          0.5,
          1
         ],
         "title": {
          "text": "Performance Score"
         }
        }
       }
      }
     },
     "metadata": {},
     "output_type": "display_data"
    },
    {
     "data": {
      "application/vnd.plotly.v1+json": {
       "config": {
        "plotlyServerURL": "https://plot.ly"
       },
       "data": [
        {
         "line": {
          "color": "blue"
         },
         "mode": "lines",
         "name": "Mean F1 Score",
         "type": "scatter",
         "x": [
          0,
          1,
          2,
          3,
          4,
          5,
          6,
          7,
          8,
          9,
          10,
          11,
          12,
          13,
          14,
          15,
          16,
          17,
          18,
          19,
          20,
          21,
          22,
          23,
          24,
          25,
          26,
          27,
          28,
          29,
          30,
          31,
          32,
          33,
          34,
          35,
          36,
          37,
          38,
          39,
          40,
          41,
          42,
          43,
          44,
          45,
          46,
          47,
          48,
          49,
          50,
          51,
          52,
          53,
          54,
          55,
          56,
          57,
          58,
          59,
          60,
          61,
          62,
          63,
          64,
          65,
          66,
          67,
          68,
          69,
          70,
          71,
          72,
          73,
          74,
          75,
          76,
          77,
          78,
          79,
          80,
          81,
          82,
          83,
          84,
          85,
          86,
          87,
          88,
          89,
          90,
          91,
          92,
          93,
          94,
          95,
          96,
          97,
          98,
          99,
          100
         ],
         "y": [
          0.059262510974539,
          0.5040552657219324,
          0.4853682739861602,
          0.4538528318684379,
          0.4701164010317907,
          0.4807143784485557,
          0.4952297976196137,
          0.4924158544509421,
          0.5061848531502531,
          0.5188000979442358,
          0.5277494321594822,
          0.5437428731215909,
          0.5511896104978229,
          0.5690845592693395,
          0.5700892695516352,
          0.5844429101574823,
          0.5983914955732763,
          0.6047441676045795,
          0.6133373009089059,
          0.6086616316249692,
          0.6048228859048208,
          0.615912271351577,
          0.615506769846077,
          0.616760765120213,
          0.614993439035666,
          0.623841163191667,
          0.6203762454114171,
          0.6321536397915001,
          0.6310784862200324,
          0.6365165732150458,
          0.637940865554025,
          0.636580321336338,
          0.6401574152742376,
          0.6331800660681354,
          0.6345562445023052,
          0.6297330164388987,
          0.6259201036926123,
          0.6311718083459799,
          0.6327821128451381,
          0.6324493619624652,
          0.6231885340436603,
          0.6245108843794811,
          0.6279167373935068,
          0.6149231813937697,
          0.6215739240960723,
          0.6243711366711338,
          0.6119692472733774,
          0.6091736735983628,
          0.6170332629526272,
          0.6082544811876044,
          0.61093357262616,
          0.6103653183150055,
          0.6203767346445173,
          0.621782517493153,
          0.6282791300183322,
          0.6263237185743529,
          0.6168100629070042,
          0.6216419130493798,
          0.6203726386025632,
          0.6256630312757808,
          0.6298080284218898,
          0.6274066659413193,
          0.6273264207409175,
          0.6323109045598437,
          0.6231920417712562,
          0.6319514774274549,
          0.6334239597474008,
          0.6347720959076082,
          0.6320902998582721,
          0.6303056720951844,
          0.6295815351222445,
          0.6304842228099814,
          0.6278158858372233,
          0.6236152969821206,
          0.623627277937665,
          0.6236633611961995,
          0.6212279983938643,
          0.6236880730706638,
          0.6272492081870225,
          0.6234783291413253,
          0.6241656614177609,
          0.624227252173978,
          0.6269995294017008,
          0.6254697293628734,
          0.628260810292198,
          0.619498198030308,
          0.6174498736762888,
          0.6158337120601272,
          0.6169607983941561,
          0.6156065784698346,
          0.6180714993641884,
          0.6153600877840115,
          0.6203673757888131,
          0.619575657891023,
          0.6182112617681017,
          0.6190239448703656,
          0.6272734722133921,
          0.6228109509479632,
          0.6305318237657687,
          0.6268960779281879,
          0.6322547701315722
         ]
        },
        {
         "fill": "toself",
         "fillcolor": "rgba(0, 0, 255, 0.2)",
         "line": {
          "color": "rgba(255, 255, 255, 0)"
         },
         "showlegend": false,
         "type": "scatter",
         "x": [
          0,
          1,
          2,
          3,
          4,
          5,
          6,
          7,
          8,
          9,
          10,
          11,
          12,
          13,
          14,
          15,
          16,
          17,
          18,
          19,
          20,
          21,
          22,
          23,
          24,
          25,
          26,
          27,
          28,
          29,
          30,
          31,
          32,
          33,
          34,
          35,
          36,
          37,
          38,
          39,
          40,
          41,
          42,
          43,
          44,
          45,
          46,
          47,
          48,
          49,
          50,
          51,
          52,
          53,
          54,
          55,
          56,
          57,
          58,
          59,
          60,
          61,
          62,
          63,
          64,
          65,
          66,
          67,
          68,
          69,
          70,
          71,
          72,
          73,
          74,
          75,
          76,
          77,
          78,
          79,
          80,
          81,
          82,
          83,
          84,
          85,
          86,
          87,
          88,
          89,
          90,
          91,
          92,
          93,
          94,
          95,
          96,
          97,
          98,
          99,
          100,
          100,
          99,
          98,
          97,
          96,
          95,
          94,
          93,
          92,
          91,
          90,
          89,
          88,
          87,
          86,
          85,
          84,
          83,
          82,
          81,
          80,
          79,
          78,
          77,
          76,
          75,
          74,
          73,
          72,
          71,
          70,
          69,
          68,
          67,
          66,
          65,
          64,
          63,
          62,
          61,
          60,
          59,
          58,
          57,
          56,
          55,
          54,
          53,
          52,
          51,
          50,
          49,
          48,
          47,
          46,
          45,
          44,
          43,
          42,
          41,
          40,
          39,
          38,
          37,
          36,
          35,
          34,
          33,
          32,
          31,
          30,
          29,
          28,
          27,
          26,
          25,
          24,
          23,
          22,
          21,
          20,
          19,
          18,
          17,
          16,
          15,
          14,
          13,
          12,
          11,
          10,
          9,
          8,
          7,
          6,
          5,
          4,
          3,
          2,
          1,
          0
         ],
         "y": [
          0.14041475657302951,
          0.5482591111957271,
          0.5130788057289792,
          0.48728602126446247,
          0.5125985809043183,
          0.5092421828509592,
          0.5419554018950465,
          0.5434829275956522,
          0.5514651422070672,
          0.5777746805017061,
          0.5765226304034288,
          0.5962496880243243,
          0.608469029521712,
          0.6208724512303901,
          0.6208954205693057,
          0.6245291308370919,
          0.6474360658958144,
          0.6598871490714192,
          0.6694045647618572,
          0.660402325604219,
          0.6611143862339722,
          0.677055349492536,
          0.6716530907694971,
          0.6722346355679375,
          0.6746399353970765,
          0.6732124959586251,
          0.6716065079243302,
          0.6774431448979915,
          0.6715946676010153,
          0.664412789782749,
          0.6696507946492398,
          0.6641354370799711,
          0.6721783488645972,
          0.6758610974317315,
          0.6751001477439412,
          0.6719071807533503,
          0.6623125364715011,
          0.6711690986689388,
          0.6765613155927395,
          0.6674726962593103,
          0.6614180104293458,
          0.6673483339527343,
          0.6689639499576276,
          0.6562832426201011,
          0.6674421667080651,
          0.6604387696056829,
          0.6513682319476908,
          0.6510930150870411,
          0.6569711474604241,
          0.6450330959182077,
          0.6504144030739594,
          0.6471316882222575,
          0.6608468369030973,
          0.6572815246700746,
          0.6725908016132047,
          0.6645466223797034,
          0.6596617153686997,
          0.6537926045323244,
          0.6455553382135354,
          0.6626553115918445,
          0.6652995789531546,
          0.6495860864414613,
          0.650792109760501,
          0.6559765064332629,
          0.6375909906262996,
          0.650175832589632,
          0.66155949583055,
          0.6507847681070504,
          0.6514871473618284,
          0.6498547092201216,
          0.6485609219846843,
          0.6515430717017153,
          0.652509342070209,
          0.648089863932237,
          0.650646204808139,
          0.6573426324642648,
          0.6506427431716676,
          0.653649887532417,
          0.6567794962673169,
          0.6559076298172294,
          0.658217102084079,
          0.6622663468772712,
          0.6632967563240474,
          0.6637411938711262,
          0.6635077640760674,
          0.6473680652941505,
          0.6412672660737614,
          0.6421716197730543,
          0.6404559340516481,
          0.6357163231573251,
          0.639729262274157,
          0.6371709629523814,
          0.6495798779519818,
          0.6420101517617198,
          0.637213832550631,
          0.6479176994710825,
          0.653545343457976,
          0.6550774258636424,
          0.6628316942587026,
          0.653818293281248,
          0.664949541427092,
          -0.021889734623951503,
          0.4598514202481376,
          0.4576577422433412,
          0.4204196424724133,
          0.4276342211592631,
          0.4521865740461521,
          0.4485041933441809,
          0.441348781306232,
          0.460904564093439,
          0.45982551538676547,
          0.47897623391553573,
          0.49123605821885735,
          0.4939101914739338,
          0.5172966673082889,
          0.5192831185339647,
          0.5443566894778726,
          0.5493469252507382,
          0.5496011861377398,
          0.5572700370559547,
          0.5569209376457195,
          0.5485313855756694,
          0.554769193210618,
          0.5593604489226569,
          0.5612868946724886,
          0.5553469426742554,
          0.574469830424709,
          0.569145982898504,
          0.5868641346850086,
          0.5905623048390495,
          0.6086203566473427,
          0.6062309364588101,
          0.6090252055927049,
          0.6081364816838781,
          0.5904990347045392,
          0.5940123412606692,
          0.587558852124447,
          0.5895276709137235,
          0.5911745180230209,
          0.5890029100975367,
          0.59742602766562,
          0.5849590576579747,
          0.5816734348062279,
          0.586869524829386,
          0.5735631201674383,
          0.5757056814840794,
          0.5883035037365846,
          0.5725702625990641,
          0.5672543321096846,
          0.5770953784448303,
          0.5714758664570011,
          0.5714527421783606,
          0.5735989484077535,
          0.5799066323859372,
          0.5862835103162315,
          0.5839674584234598,
          0.5881008147690023,
          0.5739584104453088,
          0.5894912215664352,
          0.595189938991591,
          0.5886707509597171,
          0.5943164778906249,
          0.6052272454411773,
          0.603860731721334,
          0.6086453026864246,
          0.6087930929162128,
          0.6137271222652779,
          0.6052884236642517,
          0.618759423708166,
          0.6126934523547158,
          0.6107566349702472,
          0.6106021482598046,
          0.6094253739182475,
          0.6031224296042375,
          0.5991407300320042,
          0.5966083510671911,
          0.5899840899281341,
          0.5918132536160611,
          0.5937262586089105,
          0.597718920106728,
          0.5910490284654212,
          0.5901142207514427,
          0.5861881574706849,
          0.5907023024793542,
          0.5871982648546206,
          0.5930138565083287,
          0.5916283307664656,
          0.5936324812788162,
          0.5894958043472001,
          0.593465662736664,
          0.5954968337823441,
          0.5964137364542197,
          0.5935492126156416,
          0.5911548736256443,
          0.5971411640203261,
          0.5992086909855724,
          0.5901301902696487,
          0.6010016009688083,
          0.5905444760322841,
          0.5982319532728347,
          0.5999738625751279,
          0.5995599988360524
         ]
        }
       ],
       "layout": {
        "template": {
         "data": {
          "bar": [
           {
            "error_x": {
             "color": "#2a3f5f"
            },
            "error_y": {
             "color": "#2a3f5f"
            },
            "marker": {
             "line": {
              "color": "white",
              "width": 0.5
             },
             "pattern": {
              "fillmode": "overlay",
              "size": 10,
              "solidity": 0.2
             }
            },
            "type": "bar"
           }
          ],
          "barpolar": [
           {
            "marker": {
             "line": {
              "color": "white",
              "width": 0.5
             },
             "pattern": {
              "fillmode": "overlay",
              "size": 10,
              "solidity": 0.2
             }
            },
            "type": "barpolar"
           }
          ],
          "carpet": [
           {
            "aaxis": {
             "endlinecolor": "#2a3f5f",
             "gridcolor": "#C8D4E3",
             "linecolor": "#C8D4E3",
             "minorgridcolor": "#C8D4E3",
             "startlinecolor": "#2a3f5f"
            },
            "baxis": {
             "endlinecolor": "#2a3f5f",
             "gridcolor": "#C8D4E3",
             "linecolor": "#C8D4E3",
             "minorgridcolor": "#C8D4E3",
             "startlinecolor": "#2a3f5f"
            },
            "type": "carpet"
           }
          ],
          "choropleth": [
           {
            "colorbar": {
             "outlinewidth": 0,
             "ticks": ""
            },
            "type": "choropleth"
           }
          ],
          "contour": [
           {
            "colorbar": {
             "outlinewidth": 0,
             "ticks": ""
            },
            "colorscale": [
             [
              0,
              "#0d0887"
             ],
             [
              0.1111111111111111,
              "#46039f"
             ],
             [
              0.2222222222222222,
              "#7201a8"
             ],
             [
              0.3333333333333333,
              "#9c179e"
             ],
             [
              0.4444444444444444,
              "#bd3786"
             ],
             [
              0.5555555555555556,
              "#d8576b"
             ],
             [
              0.6666666666666666,
              "#ed7953"
             ],
             [
              0.7777777777777778,
              "#fb9f3a"
             ],
             [
              0.8888888888888888,
              "#fdca26"
             ],
             [
              1,
              "#f0f921"
             ]
            ],
            "type": "contour"
           }
          ],
          "contourcarpet": [
           {
            "colorbar": {
             "outlinewidth": 0,
             "ticks": ""
            },
            "type": "contourcarpet"
           }
          ],
          "heatmap": [
           {
            "colorbar": {
             "outlinewidth": 0,
             "ticks": ""
            },
            "colorscale": [
             [
              0,
              "#0d0887"
             ],
             [
              0.1111111111111111,
              "#46039f"
             ],
             [
              0.2222222222222222,
              "#7201a8"
             ],
             [
              0.3333333333333333,
              "#9c179e"
             ],
             [
              0.4444444444444444,
              "#bd3786"
             ],
             [
              0.5555555555555556,
              "#d8576b"
             ],
             [
              0.6666666666666666,
              "#ed7953"
             ],
             [
              0.7777777777777778,
              "#fb9f3a"
             ],
             [
              0.8888888888888888,
              "#fdca26"
             ],
             [
              1,
              "#f0f921"
             ]
            ],
            "type": "heatmap"
           }
          ],
          "heatmapgl": [
           {
            "colorbar": {
             "outlinewidth": 0,
             "ticks": ""
            },
            "colorscale": [
             [
              0,
              "#0d0887"
             ],
             [
              0.1111111111111111,
              "#46039f"
             ],
             [
              0.2222222222222222,
              "#7201a8"
             ],
             [
              0.3333333333333333,
              "#9c179e"
             ],
             [
              0.4444444444444444,
              "#bd3786"
             ],
             [
              0.5555555555555556,
              "#d8576b"
             ],
             [
              0.6666666666666666,
              "#ed7953"
             ],
             [
              0.7777777777777778,
              "#fb9f3a"
             ],
             [
              0.8888888888888888,
              "#fdca26"
             ],
             [
              1,
              "#f0f921"
             ]
            ],
            "type": "heatmapgl"
           }
          ],
          "histogram": [
           {
            "marker": {
             "pattern": {
              "fillmode": "overlay",
              "size": 10,
              "solidity": 0.2
             }
            },
            "type": "histogram"
           }
          ],
          "histogram2d": [
           {
            "colorbar": {
             "outlinewidth": 0,
             "ticks": ""
            },
            "colorscale": [
             [
              0,
              "#0d0887"
             ],
             [
              0.1111111111111111,
              "#46039f"
             ],
             [
              0.2222222222222222,
              "#7201a8"
             ],
             [
              0.3333333333333333,
              "#9c179e"
             ],
             [
              0.4444444444444444,
              "#bd3786"
             ],
             [
              0.5555555555555556,
              "#d8576b"
             ],
             [
              0.6666666666666666,
              "#ed7953"
             ],
             [
              0.7777777777777778,
              "#fb9f3a"
             ],
             [
              0.8888888888888888,
              "#fdca26"
             ],
             [
              1,
              "#f0f921"
             ]
            ],
            "type": "histogram2d"
           }
          ],
          "histogram2dcontour": [
           {
            "colorbar": {
             "outlinewidth": 0,
             "ticks": ""
            },
            "colorscale": [
             [
              0,
              "#0d0887"
             ],
             [
              0.1111111111111111,
              "#46039f"
             ],
             [
              0.2222222222222222,
              "#7201a8"
             ],
             [
              0.3333333333333333,
              "#9c179e"
             ],
             [
              0.4444444444444444,
              "#bd3786"
             ],
             [
              0.5555555555555556,
              "#d8576b"
             ],
             [
              0.6666666666666666,
              "#ed7953"
             ],
             [
              0.7777777777777778,
              "#fb9f3a"
             ],
             [
              0.8888888888888888,
              "#fdca26"
             ],
             [
              1,
              "#f0f921"
             ]
            ],
            "type": "histogram2dcontour"
           }
          ],
          "mesh3d": [
           {
            "colorbar": {
             "outlinewidth": 0,
             "ticks": ""
            },
            "type": "mesh3d"
           }
          ],
          "parcoords": [
           {
            "line": {
             "colorbar": {
              "outlinewidth": 0,
              "ticks": ""
             }
            },
            "type": "parcoords"
           }
          ],
          "pie": [
           {
            "automargin": true,
            "type": "pie"
           }
          ],
          "scatter": [
           {
            "fillpattern": {
             "fillmode": "overlay",
             "size": 10,
             "solidity": 0.2
            },
            "type": "scatter"
           }
          ],
          "scatter3d": [
           {
            "line": {
             "colorbar": {
              "outlinewidth": 0,
              "ticks": ""
             }
            },
            "marker": {
             "colorbar": {
              "outlinewidth": 0,
              "ticks": ""
             }
            },
            "type": "scatter3d"
           }
          ],
          "scattercarpet": [
           {
            "marker": {
             "colorbar": {
              "outlinewidth": 0,
              "ticks": ""
             }
            },
            "type": "scattercarpet"
           }
          ],
          "scattergeo": [
           {
            "marker": {
             "colorbar": {
              "outlinewidth": 0,
              "ticks": ""
             }
            },
            "type": "scattergeo"
           }
          ],
          "scattergl": [
           {
            "marker": {
             "colorbar": {
              "outlinewidth": 0,
              "ticks": ""
             }
            },
            "type": "scattergl"
           }
          ],
          "scattermapbox": [
           {
            "marker": {
             "colorbar": {
              "outlinewidth": 0,
              "ticks": ""
             }
            },
            "type": "scattermapbox"
           }
          ],
          "scatterpolar": [
           {
            "marker": {
             "colorbar": {
              "outlinewidth": 0,
              "ticks": ""
             }
            },
            "type": "scatterpolar"
           }
          ],
          "scatterpolargl": [
           {
            "marker": {
             "colorbar": {
              "outlinewidth": 0,
              "ticks": ""
             }
            },
            "type": "scatterpolargl"
           }
          ],
          "scatterternary": [
           {
            "marker": {
             "colorbar": {
              "outlinewidth": 0,
              "ticks": ""
             }
            },
            "type": "scatterternary"
           }
          ],
          "surface": [
           {
            "colorbar": {
             "outlinewidth": 0,
             "ticks": ""
            },
            "colorscale": [
             [
              0,
              "#0d0887"
             ],
             [
              0.1111111111111111,
              "#46039f"
             ],
             [
              0.2222222222222222,
              "#7201a8"
             ],
             [
              0.3333333333333333,
              "#9c179e"
             ],
             [
              0.4444444444444444,
              "#bd3786"
             ],
             [
              0.5555555555555556,
              "#d8576b"
             ],
             [
              0.6666666666666666,
              "#ed7953"
             ],
             [
              0.7777777777777778,
              "#fb9f3a"
             ],
             [
              0.8888888888888888,
              "#fdca26"
             ],
             [
              1,
              "#f0f921"
             ]
            ],
            "type": "surface"
           }
          ],
          "table": [
           {
            "cells": {
             "fill": {
              "color": "#EBF0F8"
             },
             "line": {
              "color": "white"
             }
            },
            "header": {
             "fill": {
              "color": "#C8D4E3"
             },
             "line": {
              "color": "white"
             }
            },
            "type": "table"
           }
          ]
         },
         "layout": {
          "annotationdefaults": {
           "arrowcolor": "#2a3f5f",
           "arrowhead": 0,
           "arrowwidth": 1
          },
          "autotypenumbers": "strict",
          "coloraxis": {
           "colorbar": {
            "outlinewidth": 0,
            "ticks": ""
           }
          },
          "colorscale": {
           "diverging": [
            [
             0,
             "#8e0152"
            ],
            [
             0.1,
             "#c51b7d"
            ],
            [
             0.2,
             "#de77ae"
            ],
            [
             0.3,
             "#f1b6da"
            ],
            [
             0.4,
             "#fde0ef"
            ],
            [
             0.5,
             "#f7f7f7"
            ],
            [
             0.6,
             "#e6f5d0"
            ],
            [
             0.7,
             "#b8e186"
            ],
            [
             0.8,
             "#7fbc41"
            ],
            [
             0.9,
             "#4d9221"
            ],
            [
             1,
             "#276419"
            ]
           ],
           "sequential": [
            [
             0,
             "#0d0887"
            ],
            [
             0.1111111111111111,
             "#46039f"
            ],
            [
             0.2222222222222222,
             "#7201a8"
            ],
            [
             0.3333333333333333,
             "#9c179e"
            ],
            [
             0.4444444444444444,
             "#bd3786"
            ],
            [
             0.5555555555555556,
             "#d8576b"
            ],
            [
             0.6666666666666666,
             "#ed7953"
            ],
            [
             0.7777777777777778,
             "#fb9f3a"
            ],
            [
             0.8888888888888888,
             "#fdca26"
            ],
            [
             1,
             "#f0f921"
            ]
           ],
           "sequentialminus": [
            [
             0,
             "#0d0887"
            ],
            [
             0.1111111111111111,
             "#46039f"
            ],
            [
             0.2222222222222222,
             "#7201a8"
            ],
            [
             0.3333333333333333,
             "#9c179e"
            ],
            [
             0.4444444444444444,
             "#bd3786"
            ],
            [
             0.5555555555555556,
             "#d8576b"
            ],
            [
             0.6666666666666666,
             "#ed7953"
            ],
            [
             0.7777777777777778,
             "#fb9f3a"
            ],
            [
             0.8888888888888888,
             "#fdca26"
            ],
            [
             1,
             "#f0f921"
            ]
           ]
          },
          "colorway": [
           "#636efa",
           "#EF553B",
           "#00cc96",
           "#ab63fa",
           "#FFA15A",
           "#19d3f3",
           "#FF6692",
           "#B6E880",
           "#FF97FF",
           "#FECB52"
          ],
          "font": {
           "color": "#2a3f5f"
          },
          "geo": {
           "bgcolor": "white",
           "lakecolor": "white",
           "landcolor": "white",
           "showlakes": true,
           "showland": true,
           "subunitcolor": "#C8D4E3"
          },
          "hoverlabel": {
           "align": "left"
          },
          "hovermode": "closest",
          "mapbox": {
           "style": "light"
          },
          "paper_bgcolor": "white",
          "plot_bgcolor": "white",
          "polar": {
           "angularaxis": {
            "gridcolor": "#EBF0F8",
            "linecolor": "#EBF0F8",
            "ticks": ""
           },
           "bgcolor": "white",
           "radialaxis": {
            "gridcolor": "#EBF0F8",
            "linecolor": "#EBF0F8",
            "ticks": ""
           }
          },
          "scene": {
           "xaxis": {
            "backgroundcolor": "white",
            "gridcolor": "#DFE8F3",
            "gridwidth": 2,
            "linecolor": "#EBF0F8",
            "showbackground": true,
            "ticks": "",
            "zerolinecolor": "#EBF0F8"
           },
           "yaxis": {
            "backgroundcolor": "white",
            "gridcolor": "#DFE8F3",
            "gridwidth": 2,
            "linecolor": "#EBF0F8",
            "showbackground": true,
            "ticks": "",
            "zerolinecolor": "#EBF0F8"
           },
           "zaxis": {
            "backgroundcolor": "white",
            "gridcolor": "#DFE8F3",
            "gridwidth": 2,
            "linecolor": "#EBF0F8",
            "showbackground": true,
            "ticks": "",
            "zerolinecolor": "#EBF0F8"
           }
          },
          "shapedefaults": {
           "line": {
            "color": "#2a3f5f"
           }
          },
          "ternary": {
           "aaxis": {
            "gridcolor": "#DFE8F3",
            "linecolor": "#A2B1C6",
            "ticks": ""
           },
           "baxis": {
            "gridcolor": "#DFE8F3",
            "linecolor": "#A2B1C6",
            "ticks": ""
           },
           "bgcolor": "white",
           "caxis": {
            "gridcolor": "#DFE8F3",
            "linecolor": "#A2B1C6",
            "ticks": ""
           }
          },
          "title": {
           "x": 0.05
          },
          "xaxis": {
           "automargin": true,
           "gridcolor": "#EBF0F8",
           "linecolor": "#EBF0F8",
           "ticks": "",
           "title": {
            "standoff": 15
           },
           "zerolinecolor": "#EBF0F8",
           "zerolinewidth": 2
          },
          "yaxis": {
           "automargin": true,
           "gridcolor": "#EBF0F8",
           "linecolor": "#EBF0F8",
           "ticks": "",
           "title": {
            "standoff": 15
           },
           "zerolinecolor": "#EBF0F8",
           "zerolinewidth": 2
          }
         }
        },
        "title": {
         "text": "Cross-Validation (N=5) Mean F1 score with Error Bands"
        },
        "xaxis": {
         "title": {
          "text": "Training Steps"
         }
        },
        "yaxis": {
         "range": [
          0.5,
          1
         ],
         "title": {
          "text": "Performance Score"
         }
        }
       }
      }
     },
     "metadata": {},
     "output_type": "display_data"
    }
   ],
   "source": [
    "from ARISA_DSML.train import plot_error_scatter\n",
    "cv_results = pd.read_csv(cv_output_path)\n",
    "plot_error_scatter(\n",
    "    df_plot=cv_results, \n",
    "    name=\"Mean F1 Score\", \n",
    "    title=\"Cross-Validation (N=5) Mean F1 score with Error Bands\",\n",
    "    xtitle=\"Training Steps\",\n",
    "    ytitle=\"Performance Score\",\n",
    "    yaxis_range=[0.5, 1]\n",
    ")"
   ]
  },
  {
   "cell_type": "code",
   "execution_count": 48,
   "id": "d77edfd5",
   "metadata": {},
   "outputs": [
    {
     "data": {
      "application/vnd.plotly.v1+json": {
       "config": {
        "plotlyServerURL": "https://plot.ly"
       },
       "data": [
        {
         "line": {
          "color": "blue"
         },
         "mode": "lines",
         "name": "Mean logloss",
         "type": "scatter",
         "x": [
          0,
          1,
          2,
          3,
          4,
          5,
          6,
          7,
          8,
          9,
          10,
          11,
          12,
          13,
          14,
          15,
          16,
          17,
          18,
          19,
          20,
          21,
          22,
          23,
          24,
          25,
          26,
          27,
          28,
          29,
          30,
          31,
          32,
          33,
          34,
          35,
          36,
          37,
          38,
          39,
          40,
          41,
          42,
          43,
          44,
          45,
          46,
          47,
          48,
          49,
          50,
          51,
          52,
          53,
          54,
          55,
          56,
          57,
          58,
          59,
          60,
          61,
          62,
          63,
          64,
          65,
          66,
          67,
          68,
          69,
          70,
          71,
          72,
          73,
          74,
          75,
          76,
          77,
          78,
          79,
          80,
          81,
          82,
          83,
          84,
          85,
          86,
          87,
          88,
          89,
          90,
          91,
          92,
          93,
          94,
          95,
          96,
          97,
          98,
          99,
          100
         ],
         "y": [
          0.6589789115789962,
          0.5999652964095302,
          0.58951251513018,
          0.5722839048063275,
          0.5558225480976204,
          0.5450057069054093,
          0.5369503935678516,
          0.5287964097549775,
          0.5256487324365475,
          0.5230112027469529,
          0.5164740992606608,
          0.513230402604699,
          0.5105689621726868,
          0.5087625444210648,
          0.5087341350409869,
          0.5065774241444934,
          0.5045164654405261,
          0.5000392721101474,
          0.4992255744678024,
          0.4956209617001723,
          0.4943146268457173,
          0.4913218890469452,
          0.4938751193062751,
          0.4907364753255187,
          0.4915821220199206,
          0.4917208281367157,
          0.4917474094236466,
          0.4926103159781223,
          0.4923147340845176,
          0.495016072895776,
          0.4923266745303271,
          0.4927067281367631,
          0.4907174253806148,
          0.4891567445931526,
          0.4911913696965014,
          0.4912475271466697,
          0.4912248617591831,
          0.491200684665354,
          0.4940939705369372,
          0.4978442763374048,
          0.5008976491169232,
          0.5017347100786375,
          0.5011201955048505,
          0.4987374849413987,
          0.5019706472036212,
          0.5045789502946721,
          0.509485391065983,
          0.5068005820299449,
          0.5076195025025013,
          0.5104494179264529,
          0.5133443968130955,
          0.5125383669122949,
          0.5089183835990526,
          0.5108304793688001,
          0.5113392864605478,
          0.5135778038336343,
          0.5162840414966509,
          0.5207170796919801,
          0.5218958612332611,
          0.5242951148143054,
          0.53019110142055,
          0.5394931623331345,
          0.5382693400890574,
          0.5383610243527922,
          0.542733071779908,
          0.5417722832544205,
          0.5425900679565746,
          0.5419648549637566,
          0.5390993683803389,
          0.5395696325566667,
          0.5396738970688626,
          0.5405929413596898,
          0.5399838303546364,
          0.5396761849175901,
          0.5427311932900849,
          0.5431381873190281,
          0.5440048309179911,
          0.5452158888823447,
          0.548135787684533,
          0.5523349291121233,
          0.5543861380335946,
          0.5541700503092548,
          0.5539963510446071,
          0.5526758088419722,
          0.5529577713799246,
          0.5564776814151379,
          0.558897682535964,
          0.5608555255629195,
          0.5624563739753692,
          0.5631144068750243,
          0.5635199671048345,
          0.5658761837962001,
          0.5676254562619554,
          0.570201269277423,
          0.5715478648668983,
          0.5747144785285679,
          0.5752008433120214,
          0.5750573791741247,
          0.5750577786299345,
          0.5755567842593875,
          0.5755369406939762
         ]
        },
        {
         "fill": "toself",
         "fillcolor": "rgba(0, 0, 255, 0.2)",
         "line": {
          "color": "rgba(255, 255, 255, 0)"
         },
         "showlegend": false,
         "type": "scatter",
         "x": [
          0,
          1,
          2,
          3,
          4,
          5,
          6,
          7,
          8,
          9,
          10,
          11,
          12,
          13,
          14,
          15,
          16,
          17,
          18,
          19,
          20,
          21,
          22,
          23,
          24,
          25,
          26,
          27,
          28,
          29,
          30,
          31,
          32,
          33,
          34,
          35,
          36,
          37,
          38,
          39,
          40,
          41,
          42,
          43,
          44,
          45,
          46,
          47,
          48,
          49,
          50,
          51,
          52,
          53,
          54,
          55,
          56,
          57,
          58,
          59,
          60,
          61,
          62,
          63,
          64,
          65,
          66,
          67,
          68,
          69,
          70,
          71,
          72,
          73,
          74,
          75,
          76,
          77,
          78,
          79,
          80,
          81,
          82,
          83,
          84,
          85,
          86,
          87,
          88,
          89,
          90,
          91,
          92,
          93,
          94,
          95,
          96,
          97,
          98,
          99,
          100,
          100,
          99,
          98,
          97,
          96,
          95,
          94,
          93,
          92,
          91,
          90,
          89,
          88,
          87,
          86,
          85,
          84,
          83,
          82,
          81,
          80,
          79,
          78,
          77,
          76,
          75,
          74,
          73,
          72,
          71,
          70,
          69,
          68,
          67,
          66,
          65,
          64,
          63,
          62,
          61,
          60,
          59,
          58,
          57,
          56,
          55,
          54,
          53,
          52,
          51,
          50,
          49,
          48,
          47,
          46,
          45,
          44,
          43,
          42,
          41,
          40,
          39,
          38,
          37,
          36,
          35,
          34,
          33,
          32,
          31,
          30,
          29,
          28,
          27,
          26,
          25,
          24,
          23,
          22,
          21,
          20,
          19,
          18,
          17,
          16,
          15,
          14,
          13,
          12,
          11,
          10,
          9,
          8,
          7,
          6,
          5,
          4,
          3,
          2,
          1,
          0
         ],
         "y": [
          0.6654256745973519,
          0.6021644260560309,
          0.5944874449055768,
          0.5770494858591272,
          0.5617956627033565,
          0.5523445574360645,
          0.5500493469707892,
          0.5382137710741912,
          0.5341482621501992,
          0.5305055112127445,
          0.5246451182712214,
          0.523624695991056,
          0.522016819731403,
          0.5223016113164234,
          0.5275577125148289,
          0.5245054566385849,
          0.5200815930399126,
          0.5188802781142114,
          0.5202943705088359,
          0.5176216222674294,
          0.5161521551951325,
          0.5165076159475434,
          0.5208631846205742,
          0.5198422483877837,
          0.5187294251509807,
          0.5192189703168978,
          0.5196247679849965,
          0.5221231807683008,
          0.5228515301055192,
          0.5235062771746309,
          0.5225291362078587,
          0.5244914357652403,
          0.5246679871126753,
          0.5262758595100812,
          0.5260256727099897,
          0.528461873411187,
          0.5277048870612507,
          0.5276004239737389,
          0.5308687416483616,
          0.5373419250355459,
          0.5442448815767853,
          0.5441006822509372,
          0.5443156032971488,
          0.5370402267896595,
          0.5372972648085461,
          0.5419320366312966,
          0.5476623091618145,
          0.5499425534303453,
          0.5530100538550354,
          0.5518760520954227,
          0.5562854775680436,
          0.5587743825354614,
          0.5537096826838394,
          0.5556468543003283,
          0.5573587776030686,
          0.5595362971816447,
          0.5637768133044233,
          0.5699249971351263,
          0.5699949519264308,
          0.5691408666115062,
          0.5751323805971618,
          0.5835209675623148,
          0.5865651946661493,
          0.58553281701941,
          0.5896621519610319,
          0.5884581945519819,
          0.5898754094269074,
          0.5878221985523435,
          0.5861201290216889,
          0.5900959427232096,
          0.5924173938322446,
          0.5932828179176153,
          0.5944818737049383,
          0.5921063910857779,
          0.5951156488512261,
          0.5972832603305939,
          0.5990285739385657,
          0.5993161923853964,
          0.6102705719242921,
          0.6152886371180074,
          0.6151653903944034,
          0.6132014088478532,
          0.6136702457931913,
          0.611483342918259,
          0.6114826356921128,
          0.6175142046040171,
          0.6212997625917319,
          0.6243788044762254,
          0.6275571852000291,
          0.6279543734918945,
          0.6283186674112857,
          0.6352111994421682,
          0.6393140049121435,
          0.6421438522127778,
          0.6402256299689018,
          0.6423089190480893,
          0.644326343386392,
          0.6430994403591844,
          0.6446770646295283,
          0.6443125799273626,
          0.645235112283643,
          0.6525321485606406,
          0.5977661667630295,
          0.5845375853547832,
          0.5675183237535278,
          0.5498494334918844,
          0.5376668563747541,
          0.5238514401649139,
          0.5193790484357639,
          0.5171492027228959,
          0.5155168942811613,
          0.5083030802501002,
          0.502836109218342,
          0.49912110461397047,
          0.49522347752570633,
          0.48991055756714486,
          0.4886493916504018,
          0.4889513378411396,
          0.4811982661060834,
          0.478156778426769,
          0.4736203011329152,
          0.4724770984963021,
          0.466136162146347,
          0.4668870539919759,
          0.46163070226325364,
          0.4644348188888604,
          0.4642226859565336,
          0.4638700508622967,
          0.46309745118794393,
          0.46177793806351597,
          0.46652586861692097,
          0.4621242128527955,
          0.4609220205082859,
          0.4567668636485543,
          0.45203762967622413,
          0.4563570666830131,
          0.4540331808821524,
          0.4547448364571155,
          0.4548009453569691,
          0.4573191994255128,
          0.4583466276392637,
          0.45755041665706125,
          0.45936873790633764,
          0.45792478771255235,
          0.46043474309313787,
          0.4666440295986963,
          0.46722586395804766,
          0.4713084729701515,
          0.4636586106295446,
          0.4622289511499672,
          0.46902278375748313,
          0.47040331605814745,
          0.46630235128912845,
          0.46412708451426593,
          0.4660141044372719,
          0.46531979531802703,
          0.4676193104856239,
          0.46879126968887835,
          0.47150916224883394,
          0.47379677054009156,
          0.47944936301710445,
          0.4852498222439383,
          0.4954653571039542,
          0.48997348551196535,
          0.4911892316861744,
          0.49580399159878413,
          0.4950863719568591,
          0.4953047264862418,
          0.4961075113751697,
          0.49207860773898887,
          0.48904332239012366,
          0.4869304003054806,
          0.48790306480176443,
          0.4854857870043345,
          0.4872459787494023,
          0.4903467377289436,
          0.4889931143074623,
          0.4889810878974165,
          0.4911155853792931,
          0.48600100344477376,
          0.4893812211062393,
          0.4936068856727858,
          0.4951386917706564,
          0.4943224562960229,
          0.4938682747656854,
          0.49443290706773646,
          0.49544115822625867,
          0.496495602480196,
          0.4973322466496136,
          0.4973555627507093,
          0.49827444025815415,
          0.49872126679838336,
          0.49654116815023197,
          0.4959369076117673,
          0.49825868634206816,
          0.5028700997648949,
          0.5071200380090466,
          0.5060753432376507,
          0.507015317989065,
          0.5054384926303406,
          0.5068009885914124,
          0.5058387691043094
         ]
        }
       ],
       "layout": {
        "template": {
         "data": {
          "bar": [
           {
            "error_x": {
             "color": "#2a3f5f"
            },
            "error_y": {
             "color": "#2a3f5f"
            },
            "marker": {
             "line": {
              "color": "white",
              "width": 0.5
             },
             "pattern": {
              "fillmode": "overlay",
              "size": 10,
              "solidity": 0.2
             }
            },
            "type": "bar"
           }
          ],
          "barpolar": [
           {
            "marker": {
             "line": {
              "color": "white",
              "width": 0.5
             },
             "pattern": {
              "fillmode": "overlay",
              "size": 10,
              "solidity": 0.2
             }
            },
            "type": "barpolar"
           }
          ],
          "carpet": [
           {
            "aaxis": {
             "endlinecolor": "#2a3f5f",
             "gridcolor": "#C8D4E3",
             "linecolor": "#C8D4E3",
             "minorgridcolor": "#C8D4E3",
             "startlinecolor": "#2a3f5f"
            },
            "baxis": {
             "endlinecolor": "#2a3f5f",
             "gridcolor": "#C8D4E3",
             "linecolor": "#C8D4E3",
             "minorgridcolor": "#C8D4E3",
             "startlinecolor": "#2a3f5f"
            },
            "type": "carpet"
           }
          ],
          "choropleth": [
           {
            "colorbar": {
             "outlinewidth": 0,
             "ticks": ""
            },
            "type": "choropleth"
           }
          ],
          "contour": [
           {
            "colorbar": {
             "outlinewidth": 0,
             "ticks": ""
            },
            "colorscale": [
             [
              0,
              "#0d0887"
             ],
             [
              0.1111111111111111,
              "#46039f"
             ],
             [
              0.2222222222222222,
              "#7201a8"
             ],
             [
              0.3333333333333333,
              "#9c179e"
             ],
             [
              0.4444444444444444,
              "#bd3786"
             ],
             [
              0.5555555555555556,
              "#d8576b"
             ],
             [
              0.6666666666666666,
              "#ed7953"
             ],
             [
              0.7777777777777778,
              "#fb9f3a"
             ],
             [
              0.8888888888888888,
              "#fdca26"
             ],
             [
              1,
              "#f0f921"
             ]
            ],
            "type": "contour"
           }
          ],
          "contourcarpet": [
           {
            "colorbar": {
             "outlinewidth": 0,
             "ticks": ""
            },
            "type": "contourcarpet"
           }
          ],
          "heatmap": [
           {
            "colorbar": {
             "outlinewidth": 0,
             "ticks": ""
            },
            "colorscale": [
             [
              0,
              "#0d0887"
             ],
             [
              0.1111111111111111,
              "#46039f"
             ],
             [
              0.2222222222222222,
              "#7201a8"
             ],
             [
              0.3333333333333333,
              "#9c179e"
             ],
             [
              0.4444444444444444,
              "#bd3786"
             ],
             [
              0.5555555555555556,
              "#d8576b"
             ],
             [
              0.6666666666666666,
              "#ed7953"
             ],
             [
              0.7777777777777778,
              "#fb9f3a"
             ],
             [
              0.8888888888888888,
              "#fdca26"
             ],
             [
              1,
              "#f0f921"
             ]
            ],
            "type": "heatmap"
           }
          ],
          "heatmapgl": [
           {
            "colorbar": {
             "outlinewidth": 0,
             "ticks": ""
            },
            "colorscale": [
             [
              0,
              "#0d0887"
             ],
             [
              0.1111111111111111,
              "#46039f"
             ],
             [
              0.2222222222222222,
              "#7201a8"
             ],
             [
              0.3333333333333333,
              "#9c179e"
             ],
             [
              0.4444444444444444,
              "#bd3786"
             ],
             [
              0.5555555555555556,
              "#d8576b"
             ],
             [
              0.6666666666666666,
              "#ed7953"
             ],
             [
              0.7777777777777778,
              "#fb9f3a"
             ],
             [
              0.8888888888888888,
              "#fdca26"
             ],
             [
              1,
              "#f0f921"
             ]
            ],
            "type": "heatmapgl"
           }
          ],
          "histogram": [
           {
            "marker": {
             "pattern": {
              "fillmode": "overlay",
              "size": 10,
              "solidity": 0.2
             }
            },
            "type": "histogram"
           }
          ],
          "histogram2d": [
           {
            "colorbar": {
             "outlinewidth": 0,
             "ticks": ""
            },
            "colorscale": [
             [
              0,
              "#0d0887"
             ],
             [
              0.1111111111111111,
              "#46039f"
             ],
             [
              0.2222222222222222,
              "#7201a8"
             ],
             [
              0.3333333333333333,
              "#9c179e"
             ],
             [
              0.4444444444444444,
              "#bd3786"
             ],
             [
              0.5555555555555556,
              "#d8576b"
             ],
             [
              0.6666666666666666,
              "#ed7953"
             ],
             [
              0.7777777777777778,
              "#fb9f3a"
             ],
             [
              0.8888888888888888,
              "#fdca26"
             ],
             [
              1,
              "#f0f921"
             ]
            ],
            "type": "histogram2d"
           }
          ],
          "histogram2dcontour": [
           {
            "colorbar": {
             "outlinewidth": 0,
             "ticks": ""
            },
            "colorscale": [
             [
              0,
              "#0d0887"
             ],
             [
              0.1111111111111111,
              "#46039f"
             ],
             [
              0.2222222222222222,
              "#7201a8"
             ],
             [
              0.3333333333333333,
              "#9c179e"
             ],
             [
              0.4444444444444444,
              "#bd3786"
             ],
             [
              0.5555555555555556,
              "#d8576b"
             ],
             [
              0.6666666666666666,
              "#ed7953"
             ],
             [
              0.7777777777777778,
              "#fb9f3a"
             ],
             [
              0.8888888888888888,
              "#fdca26"
             ],
             [
              1,
              "#f0f921"
             ]
            ],
            "type": "histogram2dcontour"
           }
          ],
          "mesh3d": [
           {
            "colorbar": {
             "outlinewidth": 0,
             "ticks": ""
            },
            "type": "mesh3d"
           }
          ],
          "parcoords": [
           {
            "line": {
             "colorbar": {
              "outlinewidth": 0,
              "ticks": ""
             }
            },
            "type": "parcoords"
           }
          ],
          "pie": [
           {
            "automargin": true,
            "type": "pie"
           }
          ],
          "scatter": [
           {
            "fillpattern": {
             "fillmode": "overlay",
             "size": 10,
             "solidity": 0.2
            },
            "type": "scatter"
           }
          ],
          "scatter3d": [
           {
            "line": {
             "colorbar": {
              "outlinewidth": 0,
              "ticks": ""
             }
            },
            "marker": {
             "colorbar": {
              "outlinewidth": 0,
              "ticks": ""
             }
            },
            "type": "scatter3d"
           }
          ],
          "scattercarpet": [
           {
            "marker": {
             "colorbar": {
              "outlinewidth": 0,
              "ticks": ""
             }
            },
            "type": "scattercarpet"
           }
          ],
          "scattergeo": [
           {
            "marker": {
             "colorbar": {
              "outlinewidth": 0,
              "ticks": ""
             }
            },
            "type": "scattergeo"
           }
          ],
          "scattergl": [
           {
            "marker": {
             "colorbar": {
              "outlinewidth": 0,
              "ticks": ""
             }
            },
            "type": "scattergl"
           }
          ],
          "scattermapbox": [
           {
            "marker": {
             "colorbar": {
              "outlinewidth": 0,
              "ticks": ""
             }
            },
            "type": "scattermapbox"
           }
          ],
          "scatterpolar": [
           {
            "marker": {
             "colorbar": {
              "outlinewidth": 0,
              "ticks": ""
             }
            },
            "type": "scatterpolar"
           }
          ],
          "scatterpolargl": [
           {
            "marker": {
             "colorbar": {
              "outlinewidth": 0,
              "ticks": ""
             }
            },
            "type": "scatterpolargl"
           }
          ],
          "scatterternary": [
           {
            "marker": {
             "colorbar": {
              "outlinewidth": 0,
              "ticks": ""
             }
            },
            "type": "scatterternary"
           }
          ],
          "surface": [
           {
            "colorbar": {
             "outlinewidth": 0,
             "ticks": ""
            },
            "colorscale": [
             [
              0,
              "#0d0887"
             ],
             [
              0.1111111111111111,
              "#46039f"
             ],
             [
              0.2222222222222222,
              "#7201a8"
             ],
             [
              0.3333333333333333,
              "#9c179e"
             ],
             [
              0.4444444444444444,
              "#bd3786"
             ],
             [
              0.5555555555555556,
              "#d8576b"
             ],
             [
              0.6666666666666666,
              "#ed7953"
             ],
             [
              0.7777777777777778,
              "#fb9f3a"
             ],
             [
              0.8888888888888888,
              "#fdca26"
             ],
             [
              1,
              "#f0f921"
             ]
            ],
            "type": "surface"
           }
          ],
          "table": [
           {
            "cells": {
             "fill": {
              "color": "#EBF0F8"
             },
             "line": {
              "color": "white"
             }
            },
            "header": {
             "fill": {
              "color": "#C8D4E3"
             },
             "line": {
              "color": "white"
             }
            },
            "type": "table"
           }
          ]
         },
         "layout": {
          "annotationdefaults": {
           "arrowcolor": "#2a3f5f",
           "arrowhead": 0,
           "arrowwidth": 1
          },
          "autotypenumbers": "strict",
          "coloraxis": {
           "colorbar": {
            "outlinewidth": 0,
            "ticks": ""
           }
          },
          "colorscale": {
           "diverging": [
            [
             0,
             "#8e0152"
            ],
            [
             0.1,
             "#c51b7d"
            ],
            [
             0.2,
             "#de77ae"
            ],
            [
             0.3,
             "#f1b6da"
            ],
            [
             0.4,
             "#fde0ef"
            ],
            [
             0.5,
             "#f7f7f7"
            ],
            [
             0.6,
             "#e6f5d0"
            ],
            [
             0.7,
             "#b8e186"
            ],
            [
             0.8,
             "#7fbc41"
            ],
            [
             0.9,
             "#4d9221"
            ],
            [
             1,
             "#276419"
            ]
           ],
           "sequential": [
            [
             0,
             "#0d0887"
            ],
            [
             0.1111111111111111,
             "#46039f"
            ],
            [
             0.2222222222222222,
             "#7201a8"
            ],
            [
             0.3333333333333333,
             "#9c179e"
            ],
            [
             0.4444444444444444,
             "#bd3786"
            ],
            [
             0.5555555555555556,
             "#d8576b"
            ],
            [
             0.6666666666666666,
             "#ed7953"
            ],
            [
             0.7777777777777778,
             "#fb9f3a"
            ],
            [
             0.8888888888888888,
             "#fdca26"
            ],
            [
             1,
             "#f0f921"
            ]
           ],
           "sequentialminus": [
            [
             0,
             "#0d0887"
            ],
            [
             0.1111111111111111,
             "#46039f"
            ],
            [
             0.2222222222222222,
             "#7201a8"
            ],
            [
             0.3333333333333333,
             "#9c179e"
            ],
            [
             0.4444444444444444,
             "#bd3786"
            ],
            [
             0.5555555555555556,
             "#d8576b"
            ],
            [
             0.6666666666666666,
             "#ed7953"
            ],
            [
             0.7777777777777778,
             "#fb9f3a"
            ],
            [
             0.8888888888888888,
             "#fdca26"
            ],
            [
             1,
             "#f0f921"
            ]
           ]
          },
          "colorway": [
           "#636efa",
           "#EF553B",
           "#00cc96",
           "#ab63fa",
           "#FFA15A",
           "#19d3f3",
           "#FF6692",
           "#B6E880",
           "#FF97FF",
           "#FECB52"
          ],
          "font": {
           "color": "#2a3f5f"
          },
          "geo": {
           "bgcolor": "white",
           "lakecolor": "white",
           "landcolor": "white",
           "showlakes": true,
           "showland": true,
           "subunitcolor": "#C8D4E3"
          },
          "hoverlabel": {
           "align": "left"
          },
          "hovermode": "closest",
          "mapbox": {
           "style": "light"
          },
          "paper_bgcolor": "white",
          "plot_bgcolor": "white",
          "polar": {
           "angularaxis": {
            "gridcolor": "#EBF0F8",
            "linecolor": "#EBF0F8",
            "ticks": ""
           },
           "bgcolor": "white",
           "radialaxis": {
            "gridcolor": "#EBF0F8",
            "linecolor": "#EBF0F8",
            "ticks": ""
           }
          },
          "scene": {
           "xaxis": {
            "backgroundcolor": "white",
            "gridcolor": "#DFE8F3",
            "gridwidth": 2,
            "linecolor": "#EBF0F8",
            "showbackground": true,
            "ticks": "",
            "zerolinecolor": "#EBF0F8"
           },
           "yaxis": {
            "backgroundcolor": "white",
            "gridcolor": "#DFE8F3",
            "gridwidth": 2,
            "linecolor": "#EBF0F8",
            "showbackground": true,
            "ticks": "",
            "zerolinecolor": "#EBF0F8"
           },
           "zaxis": {
            "backgroundcolor": "white",
            "gridcolor": "#DFE8F3",
            "gridwidth": 2,
            "linecolor": "#EBF0F8",
            "showbackground": true,
            "ticks": "",
            "zerolinecolor": "#EBF0F8"
           }
          },
          "shapedefaults": {
           "line": {
            "color": "#2a3f5f"
           }
          },
          "ternary": {
           "aaxis": {
            "gridcolor": "#DFE8F3",
            "linecolor": "#A2B1C6",
            "ticks": ""
           },
           "baxis": {
            "gridcolor": "#DFE8F3",
            "linecolor": "#A2B1C6",
            "ticks": ""
           },
           "bgcolor": "white",
           "caxis": {
            "gridcolor": "#DFE8F3",
            "linecolor": "#A2B1C6",
            "ticks": ""
           }
          },
          "title": {
           "x": 0.05
          },
          "xaxis": {
           "automargin": true,
           "gridcolor": "#EBF0F8",
           "linecolor": "#EBF0F8",
           "ticks": "",
           "title": {
            "standoff": 15
           },
           "zerolinecolor": "#EBF0F8",
           "zerolinewidth": 2
          },
          "yaxis": {
           "automargin": true,
           "gridcolor": "#EBF0F8",
           "linecolor": "#EBF0F8",
           "ticks": "",
           "title": {
            "standoff": 15
           },
           "zerolinecolor": "#EBF0F8",
           "zerolinewidth": 2
          }
         }
        },
        "title": {
         "text": "Cross-Validation (N=5) Mean Logloss with Error Bands"
        },
        "xaxis": {
         "title": {
          "text": "Training Steps"
         }
        },
        "yaxis": {
         "title": {
          "text": "Logloss"
         }
        }
       }
      }
     },
     "metadata": {},
     "output_type": "display_data"
    },
    {
     "data": {
      "application/vnd.plotly.v1+json": {
       "config": {
        "plotlyServerURL": "https://plot.ly"
       },
       "data": [
        {
         "line": {
          "color": "blue"
         },
         "mode": "lines",
         "name": "Mean logloss",
         "type": "scatter",
         "x": [
          0,
          1,
          2,
          3,
          4,
          5,
          6,
          7,
          8,
          9,
          10,
          11,
          12,
          13,
          14,
          15,
          16,
          17,
          18,
          19,
          20,
          21,
          22,
          23,
          24,
          25,
          26,
          27,
          28,
          29,
          30,
          31,
          32,
          33,
          34,
          35,
          36,
          37,
          38,
          39,
          40,
          41,
          42,
          43,
          44,
          45,
          46,
          47,
          48,
          49,
          50,
          51,
          52,
          53,
          54,
          55,
          56,
          57,
          58,
          59,
          60,
          61,
          62,
          63,
          64,
          65,
          66,
          67,
          68,
          69,
          70,
          71,
          72,
          73,
          74,
          75,
          76,
          77,
          78,
          79,
          80,
          81,
          82,
          83,
          84,
          85,
          86,
          87,
          88,
          89,
          90,
          91,
          92,
          93,
          94,
          95,
          96,
          97,
          98,
          99,
          100
         ],
         "y": [
          0.6589789115789962,
          0.5999652964095302,
          0.58951251513018,
          0.5722839048063275,
          0.5558225480976204,
          0.5450057069054093,
          0.5369503935678516,
          0.5287964097549775,
          0.5256487324365475,
          0.5230112027469529,
          0.5164740992606608,
          0.513230402604699,
          0.5105689621726868,
          0.5087625444210648,
          0.5087341350409869,
          0.5065774241444934,
          0.5045164654405261,
          0.5000392721101474,
          0.4992255744678024,
          0.4956209617001723,
          0.4943146268457173,
          0.4913218890469452,
          0.4938751193062751,
          0.4907364753255187,
          0.4915821220199206,
          0.4917208281367157,
          0.4917474094236466,
          0.4926103159781223,
          0.4923147340845176,
          0.495016072895776,
          0.4923266745303271,
          0.4927067281367631,
          0.4907174253806148,
          0.4891567445931526,
          0.4911913696965014,
          0.4912475271466697,
          0.4912248617591831,
          0.491200684665354,
          0.4940939705369372,
          0.4978442763374048,
          0.5008976491169232,
          0.5017347100786375,
          0.5011201955048505,
          0.4987374849413987,
          0.5019706472036212,
          0.5045789502946721,
          0.509485391065983,
          0.5068005820299449,
          0.5076195025025013,
          0.5104494179264529,
          0.5133443968130955,
          0.5125383669122949,
          0.5089183835990526,
          0.5108304793688001,
          0.5113392864605478,
          0.5135778038336343,
          0.5162840414966509,
          0.5207170796919801,
          0.5218958612332611,
          0.5242951148143054,
          0.53019110142055,
          0.5394931623331345,
          0.5382693400890574,
          0.5383610243527922,
          0.542733071779908,
          0.5417722832544205,
          0.5425900679565746,
          0.5419648549637566,
          0.5390993683803389,
          0.5395696325566667,
          0.5396738970688626,
          0.5405929413596898,
          0.5399838303546364,
          0.5396761849175901,
          0.5427311932900849,
          0.5431381873190281,
          0.5440048309179911,
          0.5452158888823447,
          0.548135787684533,
          0.5523349291121233,
          0.5543861380335946,
          0.5541700503092548,
          0.5539963510446071,
          0.5526758088419722,
          0.5529577713799246,
          0.5564776814151379,
          0.558897682535964,
          0.5608555255629195,
          0.5624563739753692,
          0.5631144068750243,
          0.5635199671048345,
          0.5658761837962001,
          0.5676254562619554,
          0.570201269277423,
          0.5715478648668983,
          0.5747144785285679,
          0.5752008433120214,
          0.5750573791741247,
          0.5750577786299345,
          0.5755567842593875,
          0.5755369406939762
         ]
        },
        {
         "fill": "toself",
         "fillcolor": "rgba(0, 0, 255, 0.2)",
         "line": {
          "color": "rgba(255, 255, 255, 0)"
         },
         "showlegend": false,
         "type": "scatter",
         "x": [
          0,
          1,
          2,
          3,
          4,
          5,
          6,
          7,
          8,
          9,
          10,
          11,
          12,
          13,
          14,
          15,
          16,
          17,
          18,
          19,
          20,
          21,
          22,
          23,
          24,
          25,
          26,
          27,
          28,
          29,
          30,
          31,
          32,
          33,
          34,
          35,
          36,
          37,
          38,
          39,
          40,
          41,
          42,
          43,
          44,
          45,
          46,
          47,
          48,
          49,
          50,
          51,
          52,
          53,
          54,
          55,
          56,
          57,
          58,
          59,
          60,
          61,
          62,
          63,
          64,
          65,
          66,
          67,
          68,
          69,
          70,
          71,
          72,
          73,
          74,
          75,
          76,
          77,
          78,
          79,
          80,
          81,
          82,
          83,
          84,
          85,
          86,
          87,
          88,
          89,
          90,
          91,
          92,
          93,
          94,
          95,
          96,
          97,
          98,
          99,
          100,
          100,
          99,
          98,
          97,
          96,
          95,
          94,
          93,
          92,
          91,
          90,
          89,
          88,
          87,
          86,
          85,
          84,
          83,
          82,
          81,
          80,
          79,
          78,
          77,
          76,
          75,
          74,
          73,
          72,
          71,
          70,
          69,
          68,
          67,
          66,
          65,
          64,
          63,
          62,
          61,
          60,
          59,
          58,
          57,
          56,
          55,
          54,
          53,
          52,
          51,
          50,
          49,
          48,
          47,
          46,
          45,
          44,
          43,
          42,
          41,
          40,
          39,
          38,
          37,
          36,
          35,
          34,
          33,
          32,
          31,
          30,
          29,
          28,
          27,
          26,
          25,
          24,
          23,
          22,
          21,
          20,
          19,
          18,
          17,
          16,
          15,
          14,
          13,
          12,
          11,
          10,
          9,
          8,
          7,
          6,
          5,
          4,
          3,
          2,
          1,
          0
         ],
         "y": [
          0.6654256745973519,
          0.6021644260560309,
          0.5944874449055768,
          0.5770494858591272,
          0.5617956627033565,
          0.5523445574360645,
          0.5500493469707892,
          0.5382137710741912,
          0.5341482621501992,
          0.5305055112127445,
          0.5246451182712214,
          0.523624695991056,
          0.522016819731403,
          0.5223016113164234,
          0.5275577125148289,
          0.5245054566385849,
          0.5200815930399126,
          0.5188802781142114,
          0.5202943705088359,
          0.5176216222674294,
          0.5161521551951325,
          0.5165076159475434,
          0.5208631846205742,
          0.5198422483877837,
          0.5187294251509807,
          0.5192189703168978,
          0.5196247679849965,
          0.5221231807683008,
          0.5228515301055192,
          0.5235062771746309,
          0.5225291362078587,
          0.5244914357652403,
          0.5246679871126753,
          0.5262758595100812,
          0.5260256727099897,
          0.528461873411187,
          0.5277048870612507,
          0.5276004239737389,
          0.5308687416483616,
          0.5373419250355459,
          0.5442448815767853,
          0.5441006822509372,
          0.5443156032971488,
          0.5370402267896595,
          0.5372972648085461,
          0.5419320366312966,
          0.5476623091618145,
          0.5499425534303453,
          0.5530100538550354,
          0.5518760520954227,
          0.5562854775680436,
          0.5587743825354614,
          0.5537096826838394,
          0.5556468543003283,
          0.5573587776030686,
          0.5595362971816447,
          0.5637768133044233,
          0.5699249971351263,
          0.5699949519264308,
          0.5691408666115062,
          0.5751323805971618,
          0.5835209675623148,
          0.5865651946661493,
          0.58553281701941,
          0.5896621519610319,
          0.5884581945519819,
          0.5898754094269074,
          0.5878221985523435,
          0.5861201290216889,
          0.5900959427232096,
          0.5924173938322446,
          0.5932828179176153,
          0.5944818737049383,
          0.5921063910857779,
          0.5951156488512261,
          0.5972832603305939,
          0.5990285739385657,
          0.5993161923853964,
          0.6102705719242921,
          0.6152886371180074,
          0.6151653903944034,
          0.6132014088478532,
          0.6136702457931913,
          0.611483342918259,
          0.6114826356921128,
          0.6175142046040171,
          0.6212997625917319,
          0.6243788044762254,
          0.6275571852000291,
          0.6279543734918945,
          0.6283186674112857,
          0.6352111994421682,
          0.6393140049121435,
          0.6421438522127778,
          0.6402256299689018,
          0.6423089190480893,
          0.644326343386392,
          0.6430994403591844,
          0.6446770646295283,
          0.6443125799273626,
          0.645235112283643,
          0.6525321485606406,
          0.5977661667630295,
          0.5845375853547832,
          0.5675183237535278,
          0.5498494334918844,
          0.5376668563747541,
          0.5238514401649139,
          0.5193790484357639,
          0.5171492027228959,
          0.5155168942811613,
          0.5083030802501002,
          0.502836109218342,
          0.49912110461397047,
          0.49522347752570633,
          0.48991055756714486,
          0.4886493916504018,
          0.4889513378411396,
          0.4811982661060834,
          0.478156778426769,
          0.4736203011329152,
          0.4724770984963021,
          0.466136162146347,
          0.4668870539919759,
          0.46163070226325364,
          0.4644348188888604,
          0.4642226859565336,
          0.4638700508622967,
          0.46309745118794393,
          0.46177793806351597,
          0.46652586861692097,
          0.4621242128527955,
          0.4609220205082859,
          0.4567668636485543,
          0.45203762967622413,
          0.4563570666830131,
          0.4540331808821524,
          0.4547448364571155,
          0.4548009453569691,
          0.4573191994255128,
          0.4583466276392637,
          0.45755041665706125,
          0.45936873790633764,
          0.45792478771255235,
          0.46043474309313787,
          0.4666440295986963,
          0.46722586395804766,
          0.4713084729701515,
          0.4636586106295446,
          0.4622289511499672,
          0.46902278375748313,
          0.47040331605814745,
          0.46630235128912845,
          0.46412708451426593,
          0.4660141044372719,
          0.46531979531802703,
          0.4676193104856239,
          0.46879126968887835,
          0.47150916224883394,
          0.47379677054009156,
          0.47944936301710445,
          0.4852498222439383,
          0.4954653571039542,
          0.48997348551196535,
          0.4911892316861744,
          0.49580399159878413,
          0.4950863719568591,
          0.4953047264862418,
          0.4961075113751697,
          0.49207860773898887,
          0.48904332239012366,
          0.4869304003054806,
          0.48790306480176443,
          0.4854857870043345,
          0.4872459787494023,
          0.4903467377289436,
          0.4889931143074623,
          0.4889810878974165,
          0.4911155853792931,
          0.48600100344477376,
          0.4893812211062393,
          0.4936068856727858,
          0.4951386917706564,
          0.4943224562960229,
          0.4938682747656854,
          0.49443290706773646,
          0.49544115822625867,
          0.496495602480196,
          0.4973322466496136,
          0.4973555627507093,
          0.49827444025815415,
          0.49872126679838336,
          0.49654116815023197,
          0.4959369076117673,
          0.49825868634206816,
          0.5028700997648949,
          0.5071200380090466,
          0.5060753432376507,
          0.507015317989065,
          0.5054384926303406,
          0.5068009885914124,
          0.5058387691043094
         ]
        }
       ],
       "layout": {
        "template": {
         "data": {
          "bar": [
           {
            "error_x": {
             "color": "#2a3f5f"
            },
            "error_y": {
             "color": "#2a3f5f"
            },
            "marker": {
             "line": {
              "color": "white",
              "width": 0.5
             },
             "pattern": {
              "fillmode": "overlay",
              "size": 10,
              "solidity": 0.2
             }
            },
            "type": "bar"
           }
          ],
          "barpolar": [
           {
            "marker": {
             "line": {
              "color": "white",
              "width": 0.5
             },
             "pattern": {
              "fillmode": "overlay",
              "size": 10,
              "solidity": 0.2
             }
            },
            "type": "barpolar"
           }
          ],
          "carpet": [
           {
            "aaxis": {
             "endlinecolor": "#2a3f5f",
             "gridcolor": "#C8D4E3",
             "linecolor": "#C8D4E3",
             "minorgridcolor": "#C8D4E3",
             "startlinecolor": "#2a3f5f"
            },
            "baxis": {
             "endlinecolor": "#2a3f5f",
             "gridcolor": "#C8D4E3",
             "linecolor": "#C8D4E3",
             "minorgridcolor": "#C8D4E3",
             "startlinecolor": "#2a3f5f"
            },
            "type": "carpet"
           }
          ],
          "choropleth": [
           {
            "colorbar": {
             "outlinewidth": 0,
             "ticks": ""
            },
            "type": "choropleth"
           }
          ],
          "contour": [
           {
            "colorbar": {
             "outlinewidth": 0,
             "ticks": ""
            },
            "colorscale": [
             [
              0,
              "#0d0887"
             ],
             [
              0.1111111111111111,
              "#46039f"
             ],
             [
              0.2222222222222222,
              "#7201a8"
             ],
             [
              0.3333333333333333,
              "#9c179e"
             ],
             [
              0.4444444444444444,
              "#bd3786"
             ],
             [
              0.5555555555555556,
              "#d8576b"
             ],
             [
              0.6666666666666666,
              "#ed7953"
             ],
             [
              0.7777777777777778,
              "#fb9f3a"
             ],
             [
              0.8888888888888888,
              "#fdca26"
             ],
             [
              1,
              "#f0f921"
             ]
            ],
            "type": "contour"
           }
          ],
          "contourcarpet": [
           {
            "colorbar": {
             "outlinewidth": 0,
             "ticks": ""
            },
            "type": "contourcarpet"
           }
          ],
          "heatmap": [
           {
            "colorbar": {
             "outlinewidth": 0,
             "ticks": ""
            },
            "colorscale": [
             [
              0,
              "#0d0887"
             ],
             [
              0.1111111111111111,
              "#46039f"
             ],
             [
              0.2222222222222222,
              "#7201a8"
             ],
             [
              0.3333333333333333,
              "#9c179e"
             ],
             [
              0.4444444444444444,
              "#bd3786"
             ],
             [
              0.5555555555555556,
              "#d8576b"
             ],
             [
              0.6666666666666666,
              "#ed7953"
             ],
             [
              0.7777777777777778,
              "#fb9f3a"
             ],
             [
              0.8888888888888888,
              "#fdca26"
             ],
             [
              1,
              "#f0f921"
             ]
            ],
            "type": "heatmap"
           }
          ],
          "heatmapgl": [
           {
            "colorbar": {
             "outlinewidth": 0,
             "ticks": ""
            },
            "colorscale": [
             [
              0,
              "#0d0887"
             ],
             [
              0.1111111111111111,
              "#46039f"
             ],
             [
              0.2222222222222222,
              "#7201a8"
             ],
             [
              0.3333333333333333,
              "#9c179e"
             ],
             [
              0.4444444444444444,
              "#bd3786"
             ],
             [
              0.5555555555555556,
              "#d8576b"
             ],
             [
              0.6666666666666666,
              "#ed7953"
             ],
             [
              0.7777777777777778,
              "#fb9f3a"
             ],
             [
              0.8888888888888888,
              "#fdca26"
             ],
             [
              1,
              "#f0f921"
             ]
            ],
            "type": "heatmapgl"
           }
          ],
          "histogram": [
           {
            "marker": {
             "pattern": {
              "fillmode": "overlay",
              "size": 10,
              "solidity": 0.2
             }
            },
            "type": "histogram"
           }
          ],
          "histogram2d": [
           {
            "colorbar": {
             "outlinewidth": 0,
             "ticks": ""
            },
            "colorscale": [
             [
              0,
              "#0d0887"
             ],
             [
              0.1111111111111111,
              "#46039f"
             ],
             [
              0.2222222222222222,
              "#7201a8"
             ],
             [
              0.3333333333333333,
              "#9c179e"
             ],
             [
              0.4444444444444444,
              "#bd3786"
             ],
             [
              0.5555555555555556,
              "#d8576b"
             ],
             [
              0.6666666666666666,
              "#ed7953"
             ],
             [
              0.7777777777777778,
              "#fb9f3a"
             ],
             [
              0.8888888888888888,
              "#fdca26"
             ],
             [
              1,
              "#f0f921"
             ]
            ],
            "type": "histogram2d"
           }
          ],
          "histogram2dcontour": [
           {
            "colorbar": {
             "outlinewidth": 0,
             "ticks": ""
            },
            "colorscale": [
             [
              0,
              "#0d0887"
             ],
             [
              0.1111111111111111,
              "#46039f"
             ],
             [
              0.2222222222222222,
              "#7201a8"
             ],
             [
              0.3333333333333333,
              "#9c179e"
             ],
             [
              0.4444444444444444,
              "#bd3786"
             ],
             [
              0.5555555555555556,
              "#d8576b"
             ],
             [
              0.6666666666666666,
              "#ed7953"
             ],
             [
              0.7777777777777778,
              "#fb9f3a"
             ],
             [
              0.8888888888888888,
              "#fdca26"
             ],
             [
              1,
              "#f0f921"
             ]
            ],
            "type": "histogram2dcontour"
           }
          ],
          "mesh3d": [
           {
            "colorbar": {
             "outlinewidth": 0,
             "ticks": ""
            },
            "type": "mesh3d"
           }
          ],
          "parcoords": [
           {
            "line": {
             "colorbar": {
              "outlinewidth": 0,
              "ticks": ""
             }
            },
            "type": "parcoords"
           }
          ],
          "pie": [
           {
            "automargin": true,
            "type": "pie"
           }
          ],
          "scatter": [
           {
            "fillpattern": {
             "fillmode": "overlay",
             "size": 10,
             "solidity": 0.2
            },
            "type": "scatter"
           }
          ],
          "scatter3d": [
           {
            "line": {
             "colorbar": {
              "outlinewidth": 0,
              "ticks": ""
             }
            },
            "marker": {
             "colorbar": {
              "outlinewidth": 0,
              "ticks": ""
             }
            },
            "type": "scatter3d"
           }
          ],
          "scattercarpet": [
           {
            "marker": {
             "colorbar": {
              "outlinewidth": 0,
              "ticks": ""
             }
            },
            "type": "scattercarpet"
           }
          ],
          "scattergeo": [
           {
            "marker": {
             "colorbar": {
              "outlinewidth": 0,
              "ticks": ""
             }
            },
            "type": "scattergeo"
           }
          ],
          "scattergl": [
           {
            "marker": {
             "colorbar": {
              "outlinewidth": 0,
              "ticks": ""
             }
            },
            "type": "scattergl"
           }
          ],
          "scattermapbox": [
           {
            "marker": {
             "colorbar": {
              "outlinewidth": 0,
              "ticks": ""
             }
            },
            "type": "scattermapbox"
           }
          ],
          "scatterpolar": [
           {
            "marker": {
             "colorbar": {
              "outlinewidth": 0,
              "ticks": ""
             }
            },
            "type": "scatterpolar"
           }
          ],
          "scatterpolargl": [
           {
            "marker": {
             "colorbar": {
              "outlinewidth": 0,
              "ticks": ""
             }
            },
            "type": "scatterpolargl"
           }
          ],
          "scatterternary": [
           {
            "marker": {
             "colorbar": {
              "outlinewidth": 0,
              "ticks": ""
             }
            },
            "type": "scatterternary"
           }
          ],
          "surface": [
           {
            "colorbar": {
             "outlinewidth": 0,
             "ticks": ""
            },
            "colorscale": [
             [
              0,
              "#0d0887"
             ],
             [
              0.1111111111111111,
              "#46039f"
             ],
             [
              0.2222222222222222,
              "#7201a8"
             ],
             [
              0.3333333333333333,
              "#9c179e"
             ],
             [
              0.4444444444444444,
              "#bd3786"
             ],
             [
              0.5555555555555556,
              "#d8576b"
             ],
             [
              0.6666666666666666,
              "#ed7953"
             ],
             [
              0.7777777777777778,
              "#fb9f3a"
             ],
             [
              0.8888888888888888,
              "#fdca26"
             ],
             [
              1,
              "#f0f921"
             ]
            ],
            "type": "surface"
           }
          ],
          "table": [
           {
            "cells": {
             "fill": {
              "color": "#EBF0F8"
             },
             "line": {
              "color": "white"
             }
            },
            "header": {
             "fill": {
              "color": "#C8D4E3"
             },
             "line": {
              "color": "white"
             }
            },
            "type": "table"
           }
          ]
         },
         "layout": {
          "annotationdefaults": {
           "arrowcolor": "#2a3f5f",
           "arrowhead": 0,
           "arrowwidth": 1
          },
          "autotypenumbers": "strict",
          "coloraxis": {
           "colorbar": {
            "outlinewidth": 0,
            "ticks": ""
           }
          },
          "colorscale": {
           "diverging": [
            [
             0,
             "#8e0152"
            ],
            [
             0.1,
             "#c51b7d"
            ],
            [
             0.2,
             "#de77ae"
            ],
            [
             0.3,
             "#f1b6da"
            ],
            [
             0.4,
             "#fde0ef"
            ],
            [
             0.5,
             "#f7f7f7"
            ],
            [
             0.6,
             "#e6f5d0"
            ],
            [
             0.7,
             "#b8e186"
            ],
            [
             0.8,
             "#7fbc41"
            ],
            [
             0.9,
             "#4d9221"
            ],
            [
             1,
             "#276419"
            ]
           ],
           "sequential": [
            [
             0,
             "#0d0887"
            ],
            [
             0.1111111111111111,
             "#46039f"
            ],
            [
             0.2222222222222222,
             "#7201a8"
            ],
            [
             0.3333333333333333,
             "#9c179e"
            ],
            [
             0.4444444444444444,
             "#bd3786"
            ],
            [
             0.5555555555555556,
             "#d8576b"
            ],
            [
             0.6666666666666666,
             "#ed7953"
            ],
            [
             0.7777777777777778,
             "#fb9f3a"
            ],
            [
             0.8888888888888888,
             "#fdca26"
            ],
            [
             1,
             "#f0f921"
            ]
           ],
           "sequentialminus": [
            [
             0,
             "#0d0887"
            ],
            [
             0.1111111111111111,
             "#46039f"
            ],
            [
             0.2222222222222222,
             "#7201a8"
            ],
            [
             0.3333333333333333,
             "#9c179e"
            ],
            [
             0.4444444444444444,
             "#bd3786"
            ],
            [
             0.5555555555555556,
             "#d8576b"
            ],
            [
             0.6666666666666666,
             "#ed7953"
            ],
            [
             0.7777777777777778,
             "#fb9f3a"
            ],
            [
             0.8888888888888888,
             "#fdca26"
            ],
            [
             1,
             "#f0f921"
            ]
           ]
          },
          "colorway": [
           "#636efa",
           "#EF553B",
           "#00cc96",
           "#ab63fa",
           "#FFA15A",
           "#19d3f3",
           "#FF6692",
           "#B6E880",
           "#FF97FF",
           "#FECB52"
          ],
          "font": {
           "color": "#2a3f5f"
          },
          "geo": {
           "bgcolor": "white",
           "lakecolor": "white",
           "landcolor": "white",
           "showlakes": true,
           "showland": true,
           "subunitcolor": "#C8D4E3"
          },
          "hoverlabel": {
           "align": "left"
          },
          "hovermode": "closest",
          "mapbox": {
           "style": "light"
          },
          "paper_bgcolor": "white",
          "plot_bgcolor": "white",
          "polar": {
           "angularaxis": {
            "gridcolor": "#EBF0F8",
            "linecolor": "#EBF0F8",
            "ticks": ""
           },
           "bgcolor": "white",
           "radialaxis": {
            "gridcolor": "#EBF0F8",
            "linecolor": "#EBF0F8",
            "ticks": ""
           }
          },
          "scene": {
           "xaxis": {
            "backgroundcolor": "white",
            "gridcolor": "#DFE8F3",
            "gridwidth": 2,
            "linecolor": "#EBF0F8",
            "showbackground": true,
            "ticks": "",
            "zerolinecolor": "#EBF0F8"
           },
           "yaxis": {
            "backgroundcolor": "white",
            "gridcolor": "#DFE8F3",
            "gridwidth": 2,
            "linecolor": "#EBF0F8",
            "showbackground": true,
            "ticks": "",
            "zerolinecolor": "#EBF0F8"
           },
           "zaxis": {
            "backgroundcolor": "white",
            "gridcolor": "#DFE8F3",
            "gridwidth": 2,
            "linecolor": "#EBF0F8",
            "showbackground": true,
            "ticks": "",
            "zerolinecolor": "#EBF0F8"
           }
          },
          "shapedefaults": {
           "line": {
            "color": "#2a3f5f"
           }
          },
          "ternary": {
           "aaxis": {
            "gridcolor": "#DFE8F3",
            "linecolor": "#A2B1C6",
            "ticks": ""
           },
           "baxis": {
            "gridcolor": "#DFE8F3",
            "linecolor": "#A2B1C6",
            "ticks": ""
           },
           "bgcolor": "white",
           "caxis": {
            "gridcolor": "#DFE8F3",
            "linecolor": "#A2B1C6",
            "ticks": ""
           }
          },
          "title": {
           "x": 0.05
          },
          "xaxis": {
           "automargin": true,
           "gridcolor": "#EBF0F8",
           "linecolor": "#EBF0F8",
           "ticks": "",
           "title": {
            "standoff": 15
           },
           "zerolinecolor": "#EBF0F8",
           "zerolinewidth": 2
          },
          "yaxis": {
           "automargin": true,
           "gridcolor": "#EBF0F8",
           "linecolor": "#EBF0F8",
           "ticks": "",
           "title": {
            "standoff": 15
           },
           "zerolinecolor": "#EBF0F8",
           "zerolinewidth": 2
          }
         }
        },
        "title": {
         "text": "Cross-Validation (N=5) Mean Logloss with Error Bands"
        },
        "xaxis": {
         "title": {
          "text": "Training Steps"
         }
        },
        "yaxis": {
         "title": {
          "text": "Logloss"
         }
        }
       }
      }
     },
     "metadata": {},
     "output_type": "display_data"
    }
   ],
   "source": [
    "plot_error_scatter(\n",
    "    cv_results,\n",
    "    x=\"iterations\",\n",
    "    y=\"test-Logloss-mean\",\n",
    "    err=\"test-Logloss-std\",\n",
    "    name=\"Mean logloss\",\n",
    "    title=\"Cross-Validation (N=5) Mean Logloss with Error Bands\",\n",
    "    xtitle=\"Training Steps\",\n",
    "    ytitle=\"Logloss\",\n",
    ")\n"
   ]
  },
  {
   "cell_type": "markdown",
   "id": "660b208e-b2b8-4bd2-ae70-6f75b550d65d",
   "metadata": {
    "editable": false,
    "slideshow": {
     "slide_type": "slide"
    },
    "tags": []
   },
   "source": [
    "Fit model on full dataset:"
   ]
  },
  {
   "cell_type": "code",
   "execution_count": 49,
   "id": "a8059c1d-ee28-4580-9d5d-9a9c4eb91a4b",
   "metadata": {
    "editable": true,
    "scrolled": true,
    "slideshow": {
     "slide_type": "subslide"
    },
    "tags": []
   },
   "outputs": [
    {
     "data": {
      "application/vnd.jupyter.widget-view+json": {
       "model_id": "8c36b5a411e64bef9c5b4233b3f7bbf5",
       "version_major": 2,
       "version_minor": 0
      },
      "text/plain": [
       "MetricVisualizer(layout=Layout(align_self='stretch', height='500px'))"
      ]
     },
     "metadata": {},
     "output_type": "display_data"
    },
    {
     "name": "stdout",
     "output_type": "stream",
     "text": [
      "0:\tlearn: 0.6612246\ttotal: 1.11ms\tremaining: 111ms\n",
      "50:\tlearn: 0.3681974\ttotal: 18.4ms\tremaining: 18.1ms\n",
      "100:\tlearn: 0.2604910\ttotal: 32.2ms\tremaining: 0us\n"
     ]
    },
    {
     "name": "stderr",
     "output_type": "stream",
     "text": [
      "/home/lkwasniewski/repos/00001_Studia/.venv-mlops/lib/python3.11/site-packages/mlflow/types/utils.py:452: UserWarning:\n",
      "\n",
      "Hint: Inferred schema contains integer column(s). Integer columns in Python cannot represent missing values. If your input data contains missing values at inference time, it will be encoded as floats and will cause a schema enforcement error. The best way to avoid this problem is to infer the model schema based on a realistic data sample (training dataset) that includes missing values. Alternatively, you can declare integer columns as doubles (float64) whenever these columns may have missing values. See `Handling Integers With Missing Values <https://www.mlflow.org/docs/latest/models.html#handling-integers-with-missing-values>`_ for more details.\n",
      "\n",
      "Registered model 'diabetes-binary-class' already exists. Creating a new version of this model...\n",
      "2025/06/19 22:40:30 INFO mlflow.store.model_registry.abstract_store: Waiting up to 300 seconds for model version to finish creation. Model name: diabetes-binary-class, version 6\n",
      "Created version '6' of model 'diabetes-binary-class'.\n",
      "/home/lkwasniewski/repos/00001_Studia/MLOPSGradedFinal/ARISA_DSML/train.py:164: FutureWarning:\n",
      "\n",
      "``mlflow.tracking.client.MlflowClient.get_latest_versions`` is deprecated since 2.9.0. Model registry stages will be removed in a future major release. To learn more about the deprecation of model registry stages, see our migration guide here: https://mlflow.org/docs/latest/model-registry.html#migrating-from-stages\n",
      "\n"
     ]
    },
    {
     "data": {
      "application/vnd.plotly.v1+json": {
       "config": {
        "plotlyServerURL": "https://plot.ly"
       },
       "data": [
        {
         "line": {
          "color": "blue"
         },
         "mode": "lines",
         "name": "Mean F1 Score",
         "type": "scatter",
         "x": [
          0,
          1,
          2,
          3,
          4,
          5,
          6,
          7,
          8,
          9,
          10,
          11,
          12,
          13,
          14,
          15,
          16,
          17,
          18,
          19,
          20,
          21,
          22,
          23,
          24,
          25,
          26,
          27,
          28,
          29,
          30,
          31,
          32,
          33,
          34,
          35,
          36,
          37,
          38,
          39,
          40,
          41,
          42,
          43,
          44,
          45,
          46,
          47,
          48,
          49,
          50,
          51,
          52,
          53,
          54,
          55,
          56,
          57,
          58,
          59,
          60,
          61,
          62,
          63,
          64,
          65,
          66,
          67,
          68,
          69,
          70,
          71,
          72,
          73,
          74,
          75,
          76,
          77,
          78,
          79,
          80,
          81,
          82,
          83,
          84,
          85,
          86,
          87,
          88,
          89,
          90,
          91,
          92,
          93,
          94,
          95,
          96,
          97,
          98,
          99,
          100
         ],
         "y": [
          0.059262510974539,
          0.5040552657219324,
          0.4853682739861602,
          0.4538528318684379,
          0.4701164010317907,
          0.4807143784485557,
          0.4952297976196137,
          0.4924158544509421,
          0.5061848531502531,
          0.5188000979442358,
          0.5277494321594822,
          0.5437428731215909,
          0.5511896104978229,
          0.5690845592693395,
          0.5700892695516352,
          0.5844429101574823,
          0.5983914955732763,
          0.6047441676045795,
          0.6133373009089059,
          0.6086616316249692,
          0.6048228859048208,
          0.615912271351577,
          0.615506769846077,
          0.616760765120213,
          0.614993439035666,
          0.623841163191667,
          0.6203762454114171,
          0.6321536397915001,
          0.6310784862200324,
          0.6365165732150458,
          0.637940865554025,
          0.636580321336338,
          0.6401574152742376,
          0.6331800660681354,
          0.6345562445023052,
          0.6297330164388987,
          0.6259201036926123,
          0.6311718083459799,
          0.6327821128451381,
          0.6324493619624652,
          0.6231885340436603,
          0.6245108843794811,
          0.6279167373935068,
          0.6149231813937697,
          0.6215739240960723,
          0.6243711366711338,
          0.6119692472733774,
          0.6091736735983628,
          0.6170332629526272,
          0.6082544811876044,
          0.61093357262616,
          0.6103653183150055,
          0.6203767346445173,
          0.621782517493153,
          0.6282791300183322,
          0.6263237185743529,
          0.6168100629070042,
          0.6216419130493798,
          0.6203726386025632,
          0.6256630312757808,
          0.6298080284218898,
          0.6274066659413193,
          0.6273264207409175,
          0.6323109045598437,
          0.6231920417712562,
          0.6319514774274549,
          0.6334239597474008,
          0.6347720959076082,
          0.6320902998582721,
          0.6303056720951844,
          0.6295815351222445,
          0.6304842228099814,
          0.6278158858372233,
          0.6236152969821206,
          0.623627277937665,
          0.6236633611961995,
          0.6212279983938643,
          0.6236880730706638,
          0.6272492081870225,
          0.6234783291413253,
          0.6241656614177609,
          0.624227252173978,
          0.6269995294017008,
          0.6254697293628734,
          0.628260810292198,
          0.619498198030308,
          0.6174498736762888,
          0.6158337120601272,
          0.6169607983941561,
          0.6156065784698346,
          0.6180714993641884,
          0.6153600877840115,
          0.6203673757888131,
          0.619575657891023,
          0.6182112617681017,
          0.6190239448703656,
          0.6272734722133921,
          0.6228109509479632,
          0.6305318237657687,
          0.6268960779281879,
          0.6322547701315722
         ]
        },
        {
         "fill": "toself",
         "fillcolor": "rgba(0, 0, 255, 0.2)",
         "line": {
          "color": "rgba(255, 255, 255, 0)"
         },
         "showlegend": false,
         "type": "scatter",
         "x": [
          0,
          1,
          2,
          3,
          4,
          5,
          6,
          7,
          8,
          9,
          10,
          11,
          12,
          13,
          14,
          15,
          16,
          17,
          18,
          19,
          20,
          21,
          22,
          23,
          24,
          25,
          26,
          27,
          28,
          29,
          30,
          31,
          32,
          33,
          34,
          35,
          36,
          37,
          38,
          39,
          40,
          41,
          42,
          43,
          44,
          45,
          46,
          47,
          48,
          49,
          50,
          51,
          52,
          53,
          54,
          55,
          56,
          57,
          58,
          59,
          60,
          61,
          62,
          63,
          64,
          65,
          66,
          67,
          68,
          69,
          70,
          71,
          72,
          73,
          74,
          75,
          76,
          77,
          78,
          79,
          80,
          81,
          82,
          83,
          84,
          85,
          86,
          87,
          88,
          89,
          90,
          91,
          92,
          93,
          94,
          95,
          96,
          97,
          98,
          99,
          100,
          100,
          99,
          98,
          97,
          96,
          95,
          94,
          93,
          92,
          91,
          90,
          89,
          88,
          87,
          86,
          85,
          84,
          83,
          82,
          81,
          80,
          79,
          78,
          77,
          76,
          75,
          74,
          73,
          72,
          71,
          70,
          69,
          68,
          67,
          66,
          65,
          64,
          63,
          62,
          61,
          60,
          59,
          58,
          57,
          56,
          55,
          54,
          53,
          52,
          51,
          50,
          49,
          48,
          47,
          46,
          45,
          44,
          43,
          42,
          41,
          40,
          39,
          38,
          37,
          36,
          35,
          34,
          33,
          32,
          31,
          30,
          29,
          28,
          27,
          26,
          25,
          24,
          23,
          22,
          21,
          20,
          19,
          18,
          17,
          16,
          15,
          14,
          13,
          12,
          11,
          10,
          9,
          8,
          7,
          6,
          5,
          4,
          3,
          2,
          1,
          0
         ],
         "y": [
          0.14041475657302951,
          0.5482591111957271,
          0.5130788057289792,
          0.48728602126446247,
          0.5125985809043183,
          0.5092421828509592,
          0.5419554018950465,
          0.5434829275956522,
          0.5514651422070672,
          0.5777746805017061,
          0.5765226304034288,
          0.5962496880243243,
          0.608469029521712,
          0.6208724512303901,
          0.6208954205693057,
          0.6245291308370919,
          0.6474360658958144,
          0.6598871490714192,
          0.6694045647618572,
          0.660402325604219,
          0.6611143862339722,
          0.677055349492536,
          0.6716530907694971,
          0.6722346355679375,
          0.6746399353970765,
          0.6732124959586251,
          0.6716065079243302,
          0.6774431448979915,
          0.6715946676010153,
          0.664412789782749,
          0.6696507946492398,
          0.6641354370799711,
          0.6721783488645972,
          0.6758610974317315,
          0.6751001477439412,
          0.6719071807533503,
          0.6623125364715011,
          0.6711690986689388,
          0.6765613155927395,
          0.6674726962593103,
          0.6614180104293458,
          0.6673483339527343,
          0.6689639499576276,
          0.6562832426201011,
          0.6674421667080651,
          0.6604387696056829,
          0.6513682319476908,
          0.6510930150870411,
          0.6569711474604241,
          0.6450330959182077,
          0.6504144030739594,
          0.6471316882222575,
          0.6608468369030973,
          0.6572815246700746,
          0.6725908016132047,
          0.6645466223797034,
          0.6596617153686997,
          0.6537926045323244,
          0.6455553382135354,
          0.6626553115918445,
          0.6652995789531546,
          0.6495860864414613,
          0.650792109760501,
          0.6559765064332629,
          0.6375909906262996,
          0.650175832589632,
          0.66155949583055,
          0.6507847681070504,
          0.6514871473618284,
          0.6498547092201216,
          0.6485609219846843,
          0.6515430717017153,
          0.652509342070209,
          0.648089863932237,
          0.650646204808139,
          0.6573426324642648,
          0.6506427431716676,
          0.653649887532417,
          0.6567794962673169,
          0.6559076298172294,
          0.658217102084079,
          0.6622663468772712,
          0.6632967563240474,
          0.6637411938711262,
          0.6635077640760674,
          0.6473680652941505,
          0.6412672660737614,
          0.6421716197730543,
          0.6404559340516481,
          0.6357163231573251,
          0.639729262274157,
          0.6371709629523814,
          0.6495798779519818,
          0.6420101517617198,
          0.637213832550631,
          0.6479176994710825,
          0.653545343457976,
          0.6550774258636424,
          0.6628316942587026,
          0.653818293281248,
          0.664949541427092,
          -0.021889734623951503,
          0.4598514202481376,
          0.4576577422433412,
          0.4204196424724133,
          0.4276342211592631,
          0.4521865740461521,
          0.4485041933441809,
          0.441348781306232,
          0.460904564093439,
          0.45982551538676547,
          0.47897623391553573,
          0.49123605821885735,
          0.4939101914739338,
          0.5172966673082889,
          0.5192831185339647,
          0.5443566894778726,
          0.5493469252507382,
          0.5496011861377398,
          0.5572700370559547,
          0.5569209376457195,
          0.5485313855756694,
          0.554769193210618,
          0.5593604489226569,
          0.5612868946724886,
          0.5553469426742554,
          0.574469830424709,
          0.569145982898504,
          0.5868641346850086,
          0.5905623048390495,
          0.6086203566473427,
          0.6062309364588101,
          0.6090252055927049,
          0.6081364816838781,
          0.5904990347045392,
          0.5940123412606692,
          0.587558852124447,
          0.5895276709137235,
          0.5911745180230209,
          0.5890029100975367,
          0.59742602766562,
          0.5849590576579747,
          0.5816734348062279,
          0.586869524829386,
          0.5735631201674383,
          0.5757056814840794,
          0.5883035037365846,
          0.5725702625990641,
          0.5672543321096846,
          0.5770953784448303,
          0.5714758664570011,
          0.5714527421783606,
          0.5735989484077535,
          0.5799066323859372,
          0.5862835103162315,
          0.5839674584234598,
          0.5881008147690023,
          0.5739584104453088,
          0.5894912215664352,
          0.595189938991591,
          0.5886707509597171,
          0.5943164778906249,
          0.6052272454411773,
          0.603860731721334,
          0.6086453026864246,
          0.6087930929162128,
          0.6137271222652779,
          0.6052884236642517,
          0.618759423708166,
          0.6126934523547158,
          0.6107566349702472,
          0.6106021482598046,
          0.6094253739182475,
          0.6031224296042375,
          0.5991407300320042,
          0.5966083510671911,
          0.5899840899281341,
          0.5918132536160611,
          0.5937262586089105,
          0.597718920106728,
          0.5910490284654212,
          0.5901142207514427,
          0.5861881574706849,
          0.5907023024793542,
          0.5871982648546206,
          0.5930138565083287,
          0.5916283307664656,
          0.5936324812788162,
          0.5894958043472001,
          0.593465662736664,
          0.5954968337823441,
          0.5964137364542197,
          0.5935492126156416,
          0.5911548736256443,
          0.5971411640203261,
          0.5992086909855724,
          0.5901301902696487,
          0.6010016009688083,
          0.5905444760322841,
          0.5982319532728347,
          0.5999738625751279,
          0.5995599988360524
         ]
        }
       ],
       "layout": {
        "template": {
         "data": {
          "bar": [
           {
            "error_x": {
             "color": "#2a3f5f"
            },
            "error_y": {
             "color": "#2a3f5f"
            },
            "marker": {
             "line": {
              "color": "white",
              "width": 0.5
             },
             "pattern": {
              "fillmode": "overlay",
              "size": 10,
              "solidity": 0.2
             }
            },
            "type": "bar"
           }
          ],
          "barpolar": [
           {
            "marker": {
             "line": {
              "color": "white",
              "width": 0.5
             },
             "pattern": {
              "fillmode": "overlay",
              "size": 10,
              "solidity": 0.2
             }
            },
            "type": "barpolar"
           }
          ],
          "carpet": [
           {
            "aaxis": {
             "endlinecolor": "#2a3f5f",
             "gridcolor": "#C8D4E3",
             "linecolor": "#C8D4E3",
             "minorgridcolor": "#C8D4E3",
             "startlinecolor": "#2a3f5f"
            },
            "baxis": {
             "endlinecolor": "#2a3f5f",
             "gridcolor": "#C8D4E3",
             "linecolor": "#C8D4E3",
             "minorgridcolor": "#C8D4E3",
             "startlinecolor": "#2a3f5f"
            },
            "type": "carpet"
           }
          ],
          "choropleth": [
           {
            "colorbar": {
             "outlinewidth": 0,
             "ticks": ""
            },
            "type": "choropleth"
           }
          ],
          "contour": [
           {
            "colorbar": {
             "outlinewidth": 0,
             "ticks": ""
            },
            "colorscale": [
             [
              0,
              "#0d0887"
             ],
             [
              0.1111111111111111,
              "#46039f"
             ],
             [
              0.2222222222222222,
              "#7201a8"
             ],
             [
              0.3333333333333333,
              "#9c179e"
             ],
             [
              0.4444444444444444,
              "#bd3786"
             ],
             [
              0.5555555555555556,
              "#d8576b"
             ],
             [
              0.6666666666666666,
              "#ed7953"
             ],
             [
              0.7777777777777778,
              "#fb9f3a"
             ],
             [
              0.8888888888888888,
              "#fdca26"
             ],
             [
              1,
              "#f0f921"
             ]
            ],
            "type": "contour"
           }
          ],
          "contourcarpet": [
           {
            "colorbar": {
             "outlinewidth": 0,
             "ticks": ""
            },
            "type": "contourcarpet"
           }
          ],
          "heatmap": [
           {
            "colorbar": {
             "outlinewidth": 0,
             "ticks": ""
            },
            "colorscale": [
             [
              0,
              "#0d0887"
             ],
             [
              0.1111111111111111,
              "#46039f"
             ],
             [
              0.2222222222222222,
              "#7201a8"
             ],
             [
              0.3333333333333333,
              "#9c179e"
             ],
             [
              0.4444444444444444,
              "#bd3786"
             ],
             [
              0.5555555555555556,
              "#d8576b"
             ],
             [
              0.6666666666666666,
              "#ed7953"
             ],
             [
              0.7777777777777778,
              "#fb9f3a"
             ],
             [
              0.8888888888888888,
              "#fdca26"
             ],
             [
              1,
              "#f0f921"
             ]
            ],
            "type": "heatmap"
           }
          ],
          "heatmapgl": [
           {
            "colorbar": {
             "outlinewidth": 0,
             "ticks": ""
            },
            "colorscale": [
             [
              0,
              "#0d0887"
             ],
             [
              0.1111111111111111,
              "#46039f"
             ],
             [
              0.2222222222222222,
              "#7201a8"
             ],
             [
              0.3333333333333333,
              "#9c179e"
             ],
             [
              0.4444444444444444,
              "#bd3786"
             ],
             [
              0.5555555555555556,
              "#d8576b"
             ],
             [
              0.6666666666666666,
              "#ed7953"
             ],
             [
              0.7777777777777778,
              "#fb9f3a"
             ],
             [
              0.8888888888888888,
              "#fdca26"
             ],
             [
              1,
              "#f0f921"
             ]
            ],
            "type": "heatmapgl"
           }
          ],
          "histogram": [
           {
            "marker": {
             "pattern": {
              "fillmode": "overlay",
              "size": 10,
              "solidity": 0.2
             }
            },
            "type": "histogram"
           }
          ],
          "histogram2d": [
           {
            "colorbar": {
             "outlinewidth": 0,
             "ticks": ""
            },
            "colorscale": [
             [
              0,
              "#0d0887"
             ],
             [
              0.1111111111111111,
              "#46039f"
             ],
             [
              0.2222222222222222,
              "#7201a8"
             ],
             [
              0.3333333333333333,
              "#9c179e"
             ],
             [
              0.4444444444444444,
              "#bd3786"
             ],
             [
              0.5555555555555556,
              "#d8576b"
             ],
             [
              0.6666666666666666,
              "#ed7953"
             ],
             [
              0.7777777777777778,
              "#fb9f3a"
             ],
             [
              0.8888888888888888,
              "#fdca26"
             ],
             [
              1,
              "#f0f921"
             ]
            ],
            "type": "histogram2d"
           }
          ],
          "histogram2dcontour": [
           {
            "colorbar": {
             "outlinewidth": 0,
             "ticks": ""
            },
            "colorscale": [
             [
              0,
              "#0d0887"
             ],
             [
              0.1111111111111111,
              "#46039f"
             ],
             [
              0.2222222222222222,
              "#7201a8"
             ],
             [
              0.3333333333333333,
              "#9c179e"
             ],
             [
              0.4444444444444444,
              "#bd3786"
             ],
             [
              0.5555555555555556,
              "#d8576b"
             ],
             [
              0.6666666666666666,
              "#ed7953"
             ],
             [
              0.7777777777777778,
              "#fb9f3a"
             ],
             [
              0.8888888888888888,
              "#fdca26"
             ],
             [
              1,
              "#f0f921"
             ]
            ],
            "type": "histogram2dcontour"
           }
          ],
          "mesh3d": [
           {
            "colorbar": {
             "outlinewidth": 0,
             "ticks": ""
            },
            "type": "mesh3d"
           }
          ],
          "parcoords": [
           {
            "line": {
             "colorbar": {
              "outlinewidth": 0,
              "ticks": ""
             }
            },
            "type": "parcoords"
           }
          ],
          "pie": [
           {
            "automargin": true,
            "type": "pie"
           }
          ],
          "scatter": [
           {
            "fillpattern": {
             "fillmode": "overlay",
             "size": 10,
             "solidity": 0.2
            },
            "type": "scatter"
           }
          ],
          "scatter3d": [
           {
            "line": {
             "colorbar": {
              "outlinewidth": 0,
              "ticks": ""
             }
            },
            "marker": {
             "colorbar": {
              "outlinewidth": 0,
              "ticks": ""
             }
            },
            "type": "scatter3d"
           }
          ],
          "scattercarpet": [
           {
            "marker": {
             "colorbar": {
              "outlinewidth": 0,
              "ticks": ""
             }
            },
            "type": "scattercarpet"
           }
          ],
          "scattergeo": [
           {
            "marker": {
             "colorbar": {
              "outlinewidth": 0,
              "ticks": ""
             }
            },
            "type": "scattergeo"
           }
          ],
          "scattergl": [
           {
            "marker": {
             "colorbar": {
              "outlinewidth": 0,
              "ticks": ""
             }
            },
            "type": "scattergl"
           }
          ],
          "scattermapbox": [
           {
            "marker": {
             "colorbar": {
              "outlinewidth": 0,
              "ticks": ""
             }
            },
            "type": "scattermapbox"
           }
          ],
          "scatterpolar": [
           {
            "marker": {
             "colorbar": {
              "outlinewidth": 0,
              "ticks": ""
             }
            },
            "type": "scatterpolar"
           }
          ],
          "scatterpolargl": [
           {
            "marker": {
             "colorbar": {
              "outlinewidth": 0,
              "ticks": ""
             }
            },
            "type": "scatterpolargl"
           }
          ],
          "scatterternary": [
           {
            "marker": {
             "colorbar": {
              "outlinewidth": 0,
              "ticks": ""
             }
            },
            "type": "scatterternary"
           }
          ],
          "surface": [
           {
            "colorbar": {
             "outlinewidth": 0,
             "ticks": ""
            },
            "colorscale": [
             [
              0,
              "#0d0887"
             ],
             [
              0.1111111111111111,
              "#46039f"
             ],
             [
              0.2222222222222222,
              "#7201a8"
             ],
             [
              0.3333333333333333,
              "#9c179e"
             ],
             [
              0.4444444444444444,
              "#bd3786"
             ],
             [
              0.5555555555555556,
              "#d8576b"
             ],
             [
              0.6666666666666666,
              "#ed7953"
             ],
             [
              0.7777777777777778,
              "#fb9f3a"
             ],
             [
              0.8888888888888888,
              "#fdca26"
             ],
             [
              1,
              "#f0f921"
             ]
            ],
            "type": "surface"
           }
          ],
          "table": [
           {
            "cells": {
             "fill": {
              "color": "#EBF0F8"
             },
             "line": {
              "color": "white"
             }
            },
            "header": {
             "fill": {
              "color": "#C8D4E3"
             },
             "line": {
              "color": "white"
             }
            },
            "type": "table"
           }
          ]
         },
         "layout": {
          "annotationdefaults": {
           "arrowcolor": "#2a3f5f",
           "arrowhead": 0,
           "arrowwidth": 1
          },
          "autotypenumbers": "strict",
          "coloraxis": {
           "colorbar": {
            "outlinewidth": 0,
            "ticks": ""
           }
          },
          "colorscale": {
           "diverging": [
            [
             0,
             "#8e0152"
            ],
            [
             0.1,
             "#c51b7d"
            ],
            [
             0.2,
             "#de77ae"
            ],
            [
             0.3,
             "#f1b6da"
            ],
            [
             0.4,
             "#fde0ef"
            ],
            [
             0.5,
             "#f7f7f7"
            ],
            [
             0.6,
             "#e6f5d0"
            ],
            [
             0.7,
             "#b8e186"
            ],
            [
             0.8,
             "#7fbc41"
            ],
            [
             0.9,
             "#4d9221"
            ],
            [
             1,
             "#276419"
            ]
           ],
           "sequential": [
            [
             0,
             "#0d0887"
            ],
            [
             0.1111111111111111,
             "#46039f"
            ],
            [
             0.2222222222222222,
             "#7201a8"
            ],
            [
             0.3333333333333333,
             "#9c179e"
            ],
            [
             0.4444444444444444,
             "#bd3786"
            ],
            [
             0.5555555555555556,
             "#d8576b"
            ],
            [
             0.6666666666666666,
             "#ed7953"
            ],
            [
             0.7777777777777778,
             "#fb9f3a"
            ],
            [
             0.8888888888888888,
             "#fdca26"
            ],
            [
             1,
             "#f0f921"
            ]
           ],
           "sequentialminus": [
            [
             0,
             "#0d0887"
            ],
            [
             0.1111111111111111,
             "#46039f"
            ],
            [
             0.2222222222222222,
             "#7201a8"
            ],
            [
             0.3333333333333333,
             "#9c179e"
            ],
            [
             0.4444444444444444,
             "#bd3786"
            ],
            [
             0.5555555555555556,
             "#d8576b"
            ],
            [
             0.6666666666666666,
             "#ed7953"
            ],
            [
             0.7777777777777778,
             "#fb9f3a"
            ],
            [
             0.8888888888888888,
             "#fdca26"
            ],
            [
             1,
             "#f0f921"
            ]
           ]
          },
          "colorway": [
           "#636efa",
           "#EF553B",
           "#00cc96",
           "#ab63fa",
           "#FFA15A",
           "#19d3f3",
           "#FF6692",
           "#B6E880",
           "#FF97FF",
           "#FECB52"
          ],
          "font": {
           "color": "#2a3f5f"
          },
          "geo": {
           "bgcolor": "white",
           "lakecolor": "white",
           "landcolor": "white",
           "showlakes": true,
           "showland": true,
           "subunitcolor": "#C8D4E3"
          },
          "hoverlabel": {
           "align": "left"
          },
          "hovermode": "closest",
          "mapbox": {
           "style": "light"
          },
          "paper_bgcolor": "white",
          "plot_bgcolor": "white",
          "polar": {
           "angularaxis": {
            "gridcolor": "#EBF0F8",
            "linecolor": "#EBF0F8",
            "ticks": ""
           },
           "bgcolor": "white",
           "radialaxis": {
            "gridcolor": "#EBF0F8",
            "linecolor": "#EBF0F8",
            "ticks": ""
           }
          },
          "scene": {
           "xaxis": {
            "backgroundcolor": "white",
            "gridcolor": "#DFE8F3",
            "gridwidth": 2,
            "linecolor": "#EBF0F8",
            "showbackground": true,
            "ticks": "",
            "zerolinecolor": "#EBF0F8"
           },
           "yaxis": {
            "backgroundcolor": "white",
            "gridcolor": "#DFE8F3",
            "gridwidth": 2,
            "linecolor": "#EBF0F8",
            "showbackground": true,
            "ticks": "",
            "zerolinecolor": "#EBF0F8"
           },
           "zaxis": {
            "backgroundcolor": "white",
            "gridcolor": "#DFE8F3",
            "gridwidth": 2,
            "linecolor": "#EBF0F8",
            "showbackground": true,
            "ticks": "",
            "zerolinecolor": "#EBF0F8"
           }
          },
          "shapedefaults": {
           "line": {
            "color": "#2a3f5f"
           }
          },
          "ternary": {
           "aaxis": {
            "gridcolor": "#DFE8F3",
            "linecolor": "#A2B1C6",
            "ticks": ""
           },
           "baxis": {
            "gridcolor": "#DFE8F3",
            "linecolor": "#A2B1C6",
            "ticks": ""
           },
           "bgcolor": "white",
           "caxis": {
            "gridcolor": "#DFE8F3",
            "linecolor": "#A2B1C6",
            "ticks": ""
           }
          },
          "title": {
           "x": 0.05
          },
          "xaxis": {
           "automargin": true,
           "gridcolor": "#EBF0F8",
           "linecolor": "#EBF0F8",
           "ticks": "",
           "title": {
            "standoff": 15
           },
           "zerolinecolor": "#EBF0F8",
           "zerolinewidth": 2
          },
          "yaxis": {
           "automargin": true,
           "gridcolor": "#EBF0F8",
           "linecolor": "#EBF0F8",
           "ticks": "",
           "title": {
            "standoff": 15
           },
           "zerolinecolor": "#EBF0F8",
           "zerolinewidth": 2
          }
         }
        },
        "title": {
         "text": "Cross-Validation (N=5) Mean F1 score with Error Bands"
        },
        "xaxis": {
         "title": {
          "text": "Training Steps"
         }
        },
        "yaxis": {
         "range": [
          0.5,
          1
         ],
         "title": {
          "text": "Performance Score"
         }
        }
       }
      }
     },
     "metadata": {},
     "output_type": "display_data"
    },
    {
     "data": {
      "application/vnd.plotly.v1+json": {
       "config": {
        "plotlyServerURL": "https://plot.ly"
       },
       "data": [
        {
         "line": {
          "color": "blue"
         },
         "mode": "lines",
         "name": "Mean logloss",
         "type": "scatter",
         "x": [
          0,
          1,
          2,
          3,
          4,
          5,
          6,
          7,
          8,
          9,
          10,
          11,
          12,
          13,
          14,
          15,
          16,
          17,
          18,
          19,
          20,
          21,
          22,
          23,
          24,
          25,
          26,
          27,
          28,
          29,
          30,
          31,
          32,
          33,
          34,
          35,
          36,
          37,
          38,
          39,
          40,
          41,
          42,
          43,
          44,
          45,
          46,
          47,
          48,
          49,
          50,
          51,
          52,
          53,
          54,
          55,
          56,
          57,
          58,
          59,
          60,
          61,
          62,
          63,
          64,
          65,
          66,
          67,
          68,
          69,
          70,
          71,
          72,
          73,
          74,
          75,
          76,
          77,
          78,
          79,
          80,
          81,
          82,
          83,
          84,
          85,
          86,
          87,
          88,
          89,
          90,
          91,
          92,
          93,
          94,
          95,
          96,
          97,
          98,
          99,
          100
         ],
         "y": [
          0.6589789115789962,
          0.5999652964095302,
          0.58951251513018,
          0.5722839048063275,
          0.5558225480976204,
          0.5450057069054093,
          0.5369503935678516,
          0.5287964097549775,
          0.5256487324365475,
          0.5230112027469529,
          0.5164740992606608,
          0.513230402604699,
          0.5105689621726868,
          0.5087625444210648,
          0.5087341350409869,
          0.5065774241444934,
          0.5045164654405261,
          0.5000392721101474,
          0.4992255744678024,
          0.4956209617001723,
          0.4943146268457173,
          0.4913218890469452,
          0.4938751193062751,
          0.4907364753255187,
          0.4915821220199206,
          0.4917208281367157,
          0.4917474094236466,
          0.4926103159781223,
          0.4923147340845176,
          0.495016072895776,
          0.4923266745303271,
          0.4927067281367631,
          0.4907174253806148,
          0.4891567445931526,
          0.4911913696965014,
          0.4912475271466697,
          0.4912248617591831,
          0.491200684665354,
          0.4940939705369372,
          0.4978442763374048,
          0.5008976491169232,
          0.5017347100786375,
          0.5011201955048505,
          0.4987374849413987,
          0.5019706472036212,
          0.5045789502946721,
          0.509485391065983,
          0.5068005820299449,
          0.5076195025025013,
          0.5104494179264529,
          0.5133443968130955,
          0.5125383669122949,
          0.5089183835990526,
          0.5108304793688001,
          0.5113392864605478,
          0.5135778038336343,
          0.5162840414966509,
          0.5207170796919801,
          0.5218958612332611,
          0.5242951148143054,
          0.53019110142055,
          0.5394931623331345,
          0.5382693400890574,
          0.5383610243527922,
          0.542733071779908,
          0.5417722832544205,
          0.5425900679565746,
          0.5419648549637566,
          0.5390993683803389,
          0.5395696325566667,
          0.5396738970688626,
          0.5405929413596898,
          0.5399838303546364,
          0.5396761849175901,
          0.5427311932900849,
          0.5431381873190281,
          0.5440048309179911,
          0.5452158888823447,
          0.548135787684533,
          0.5523349291121233,
          0.5543861380335946,
          0.5541700503092548,
          0.5539963510446071,
          0.5526758088419722,
          0.5529577713799246,
          0.5564776814151379,
          0.558897682535964,
          0.5608555255629195,
          0.5624563739753692,
          0.5631144068750243,
          0.5635199671048345,
          0.5658761837962001,
          0.5676254562619554,
          0.570201269277423,
          0.5715478648668983,
          0.5747144785285679,
          0.5752008433120214,
          0.5750573791741247,
          0.5750577786299345,
          0.5755567842593875,
          0.5755369406939762
         ]
        },
        {
         "fill": "toself",
         "fillcolor": "rgba(0, 0, 255, 0.2)",
         "line": {
          "color": "rgba(255, 255, 255, 0)"
         },
         "showlegend": false,
         "type": "scatter",
         "x": [
          0,
          1,
          2,
          3,
          4,
          5,
          6,
          7,
          8,
          9,
          10,
          11,
          12,
          13,
          14,
          15,
          16,
          17,
          18,
          19,
          20,
          21,
          22,
          23,
          24,
          25,
          26,
          27,
          28,
          29,
          30,
          31,
          32,
          33,
          34,
          35,
          36,
          37,
          38,
          39,
          40,
          41,
          42,
          43,
          44,
          45,
          46,
          47,
          48,
          49,
          50,
          51,
          52,
          53,
          54,
          55,
          56,
          57,
          58,
          59,
          60,
          61,
          62,
          63,
          64,
          65,
          66,
          67,
          68,
          69,
          70,
          71,
          72,
          73,
          74,
          75,
          76,
          77,
          78,
          79,
          80,
          81,
          82,
          83,
          84,
          85,
          86,
          87,
          88,
          89,
          90,
          91,
          92,
          93,
          94,
          95,
          96,
          97,
          98,
          99,
          100,
          100,
          99,
          98,
          97,
          96,
          95,
          94,
          93,
          92,
          91,
          90,
          89,
          88,
          87,
          86,
          85,
          84,
          83,
          82,
          81,
          80,
          79,
          78,
          77,
          76,
          75,
          74,
          73,
          72,
          71,
          70,
          69,
          68,
          67,
          66,
          65,
          64,
          63,
          62,
          61,
          60,
          59,
          58,
          57,
          56,
          55,
          54,
          53,
          52,
          51,
          50,
          49,
          48,
          47,
          46,
          45,
          44,
          43,
          42,
          41,
          40,
          39,
          38,
          37,
          36,
          35,
          34,
          33,
          32,
          31,
          30,
          29,
          28,
          27,
          26,
          25,
          24,
          23,
          22,
          21,
          20,
          19,
          18,
          17,
          16,
          15,
          14,
          13,
          12,
          11,
          10,
          9,
          8,
          7,
          6,
          5,
          4,
          3,
          2,
          1,
          0
         ],
         "y": [
          0.6654256745973519,
          0.6021644260560309,
          0.5944874449055768,
          0.5770494858591272,
          0.5617956627033565,
          0.5523445574360645,
          0.5500493469707892,
          0.5382137710741912,
          0.5341482621501992,
          0.5305055112127445,
          0.5246451182712214,
          0.523624695991056,
          0.522016819731403,
          0.5223016113164234,
          0.5275577125148289,
          0.5245054566385849,
          0.5200815930399126,
          0.5188802781142114,
          0.5202943705088359,
          0.5176216222674294,
          0.5161521551951325,
          0.5165076159475434,
          0.5208631846205742,
          0.5198422483877837,
          0.5187294251509807,
          0.5192189703168978,
          0.5196247679849965,
          0.5221231807683008,
          0.5228515301055192,
          0.5235062771746309,
          0.5225291362078587,
          0.5244914357652403,
          0.5246679871126753,
          0.5262758595100812,
          0.5260256727099897,
          0.528461873411187,
          0.5277048870612507,
          0.5276004239737389,
          0.5308687416483616,
          0.5373419250355459,
          0.5442448815767853,
          0.5441006822509372,
          0.5443156032971488,
          0.5370402267896595,
          0.5372972648085461,
          0.5419320366312966,
          0.5476623091618145,
          0.5499425534303453,
          0.5530100538550354,
          0.5518760520954227,
          0.5562854775680436,
          0.5587743825354614,
          0.5537096826838394,
          0.5556468543003283,
          0.5573587776030686,
          0.5595362971816447,
          0.5637768133044233,
          0.5699249971351263,
          0.5699949519264308,
          0.5691408666115062,
          0.5751323805971618,
          0.5835209675623148,
          0.5865651946661493,
          0.58553281701941,
          0.5896621519610319,
          0.5884581945519819,
          0.5898754094269074,
          0.5878221985523435,
          0.5861201290216889,
          0.5900959427232096,
          0.5924173938322446,
          0.5932828179176153,
          0.5944818737049383,
          0.5921063910857779,
          0.5951156488512261,
          0.5972832603305939,
          0.5990285739385657,
          0.5993161923853964,
          0.6102705719242921,
          0.6152886371180074,
          0.6151653903944034,
          0.6132014088478532,
          0.6136702457931913,
          0.611483342918259,
          0.6114826356921128,
          0.6175142046040171,
          0.6212997625917319,
          0.6243788044762254,
          0.6275571852000291,
          0.6279543734918945,
          0.6283186674112857,
          0.6352111994421682,
          0.6393140049121435,
          0.6421438522127778,
          0.6402256299689018,
          0.6423089190480893,
          0.644326343386392,
          0.6430994403591844,
          0.6446770646295283,
          0.6443125799273626,
          0.645235112283643,
          0.6525321485606406,
          0.5977661667630295,
          0.5845375853547832,
          0.5675183237535278,
          0.5498494334918844,
          0.5376668563747541,
          0.5238514401649139,
          0.5193790484357639,
          0.5171492027228959,
          0.5155168942811613,
          0.5083030802501002,
          0.502836109218342,
          0.49912110461397047,
          0.49522347752570633,
          0.48991055756714486,
          0.4886493916504018,
          0.4889513378411396,
          0.4811982661060834,
          0.478156778426769,
          0.4736203011329152,
          0.4724770984963021,
          0.466136162146347,
          0.4668870539919759,
          0.46163070226325364,
          0.4644348188888604,
          0.4642226859565336,
          0.4638700508622967,
          0.46309745118794393,
          0.46177793806351597,
          0.46652586861692097,
          0.4621242128527955,
          0.4609220205082859,
          0.4567668636485543,
          0.45203762967622413,
          0.4563570666830131,
          0.4540331808821524,
          0.4547448364571155,
          0.4548009453569691,
          0.4573191994255128,
          0.4583466276392637,
          0.45755041665706125,
          0.45936873790633764,
          0.45792478771255235,
          0.46043474309313787,
          0.4666440295986963,
          0.46722586395804766,
          0.4713084729701515,
          0.4636586106295446,
          0.4622289511499672,
          0.46902278375748313,
          0.47040331605814745,
          0.46630235128912845,
          0.46412708451426593,
          0.4660141044372719,
          0.46531979531802703,
          0.4676193104856239,
          0.46879126968887835,
          0.47150916224883394,
          0.47379677054009156,
          0.47944936301710445,
          0.4852498222439383,
          0.4954653571039542,
          0.48997348551196535,
          0.4911892316861744,
          0.49580399159878413,
          0.4950863719568591,
          0.4953047264862418,
          0.4961075113751697,
          0.49207860773898887,
          0.48904332239012366,
          0.4869304003054806,
          0.48790306480176443,
          0.4854857870043345,
          0.4872459787494023,
          0.4903467377289436,
          0.4889931143074623,
          0.4889810878974165,
          0.4911155853792931,
          0.48600100344477376,
          0.4893812211062393,
          0.4936068856727858,
          0.4951386917706564,
          0.4943224562960229,
          0.4938682747656854,
          0.49443290706773646,
          0.49544115822625867,
          0.496495602480196,
          0.4973322466496136,
          0.4973555627507093,
          0.49827444025815415,
          0.49872126679838336,
          0.49654116815023197,
          0.4959369076117673,
          0.49825868634206816,
          0.5028700997648949,
          0.5071200380090466,
          0.5060753432376507,
          0.507015317989065,
          0.5054384926303406,
          0.5068009885914124,
          0.5058387691043094
         ]
        }
       ],
       "layout": {
        "template": {
         "data": {
          "bar": [
           {
            "error_x": {
             "color": "#2a3f5f"
            },
            "error_y": {
             "color": "#2a3f5f"
            },
            "marker": {
             "line": {
              "color": "white",
              "width": 0.5
             },
             "pattern": {
              "fillmode": "overlay",
              "size": 10,
              "solidity": 0.2
             }
            },
            "type": "bar"
           }
          ],
          "barpolar": [
           {
            "marker": {
             "line": {
              "color": "white",
              "width": 0.5
             },
             "pattern": {
              "fillmode": "overlay",
              "size": 10,
              "solidity": 0.2
             }
            },
            "type": "barpolar"
           }
          ],
          "carpet": [
           {
            "aaxis": {
             "endlinecolor": "#2a3f5f",
             "gridcolor": "#C8D4E3",
             "linecolor": "#C8D4E3",
             "minorgridcolor": "#C8D4E3",
             "startlinecolor": "#2a3f5f"
            },
            "baxis": {
             "endlinecolor": "#2a3f5f",
             "gridcolor": "#C8D4E3",
             "linecolor": "#C8D4E3",
             "minorgridcolor": "#C8D4E3",
             "startlinecolor": "#2a3f5f"
            },
            "type": "carpet"
           }
          ],
          "choropleth": [
           {
            "colorbar": {
             "outlinewidth": 0,
             "ticks": ""
            },
            "type": "choropleth"
           }
          ],
          "contour": [
           {
            "colorbar": {
             "outlinewidth": 0,
             "ticks": ""
            },
            "colorscale": [
             [
              0,
              "#0d0887"
             ],
             [
              0.1111111111111111,
              "#46039f"
             ],
             [
              0.2222222222222222,
              "#7201a8"
             ],
             [
              0.3333333333333333,
              "#9c179e"
             ],
             [
              0.4444444444444444,
              "#bd3786"
             ],
             [
              0.5555555555555556,
              "#d8576b"
             ],
             [
              0.6666666666666666,
              "#ed7953"
             ],
             [
              0.7777777777777778,
              "#fb9f3a"
             ],
             [
              0.8888888888888888,
              "#fdca26"
             ],
             [
              1,
              "#f0f921"
             ]
            ],
            "type": "contour"
           }
          ],
          "contourcarpet": [
           {
            "colorbar": {
             "outlinewidth": 0,
             "ticks": ""
            },
            "type": "contourcarpet"
           }
          ],
          "heatmap": [
           {
            "colorbar": {
             "outlinewidth": 0,
             "ticks": ""
            },
            "colorscale": [
             [
              0,
              "#0d0887"
             ],
             [
              0.1111111111111111,
              "#46039f"
             ],
             [
              0.2222222222222222,
              "#7201a8"
             ],
             [
              0.3333333333333333,
              "#9c179e"
             ],
             [
              0.4444444444444444,
              "#bd3786"
             ],
             [
              0.5555555555555556,
              "#d8576b"
             ],
             [
              0.6666666666666666,
              "#ed7953"
             ],
             [
              0.7777777777777778,
              "#fb9f3a"
             ],
             [
              0.8888888888888888,
              "#fdca26"
             ],
             [
              1,
              "#f0f921"
             ]
            ],
            "type": "heatmap"
           }
          ],
          "heatmapgl": [
           {
            "colorbar": {
             "outlinewidth": 0,
             "ticks": ""
            },
            "colorscale": [
             [
              0,
              "#0d0887"
             ],
             [
              0.1111111111111111,
              "#46039f"
             ],
             [
              0.2222222222222222,
              "#7201a8"
             ],
             [
              0.3333333333333333,
              "#9c179e"
             ],
             [
              0.4444444444444444,
              "#bd3786"
             ],
             [
              0.5555555555555556,
              "#d8576b"
             ],
             [
              0.6666666666666666,
              "#ed7953"
             ],
             [
              0.7777777777777778,
              "#fb9f3a"
             ],
             [
              0.8888888888888888,
              "#fdca26"
             ],
             [
              1,
              "#f0f921"
             ]
            ],
            "type": "heatmapgl"
           }
          ],
          "histogram": [
           {
            "marker": {
             "pattern": {
              "fillmode": "overlay",
              "size": 10,
              "solidity": 0.2
             }
            },
            "type": "histogram"
           }
          ],
          "histogram2d": [
           {
            "colorbar": {
             "outlinewidth": 0,
             "ticks": ""
            },
            "colorscale": [
             [
              0,
              "#0d0887"
             ],
             [
              0.1111111111111111,
              "#46039f"
             ],
             [
              0.2222222222222222,
              "#7201a8"
             ],
             [
              0.3333333333333333,
              "#9c179e"
             ],
             [
              0.4444444444444444,
              "#bd3786"
             ],
             [
              0.5555555555555556,
              "#d8576b"
             ],
             [
              0.6666666666666666,
              "#ed7953"
             ],
             [
              0.7777777777777778,
              "#fb9f3a"
             ],
             [
              0.8888888888888888,
              "#fdca26"
             ],
             [
              1,
              "#f0f921"
             ]
            ],
            "type": "histogram2d"
           }
          ],
          "histogram2dcontour": [
           {
            "colorbar": {
             "outlinewidth": 0,
             "ticks": ""
            },
            "colorscale": [
             [
              0,
              "#0d0887"
             ],
             [
              0.1111111111111111,
              "#46039f"
             ],
             [
              0.2222222222222222,
              "#7201a8"
             ],
             [
              0.3333333333333333,
              "#9c179e"
             ],
             [
              0.4444444444444444,
              "#bd3786"
             ],
             [
              0.5555555555555556,
              "#d8576b"
             ],
             [
              0.6666666666666666,
              "#ed7953"
             ],
             [
              0.7777777777777778,
              "#fb9f3a"
             ],
             [
              0.8888888888888888,
              "#fdca26"
             ],
             [
              1,
              "#f0f921"
             ]
            ],
            "type": "histogram2dcontour"
           }
          ],
          "mesh3d": [
           {
            "colorbar": {
             "outlinewidth": 0,
             "ticks": ""
            },
            "type": "mesh3d"
           }
          ],
          "parcoords": [
           {
            "line": {
             "colorbar": {
              "outlinewidth": 0,
              "ticks": ""
             }
            },
            "type": "parcoords"
           }
          ],
          "pie": [
           {
            "automargin": true,
            "type": "pie"
           }
          ],
          "scatter": [
           {
            "fillpattern": {
             "fillmode": "overlay",
             "size": 10,
             "solidity": 0.2
            },
            "type": "scatter"
           }
          ],
          "scatter3d": [
           {
            "line": {
             "colorbar": {
              "outlinewidth": 0,
              "ticks": ""
             }
            },
            "marker": {
             "colorbar": {
              "outlinewidth": 0,
              "ticks": ""
             }
            },
            "type": "scatter3d"
           }
          ],
          "scattercarpet": [
           {
            "marker": {
             "colorbar": {
              "outlinewidth": 0,
              "ticks": ""
             }
            },
            "type": "scattercarpet"
           }
          ],
          "scattergeo": [
           {
            "marker": {
             "colorbar": {
              "outlinewidth": 0,
              "ticks": ""
             }
            },
            "type": "scattergeo"
           }
          ],
          "scattergl": [
           {
            "marker": {
             "colorbar": {
              "outlinewidth": 0,
              "ticks": ""
             }
            },
            "type": "scattergl"
           }
          ],
          "scattermapbox": [
           {
            "marker": {
             "colorbar": {
              "outlinewidth": 0,
              "ticks": ""
             }
            },
            "type": "scattermapbox"
           }
          ],
          "scatterpolar": [
           {
            "marker": {
             "colorbar": {
              "outlinewidth": 0,
              "ticks": ""
             }
            },
            "type": "scatterpolar"
           }
          ],
          "scatterpolargl": [
           {
            "marker": {
             "colorbar": {
              "outlinewidth": 0,
              "ticks": ""
             }
            },
            "type": "scatterpolargl"
           }
          ],
          "scatterternary": [
           {
            "marker": {
             "colorbar": {
              "outlinewidth": 0,
              "ticks": ""
             }
            },
            "type": "scatterternary"
           }
          ],
          "surface": [
           {
            "colorbar": {
             "outlinewidth": 0,
             "ticks": ""
            },
            "colorscale": [
             [
              0,
              "#0d0887"
             ],
             [
              0.1111111111111111,
              "#46039f"
             ],
             [
              0.2222222222222222,
              "#7201a8"
             ],
             [
              0.3333333333333333,
              "#9c179e"
             ],
             [
              0.4444444444444444,
              "#bd3786"
             ],
             [
              0.5555555555555556,
              "#d8576b"
             ],
             [
              0.6666666666666666,
              "#ed7953"
             ],
             [
              0.7777777777777778,
              "#fb9f3a"
             ],
             [
              0.8888888888888888,
              "#fdca26"
             ],
             [
              1,
              "#f0f921"
             ]
            ],
            "type": "surface"
           }
          ],
          "table": [
           {
            "cells": {
             "fill": {
              "color": "#EBF0F8"
             },
             "line": {
              "color": "white"
             }
            },
            "header": {
             "fill": {
              "color": "#C8D4E3"
             },
             "line": {
              "color": "white"
             }
            },
            "type": "table"
           }
          ]
         },
         "layout": {
          "annotationdefaults": {
           "arrowcolor": "#2a3f5f",
           "arrowhead": 0,
           "arrowwidth": 1
          },
          "autotypenumbers": "strict",
          "coloraxis": {
           "colorbar": {
            "outlinewidth": 0,
            "ticks": ""
           }
          },
          "colorscale": {
           "diverging": [
            [
             0,
             "#8e0152"
            ],
            [
             0.1,
             "#c51b7d"
            ],
            [
             0.2,
             "#de77ae"
            ],
            [
             0.3,
             "#f1b6da"
            ],
            [
             0.4,
             "#fde0ef"
            ],
            [
             0.5,
             "#f7f7f7"
            ],
            [
             0.6,
             "#e6f5d0"
            ],
            [
             0.7,
             "#b8e186"
            ],
            [
             0.8,
             "#7fbc41"
            ],
            [
             0.9,
             "#4d9221"
            ],
            [
             1,
             "#276419"
            ]
           ],
           "sequential": [
            [
             0,
             "#0d0887"
            ],
            [
             0.1111111111111111,
             "#46039f"
            ],
            [
             0.2222222222222222,
             "#7201a8"
            ],
            [
             0.3333333333333333,
             "#9c179e"
            ],
            [
             0.4444444444444444,
             "#bd3786"
            ],
            [
             0.5555555555555556,
             "#d8576b"
            ],
            [
             0.6666666666666666,
             "#ed7953"
            ],
            [
             0.7777777777777778,
             "#fb9f3a"
            ],
            [
             0.8888888888888888,
             "#fdca26"
            ],
            [
             1,
             "#f0f921"
            ]
           ],
           "sequentialminus": [
            [
             0,
             "#0d0887"
            ],
            [
             0.1111111111111111,
             "#46039f"
            ],
            [
             0.2222222222222222,
             "#7201a8"
            ],
            [
             0.3333333333333333,
             "#9c179e"
            ],
            [
             0.4444444444444444,
             "#bd3786"
            ],
            [
             0.5555555555555556,
             "#d8576b"
            ],
            [
             0.6666666666666666,
             "#ed7953"
            ],
            [
             0.7777777777777778,
             "#fb9f3a"
            ],
            [
             0.8888888888888888,
             "#fdca26"
            ],
            [
             1,
             "#f0f921"
            ]
           ]
          },
          "colorway": [
           "#636efa",
           "#EF553B",
           "#00cc96",
           "#ab63fa",
           "#FFA15A",
           "#19d3f3",
           "#FF6692",
           "#B6E880",
           "#FF97FF",
           "#FECB52"
          ],
          "font": {
           "color": "#2a3f5f"
          },
          "geo": {
           "bgcolor": "white",
           "lakecolor": "white",
           "landcolor": "white",
           "showlakes": true,
           "showland": true,
           "subunitcolor": "#C8D4E3"
          },
          "hoverlabel": {
           "align": "left"
          },
          "hovermode": "closest",
          "mapbox": {
           "style": "light"
          },
          "paper_bgcolor": "white",
          "plot_bgcolor": "white",
          "polar": {
           "angularaxis": {
            "gridcolor": "#EBF0F8",
            "linecolor": "#EBF0F8",
            "ticks": ""
           },
           "bgcolor": "white",
           "radialaxis": {
            "gridcolor": "#EBF0F8",
            "linecolor": "#EBF0F8",
            "ticks": ""
           }
          },
          "scene": {
           "xaxis": {
            "backgroundcolor": "white",
            "gridcolor": "#DFE8F3",
            "gridwidth": 2,
            "linecolor": "#EBF0F8",
            "showbackground": true,
            "ticks": "",
            "zerolinecolor": "#EBF0F8"
           },
           "yaxis": {
            "backgroundcolor": "white",
            "gridcolor": "#DFE8F3",
            "gridwidth": 2,
            "linecolor": "#EBF0F8",
            "showbackground": true,
            "ticks": "",
            "zerolinecolor": "#EBF0F8"
           },
           "zaxis": {
            "backgroundcolor": "white",
            "gridcolor": "#DFE8F3",
            "gridwidth": 2,
            "linecolor": "#EBF0F8",
            "showbackground": true,
            "ticks": "",
            "zerolinecolor": "#EBF0F8"
           }
          },
          "shapedefaults": {
           "line": {
            "color": "#2a3f5f"
           }
          },
          "ternary": {
           "aaxis": {
            "gridcolor": "#DFE8F3",
            "linecolor": "#A2B1C6",
            "ticks": ""
           },
           "baxis": {
            "gridcolor": "#DFE8F3",
            "linecolor": "#A2B1C6",
            "ticks": ""
           },
           "bgcolor": "white",
           "caxis": {
            "gridcolor": "#DFE8F3",
            "linecolor": "#A2B1C6",
            "ticks": ""
           }
          },
          "title": {
           "x": 0.05
          },
          "xaxis": {
           "automargin": true,
           "gridcolor": "#EBF0F8",
           "linecolor": "#EBF0F8",
           "ticks": "",
           "title": {
            "standoff": 15
           },
           "zerolinecolor": "#EBF0F8",
           "zerolinewidth": 2
          },
          "yaxis": {
           "automargin": true,
           "gridcolor": "#EBF0F8",
           "linecolor": "#EBF0F8",
           "ticks": "",
           "title": {
            "standoff": 15
           },
           "zerolinecolor": "#EBF0F8",
           "zerolinewidth": 2
          }
         }
        },
        "title": {
         "text": "Cross-Validation (N=5) Mean Logloss with Error Bands"
        },
        "xaxis": {
         "title": {
          "text": "Training Steps"
         }
        },
        "yaxis": {
         "title": {
          "text": "Logloss"
         }
        }
       }
      }
     },
     "metadata": {},
     "output_type": "display_data"
    },
    {
     "name": "stdout",
     "output_type": "stream",
     "text": [
      "🏃 View run mercurial-vole-667 at: http://127.0.0.1:5000/#/experiments/128344922105132214/runs/cd92e368d2e947c3b767a150ad2ca4ca\n",
      "🧪 View experiment at: http://127.0.0.1:5000/#/experiments/128344922105132214\n"
     ]
    }
   ],
   "source": [
    "from ARISA_DSML.train import train\n",
    "params = joblib.load(best_params_path)\n",
    "experiment_id = get_or_create_experiment(\"titanic_full_training\")\n",
    "mlflow.set_experiment(experiment_id=experiment_id)\n",
    "cv_results = pd.read_csv(cv_output_path)\n",
    "model_path, model_params_path = train(X_train, y_train, categorical_indices, params, cv_results=cv_results)"
   ]
  },
  {
   "cell_type": "markdown",
   "id": "11d6658f-ac2b-4a8f-a872-b66bbcf4b19b",
   "metadata": {
    "editable": false,
    "slideshow": {
     "slide_type": "slide"
    },
    "tags": []
   },
   "source": [
    "And now for the test set, because of our refactor, we don't need to copy paste anymore:"
   ]
  },
  {
   "cell_type": "code",
   "execution_count": 50,
   "id": "ea7b6f53-6b16-453f-b0b8-336f0b8ceee1",
   "metadata": {
    "editable": true,
    "slideshow": {
     "slide_type": "subslide"
    },
    "tags": []
   },
   "outputs": [
    {
     "name": "stderr",
     "output_type": "stream",
     "text": [
      "/home/lkwasniewski/repos/00001_Studia/MLOPSGradedFinal/ARISA_DSML/preproc.py:33: FutureWarning:\n",
      "\n",
      "Downcasting object dtype arrays on .fillna, .ffill, .bfill is deprecated and will change in a future version. Call result.infer_objects(copy=False) instead. To opt-in to the future behavior, set `pd.set_option('future.no_silent_downcasting', True)`\n",
      "\n",
      "/home/lkwasniewski/repos/00001_Studia/MLOPSGradedFinal/ARISA_DSML/preproc.py:33: FutureWarning:\n",
      "\n",
      "Downcasting object dtype arrays on .fillna, .ffill, .bfill is deprecated and will change in a future version. Call result.infer_objects(copy=False) instead. To opt-in to the future behavior, set `pd.set_option('future.no_silent_downcasting', True)`\n",
      "\n",
      "/home/lkwasniewski/repos/00001_Studia/MLOPSGradedFinal/ARISA_DSML/preproc.py:33: FutureWarning:\n",
      "\n",
      "Downcasting object dtype arrays on .fillna, .ffill, .bfill is deprecated and will change in a future version. Call result.infer_objects(copy=False) instead. To opt-in to the future behavior, set `pd.set_option('future.no_silent_downcasting', True)`\n",
      "\n",
      "/home/lkwasniewski/repos/00001_Studia/MLOPSGradedFinal/ARISA_DSML/preproc.py:33: FutureWarning:\n",
      "\n",
      "Downcasting object dtype arrays on .fillna, .ffill, .bfill is deprecated and will change in a future version. Call result.infer_objects(copy=False) instead. To opt-in to the future behavior, set `pd.set_option('future.no_silent_downcasting', True)`\n",
      "\n"
     ]
    },
    {
     "data": {
      "text/html": [
       "<div>\n",
       "<style scoped>\n",
       "    .dataframe tbody tr th:only-of-type {\n",
       "        vertical-align: middle;\n",
       "    }\n",
       "\n",
       "    .dataframe tbody tr th {\n",
       "        vertical-align: top;\n",
       "    }\n",
       "\n",
       "    .dataframe thead th {\n",
       "        text-align: right;\n",
       "    }\n",
       "</style>\n",
       "<table border=\"1\" class=\"dataframe\">\n",
       "  <thead>\n",
       "    <tr style=\"text-align: right;\">\n",
       "      <th></th>\n",
       "      <th>Pregnancies</th>\n",
       "      <th>Glucose</th>\n",
       "      <th>BloodPressure</th>\n",
       "      <th>SkinThickness</th>\n",
       "      <th>Insulin</th>\n",
       "      <th>BMI</th>\n",
       "      <th>DiabetesPedigreeFunction</th>\n",
       "      <th>Age</th>\n",
       "      <th>Outcome</th>\n",
       "    </tr>\n",
       "  </thead>\n",
       "  <tbody>\n",
       "    <tr>\n",
       "      <th>0</th>\n",
       "      <td>6</td>\n",
       "      <td>148</td>\n",
       "      <td>72.0</td>\n",
       "      <td>35.0</td>\n",
       "      <td>131.0</td>\n",
       "      <td>33.6</td>\n",
       "      <td>0.627</td>\n",
       "      <td>50</td>\n",
       "      <td>1</td>\n",
       "    </tr>\n",
       "    <tr>\n",
       "      <th>1</th>\n",
       "      <td>1</td>\n",
       "      <td>85</td>\n",
       "      <td>66.0</td>\n",
       "      <td>29.0</td>\n",
       "      <td>131.0</td>\n",
       "      <td>26.6</td>\n",
       "      <td>0.351</td>\n",
       "      <td>31</td>\n",
       "      <td>0</td>\n",
       "    </tr>\n",
       "    <tr>\n",
       "      <th>2</th>\n",
       "      <td>8</td>\n",
       "      <td>183</td>\n",
       "      <td>64.0</td>\n",
       "      <td>33.5</td>\n",
       "      <td>131.0</td>\n",
       "      <td>23.3</td>\n",
       "      <td>0.672</td>\n",
       "      <td>32</td>\n",
       "      <td>1</td>\n",
       "    </tr>\n",
       "    <tr>\n",
       "      <th>3</th>\n",
       "      <td>1</td>\n",
       "      <td>89</td>\n",
       "      <td>66.0</td>\n",
       "      <td>23.0</td>\n",
       "      <td>94.0</td>\n",
       "      <td>28.1</td>\n",
       "      <td>0.167</td>\n",
       "      <td>21</td>\n",
       "      <td>0</td>\n",
       "    </tr>\n",
       "    <tr>\n",
       "      <th>4</th>\n",
       "      <td>0</td>\n",
       "      <td>137</td>\n",
       "      <td>40.0</td>\n",
       "      <td>35.0</td>\n",
       "      <td>168.0</td>\n",
       "      <td>43.1</td>\n",
       "      <td>2.288</td>\n",
       "      <td>33</td>\n",
       "      <td>1</td>\n",
       "    </tr>\n",
       "  </tbody>\n",
       "</table>\n",
       "</div>"
      ],
      "text/plain": [
       "   Pregnancies  Glucose  BloodPressure  SkinThickness  Insulin   BMI  \\\n",
       "0            6      148           72.0           35.0    131.0  33.6   \n",
       "1            1       85           66.0           29.0    131.0  26.6   \n",
       "2            8      183           64.0           33.5    131.0  23.3   \n",
       "3            1       89           66.0           23.0     94.0  28.1   \n",
       "4            0      137           40.0           35.0    168.0  43.1   \n",
       "\n",
       "   DiabetesPedigreeFunction  Age  Outcome  \n",
       "0                     0.627   50        1  \n",
       "1                     0.351   31        0  \n",
       "2                     0.672   32        1  \n",
       "3                     0.167   21        0  \n",
       "4                     2.288   33        1  "
      ]
     },
     "execution_count": 50,
     "metadata": {},
     "output_type": "execute_result"
    }
   ],
   "source": [
    "dataset_test_path = RAW_DATA_DIR / \"test.csv\"\n",
    "preprocced_test_path = preprocess_df(dataset_test_path)\n",
    "df_test = pd.read_csv(preprocced_test_path)\n",
    "df_test[\"Age\"].unique()\n",
    "\n",
    "df_test.head()"
   ]
  },
  {
   "cell_type": "code",
   "execution_count": 51,
   "id": "c0576580",
   "metadata": {},
   "outputs": [
    {
     "data": {
      "text/html": [
       "<div>\n",
       "<style scoped>\n",
       "    .dataframe tbody tr th:only-of-type {\n",
       "        vertical-align: middle;\n",
       "    }\n",
       "\n",
       "    .dataframe tbody tr th {\n",
       "        vertical-align: top;\n",
       "    }\n",
       "\n",
       "    .dataframe thead th {\n",
       "        text-align: right;\n",
       "    }\n",
       "</style>\n",
       "<table border=\"1\" class=\"dataframe\">\n",
       "  <thead>\n",
       "    <tr style=\"text-align: right;\">\n",
       "      <th></th>\n",
       "      <th>Pregnancies</th>\n",
       "      <th>Glucose</th>\n",
       "      <th>BloodPressure</th>\n",
       "      <th>SkinThickness</th>\n",
       "      <th>Insulin</th>\n",
       "      <th>BMI</th>\n",
       "      <th>DiabetesPedigreeFunction</th>\n",
       "      <th>Age</th>\n",
       "    </tr>\n",
       "  </thead>\n",
       "  <tbody>\n",
       "    <tr>\n",
       "      <th>0</th>\n",
       "      <td>6</td>\n",
       "      <td>148.0</td>\n",
       "      <td>72.0</td>\n",
       "      <td>35.0</td>\n",
       "      <td>125.0</td>\n",
       "      <td>33.6</td>\n",
       "      <td>0.627</td>\n",
       "      <td>50</td>\n",
       "    </tr>\n",
       "    <tr>\n",
       "      <th>1</th>\n",
       "      <td>1</td>\n",
       "      <td>85.0</td>\n",
       "      <td>66.0</td>\n",
       "      <td>29.0</td>\n",
       "      <td>125.0</td>\n",
       "      <td>26.6</td>\n",
       "      <td>0.351</td>\n",
       "      <td>31</td>\n",
       "    </tr>\n",
       "    <tr>\n",
       "      <th>2</th>\n",
       "      <td>8</td>\n",
       "      <td>183.0</td>\n",
       "      <td>64.0</td>\n",
       "      <td>29.0</td>\n",
       "      <td>125.0</td>\n",
       "      <td>23.3</td>\n",
       "      <td>0.672</td>\n",
       "      <td>32</td>\n",
       "    </tr>\n",
       "    <tr>\n",
       "      <th>3</th>\n",
       "      <td>1</td>\n",
       "      <td>89.0</td>\n",
       "      <td>66.0</td>\n",
       "      <td>23.0</td>\n",
       "      <td>94.0</td>\n",
       "      <td>28.1</td>\n",
       "      <td>0.167</td>\n",
       "      <td>21</td>\n",
       "    </tr>\n",
       "    <tr>\n",
       "      <th>4</th>\n",
       "      <td>0</td>\n",
       "      <td>137.0</td>\n",
       "      <td>40.0</td>\n",
       "      <td>35.0</td>\n",
       "      <td>168.0</td>\n",
       "      <td>43.1</td>\n",
       "      <td>2.288</td>\n",
       "      <td>33</td>\n",
       "    </tr>\n",
       "  </tbody>\n",
       "</table>\n",
       "</div>"
      ],
      "text/plain": [
       "   Pregnancies  Glucose  BloodPressure  SkinThickness  Insulin   BMI  \\\n",
       "0            6    148.0           72.0           35.0    125.0  33.6   \n",
       "1            1     85.0           66.0           29.0    125.0  26.6   \n",
       "2            8    183.0           64.0           29.0    125.0  23.3   \n",
       "3            1     89.0           66.0           23.0     94.0  28.1   \n",
       "4            0    137.0           40.0           35.0    168.0  43.1   \n",
       "\n",
       "   DiabetesPedigreeFunction  Age  \n",
       "0                     0.627   50  \n",
       "1                     0.351   31  \n",
       "2                     0.672   32  \n",
       "3                     0.167   21  \n",
       "4                     2.288   33  "
      ]
     },
     "execution_count": 51,
     "metadata": {},
     "output_type": "execute_result"
    }
   ],
   "source": [
    "df_train.head()"
   ]
  },
  {
   "cell_type": "markdown",
   "id": "bae031a2",
   "metadata": {},
   "source": [
    "Get predictions and shap plot:"
   ]
  },
  {
   "cell_type": "code",
   "execution_count": 57,
   "id": "3f9e330a",
   "metadata": {},
   "outputs": [
    {
     "name": "stderr",
     "output_type": "stream",
     "text": [
      "/tmp/ipykernel_84223/3754724260.py:16: FutureWarning:\n",
      "\n",
      "``mlflow.tracking.client.MlflowClient.get_latest_versions`` is deprecated since 2.9.0. Model registry stages will be removed in a future major release. To learn more about the deprecation of model registry stages, see our migration guide here: https://mlflow.org/docs/latest/model-registry.html#migrating-from-stages\n",
      "\n"
     ]
    },
    {
     "ename": "KeyError",
     "evalue": "\"['Pregnancies', 'Glucose', 'BloodPressure', 'SkinThickness', 'Insulin', 'BMI', 'DiabetesPedigreeFunction', 'Age']\"",
     "output_type": "error",
     "traceback": [
      "\u001b[31m---------------------------------------------------------------------------\u001b[39m",
      "\u001b[31mKeyError\u001b[39m                                  Traceback (most recent call last)",
      "\u001b[36mFile \u001b[39m\u001b[32m~/repos/00001_Studia/.venv-mlops/lib/python3.11/site-packages/pandas/core/indexes/base.py:3805\u001b[39m, in \u001b[36mIndex.get_loc\u001b[39m\u001b[34m(self, key)\u001b[39m\n\u001b[32m   3804\u001b[39m \u001b[38;5;28;01mtry\u001b[39;00m:\n\u001b[32m-> \u001b[39m\u001b[32m3805\u001b[39m     \u001b[38;5;28;01mreturn\u001b[39;00m \u001b[38;5;28;43mself\u001b[39;49m\u001b[43m.\u001b[49m\u001b[43m_engine\u001b[49m\u001b[43m.\u001b[49m\u001b[43mget_loc\u001b[49m\u001b[43m(\u001b[49m\u001b[43mcasted_key\u001b[49m\u001b[43m)\u001b[49m\n\u001b[32m   3806\u001b[39m \u001b[38;5;28;01mexcept\u001b[39;00m \u001b[38;5;167;01mKeyError\u001b[39;00m \u001b[38;5;28;01mas\u001b[39;00m err:\n",
      "\u001b[36mFile \u001b[39m\u001b[32mindex.pyx:167\u001b[39m, in \u001b[36mpandas._libs.index.IndexEngine.get_loc\u001b[39m\u001b[34m()\u001b[39m\n",
      "\u001b[36mFile \u001b[39m\u001b[32mindex.pyx:196\u001b[39m, in \u001b[36mpandas._libs.index.IndexEngine.get_loc\u001b[39m\u001b[34m()\u001b[39m\n",
      "\u001b[36mFile \u001b[39m\u001b[32mpandas/_libs/hashtable_class_helper.pxi:7081\u001b[39m, in \u001b[36mpandas._libs.hashtable.PyObjectHashTable.get_item\u001b[39m\u001b[34m()\u001b[39m\n",
      "\u001b[36mFile \u001b[39m\u001b[32mpandas/_libs/hashtable_class_helper.pxi:7089\u001b[39m, in \u001b[36mpandas._libs.hashtable.PyObjectHashTable.get_item\u001b[39m\u001b[34m()\u001b[39m\n",
      "\u001b[31mKeyError\u001b[39m: \"['Pregnancies', 'Glucose', 'BloodPressure', 'SkinThickness', 'Insulin', 'BMI', 'DiabetesPedigreeFunction', 'Age']\"",
      "\nThe above exception was the direct cause of the following exception:\n",
      "\u001b[31mKeyError\u001b[39m                                  Traceback (most recent call last)",
      "\u001b[36mCell\u001b[39m\u001b[36m \u001b[39m\u001b[32mIn[57]\u001b[39m\u001b[32m, line 49\u001b[39m\n\u001b[32m     46\u001b[39m         \u001b[38;5;28;01mraise\u001b[39;00m \u001b[38;5;167;01mRuntimeError\u001b[39;00m(\u001b[33m\"\u001b[39m\u001b[33m❌ Cannot resolve feature_columns for prediction.\u001b[39m\u001b[33m\"\u001b[39m) \u001b[38;5;28;01mfrom\u001b[39;00m\u001b[38;5;250m \u001b[39m\u001b[34;01me\u001b[39;00m\n\u001b[32m     48\u001b[39m \u001b[38;5;66;03m# Run prediction\u001b[39;00m\n\u001b[32m---> \u001b[39m\u001b[32m49\u001b[39m preds_path = \u001b[43mpredict\u001b[49m\u001b[43m(\u001b[49m\u001b[43mloaded_model\u001b[49m\u001b[43m,\u001b[49m\u001b[43m \u001b[49m\u001b[43mdf_test\u001b[49m\u001b[43m,\u001b[49m\u001b[43m \u001b[49m\u001b[43mparams\u001b[49m\u001b[43m,\u001b[49m\u001b[43m \u001b[49m\u001b[43mprobs\u001b[49m\u001b[43m=\u001b[49m\u001b[38;5;28;43;01mTrue\u001b[39;49;00m\u001b[43m)\u001b[49m\n\u001b[32m     50\u001b[39m \u001b[38;5;28mprint\u001b[39m(\u001b[33mf\u001b[39m\u001b[33m\"\u001b[39m\u001b[33m✅ Predictions saved to \u001b[39m\u001b[38;5;132;01m{\u001b[39;00mpreds_path\u001b[38;5;132;01m}\u001b[39;00m\u001b[33m\"\u001b[39m)\n",
      "\u001b[36mFile \u001b[39m\u001b[32m~/repos/00001_Studia/MLOPSGradedFinal/ARISA_DSML/predict.py:39\u001b[39m, in \u001b[36mpredict\u001b[39m\u001b[34m(model, df_pred, params, probs)\u001b[39m\n\u001b[32m     36\u001b[39m \u001b[38;5;28;01mif\u001b[39;00m feature_columns \u001b[38;5;129;01mis\u001b[39;00m \u001b[38;5;28;01mNone\u001b[39;00m:\n\u001b[32m     37\u001b[39m     \u001b[38;5;28;01mraise\u001b[39;00m \u001b[38;5;167;01mValueError\u001b[39;00m(\u001b[33m\"\u001b[39m\u001b[33mMissing \u001b[39m\u001b[33m'\u001b[39m\u001b[33mfeature_columns\u001b[39m\u001b[33m'\u001b[39m\u001b[33m in params. Cannot perform prediction.\u001b[39m\u001b[33m\"\u001b[39m)\n\u001b[32m---> \u001b[39m\u001b[32m39\u001b[39m preds = model.predict(\u001b[43mdf_pred\u001b[49m\u001b[43m[\u001b[49m\u001b[43mfeature_columns\u001b[49m\u001b[43m]\u001b[49m)\n\u001b[32m     40\u001b[39m \u001b[38;5;28;01mif\u001b[39;00m probs:\n\u001b[32m     41\u001b[39m     df_pred[\u001b[33m\"\u001b[39m\u001b[33mpredicted_probability\u001b[39m\u001b[33m\"\u001b[39m] = [p[\u001b[32m1\u001b[39m] \u001b[38;5;28;01mfor\u001b[39;00m p \u001b[38;5;129;01min\u001b[39;00m model.predict_proba(df_pred[feature_columns])]\n",
      "\u001b[36mFile \u001b[39m\u001b[32m~/repos/00001_Studia/.venv-mlops/lib/python3.11/site-packages/pandas/core/frame.py:4102\u001b[39m, in \u001b[36mDataFrame.__getitem__\u001b[39m\u001b[34m(self, key)\u001b[39m\n\u001b[32m   4100\u001b[39m \u001b[38;5;28;01mif\u001b[39;00m \u001b[38;5;28mself\u001b[39m.columns.nlevels > \u001b[32m1\u001b[39m:\n\u001b[32m   4101\u001b[39m     \u001b[38;5;28;01mreturn\u001b[39;00m \u001b[38;5;28mself\u001b[39m._getitem_multilevel(key)\n\u001b[32m-> \u001b[39m\u001b[32m4102\u001b[39m indexer = \u001b[38;5;28;43mself\u001b[39;49m\u001b[43m.\u001b[49m\u001b[43mcolumns\u001b[49m\u001b[43m.\u001b[49m\u001b[43mget_loc\u001b[49m\u001b[43m(\u001b[49m\u001b[43mkey\u001b[49m\u001b[43m)\u001b[49m\n\u001b[32m   4103\u001b[39m \u001b[38;5;28;01mif\u001b[39;00m is_integer(indexer):\n\u001b[32m   4104\u001b[39m     indexer = [indexer]\n",
      "\u001b[36mFile \u001b[39m\u001b[32m~/repos/00001_Studia/.venv-mlops/lib/python3.11/site-packages/pandas/core/indexes/base.py:3812\u001b[39m, in \u001b[36mIndex.get_loc\u001b[39m\u001b[34m(self, key)\u001b[39m\n\u001b[32m   3807\u001b[39m     \u001b[38;5;28;01mif\u001b[39;00m \u001b[38;5;28misinstance\u001b[39m(casted_key, \u001b[38;5;28mslice\u001b[39m) \u001b[38;5;129;01mor\u001b[39;00m (\n\u001b[32m   3808\u001b[39m         \u001b[38;5;28misinstance\u001b[39m(casted_key, abc.Iterable)\n\u001b[32m   3809\u001b[39m         \u001b[38;5;129;01mand\u001b[39;00m \u001b[38;5;28many\u001b[39m(\u001b[38;5;28misinstance\u001b[39m(x, \u001b[38;5;28mslice\u001b[39m) \u001b[38;5;28;01mfor\u001b[39;00m x \u001b[38;5;129;01min\u001b[39;00m casted_key)\n\u001b[32m   3810\u001b[39m     ):\n\u001b[32m   3811\u001b[39m         \u001b[38;5;28;01mraise\u001b[39;00m InvalidIndexError(key)\n\u001b[32m-> \u001b[39m\u001b[32m3812\u001b[39m     \u001b[38;5;28;01mraise\u001b[39;00m \u001b[38;5;167;01mKeyError\u001b[39;00m(key) \u001b[38;5;28;01mfrom\u001b[39;00m\u001b[38;5;250m \u001b[39m\u001b[34;01merr\u001b[39;00m\n\u001b[32m   3813\u001b[39m \u001b[38;5;28;01mexcept\u001b[39;00m \u001b[38;5;167;01mTypeError\u001b[39;00m:\n\u001b[32m   3814\u001b[39m     \u001b[38;5;66;03m# If we have a listlike key, _check_indexing_error will raise\u001b[39;00m\n\u001b[32m   3815\u001b[39m     \u001b[38;5;66;03m#  InvalidIndexError. Otherwise we fall through and re-raise\u001b[39;00m\n\u001b[32m   3816\u001b[39m     \u001b[38;5;66;03m#  the TypeError.\u001b[39;00m\n\u001b[32m   3817\u001b[39m     \u001b[38;5;28mself\u001b[39m._check_indexing_error(key)\n",
      "\u001b[31mKeyError\u001b[39m: \"['Pregnancies', 'Glucose', 'BloodPressure', 'SkinThickness', 'Insulin', 'BMI', 'DiabetesPedigreeFunction', 'Age']\""
     ]
    }
   ],
   "source": [
    "import os\n",
    "import json\n",
    "import pandas as pd\n",
    "import mlflow\n",
    "from mlflow.client import MlflowClient\n",
    "import joblib\n",
    "from ARISA_DSML.predict import predict\n",
    "from ARISA_DSML.config import PROCESSED_DATA_DIR, MODELS_DIR\n",
    "\n",
    "# Load diabetes test set\n",
    "df_test = pd.read_csv(PROCESSED_DATA_DIR / \"diabetes.csv\")\n",
    "\n",
    "# Initialize MLflow client and get latest model info\n",
    "client = MlflowClient(mlflow.get_tracking_uri())\n",
    "model_name = \"diabetes-binary-class\"\n",
    "model_info = client.get_latest_versions(model_name)[0]\n",
    "run = client.get_run(model_info.run_id)\n",
    "\n",
    "# Load model\n",
    "_, artifact_folder = os.path.split(model_info.source)\n",
    "model_uri = f\"runs:/{model_info.run_id}/{artifact_folder}\"\n",
    "loaded_model = mlflow.catboost.load_model(model_uri)\n",
    "\n",
    "# Load run parameters\n",
    "run_data_dict = run.data.to_dictionary()\n",
    "params = run_data_dict.get(\"params\", {})\n",
    "\n",
    "# Try to extract feature_columns from signature or fallback to model_params.pkl\n",
    "try:\n",
    "    log_model_meta = json.loads(run.data.tags[\"mlflow.log-model.history\"])\n",
    "    signature = log_model_meta[0].get(\"signature\", None)\n",
    "    if signature:\n",
    "        params[\"feature_columns\"] = [inp[\"name\"] for inp in json.loads(signature[\"inputs\"])]\n",
    "        print(\"✅ Loaded feature_columns from model signature.\")\n",
    "except Exception as e:\n",
    "    print(f\"⚠️ Signature not found or invalid: {e}\")\n",
    "\n",
    "# Fallback: load model_params.pkl if feature_columns is still missing\n",
    "if \"feature_columns\" not in params:\n",
    "    try:\n",
    "        model_params_path = MODELS_DIR / \"model_params.pkl\"\n",
    "        if model_params_path.exists():\n",
    "            params = joblib.load(model_params_path)\n",
    "            print(\"✅ Loaded feature_columns from model_params.pkl.\")\n",
    "    except Exception as e:\n",
    "        raise RuntimeError(\"❌ Cannot resolve feature_columns for prediction.\") from e\n",
    "\n",
    "# Run prediction\n",
    "preds_path = predict(loaded_model, df_test, params, probs=True)\n",
    "print(f\"✅ Predictions saved to {preds_path}\")\n"
   ]
  },
  {
   "cell_type": "markdown",
   "id": "75af8422",
   "metadata": {},
   "source": [
    "And that's it for the Mlflow demo.  "
   ]
  },
  {
   "cell_type": "code",
   "execution_count": 58,
   "id": "96edcf46",
   "metadata": {},
   "outputs": [],
   "source": [
    "from ARISA_DSML.resolve import get_model_by_alias\n",
    "client = MlflowClient(mlflow.get_tracking_uri())\n",
    "champ_mv = get_model_by_alias(client)\n",
    "chall_mv = get_model_by_alias(client, alias=\"challenger\")"
   ]
  },
  {
   "cell_type": "code",
   "execution_count": 59,
   "id": "112b34d8",
   "metadata": {},
   "outputs": [
    {
     "name": "stdout",
     "output_type": "stream",
     "text": [
      "No champion model, predicting using newest model\n"
     ]
    },
    {
     "name": "stderr",
     "output_type": "stream",
     "text": [
      "/tmp/ipykernel_84223/4179445642.py:6: FutureWarning:\n",
      "\n",
      "``mlflow.tracking.client.MlflowClient.get_latest_versions`` is deprecated since 2.9.0. Model registry stages will be removed in a future major release. To learn more about the deprecation of model registry stages, see our migration guide here: https://mlflow.org/docs/latest/model-registry.html#migrating-from-stages\n",
      "\n"
     ]
    },
    {
     "ename": "KeyError",
     "evalue": "'signature'",
     "output_type": "error",
     "traceback": [
      "\u001b[31m---------------------------------------------------------------------------\u001b[39m",
      "\u001b[31mKeyError\u001b[39m                                  Traceback (most recent call last)",
      "\u001b[36mCell\u001b[39m\u001b[36m \u001b[39m\u001b[32mIn[59]\u001b[39m\u001b[32m, line 12\u001b[39m\n\u001b[32m     10\u001b[39m run = client.get_run(model_info.run_id)\n\u001b[32m     11\u001b[39m log_model_meta = json.loads(run.data.tags[\u001b[33m'\u001b[39m\u001b[33mmlflow.log-model.history\u001b[39m\u001b[33m'\u001b[39m])\n\u001b[32m---> \u001b[39m\u001b[32m12\u001b[39m \u001b[43mlog_model_meta\u001b[49m\u001b[43m[\u001b[49m\u001b[32;43m0\u001b[39;49m\u001b[43m]\u001b[49m\u001b[43m[\u001b[49m\u001b[33;43m'\u001b[39;49m\u001b[33;43msignature\u001b[39;49m\u001b[33;43m'\u001b[39;49m\u001b[43m]\u001b[49m\n\u001b[32m     15\u001b[39m _, artifact_folder = os.path.split(model_info.source)\n\u001b[32m     16\u001b[39m model_uri = \u001b[33m\"\u001b[39m\u001b[33mruns:/\u001b[39m\u001b[38;5;132;01m{}\u001b[39;00m\u001b[33m/\u001b[39m\u001b[38;5;132;01m{}\u001b[39;00m\u001b[33m\"\u001b[39m.format(model_info.run_id, artifact_folder)\n",
      "\u001b[31mKeyError\u001b[39m: 'signature'"
     ]
    }
   ],
   "source": [
    "from ARISA_DSML.config import MODEL_NAME\n",
    "client = MlflowClient(mlflow.get_tracking_uri())\n",
    "model_info = get_model_by_alias(client, alias=\"champion\")\n",
    "if model_info is None:\n",
    "    print(\"No champion model, predicting using newest model\")\n",
    "    model_info = client.get_latest_versions(MODEL_NAME)[0]\n",
    "\n",
    "# extract params/metrics data for run `test_run_id` in a single dict \n",
    "run_data_dict = client.get_run(model_info.run_id).data.to_dictionary()\n",
    "run = client.get_run(model_info.run_id)\n",
    "log_model_meta = json.loads(run.data.tags['mlflow.log-model.history'])\n",
    "log_model_meta[0]['signature']\n",
    "\n",
    "\n",
    "_, artifact_folder = os.path.split(model_info.source)\n",
    "model_uri = \"runs:/{}/{}\".format(model_info.run_id, artifact_folder)\n",
    "print(model_uri)\n",
    "loaded_model = mlflow.catboost.load_model(model_uri)\n",
    "\n",
    "params = run_data_dict[\"params\"]\n",
    "params[\"feature_columns\"] = [inp[\"name\"] for inp in json.loads(log_model_meta[0]['signature']['inputs'])]\n",
    "preds_path = predict(loaded_model, df_test, params)\n"
   ]
  },
  {
   "cell_type": "code",
   "execution_count": null,
   "id": "f191b4f2",
   "metadata": {},
   "outputs": [],
   "source": [
    "\n",
    "\n"
   ]
  }
 ],
 "metadata": {
  "kernelspec": {
   "display_name": ".venv-mlops",
   "language": "python",
   "name": "python3"
  },
  "language_info": {
   "codemirror_mode": {
    "name": "ipython",
    "version": 3
   },
   "file_extension": ".py",
   "mimetype": "text/x-python",
   "name": "python",
   "nbconvert_exporter": "python",
   "pygments_lexer": "ipython3",
   "version": "3.11.2"
  }
 },
 "nbformat": 4,
 "nbformat_minor": 5
}
